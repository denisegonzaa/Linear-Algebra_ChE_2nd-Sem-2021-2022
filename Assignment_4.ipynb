{
  "nbformat": 4,
  "nbformat_minor": 0,
  "metadata": {
    "colab": {
      "name": "Assignment 4",
      "provenance": [],
      "collapsed_sections": [],
      "authorship_tag": "ABX9TyPwuj1L4v8UvVP0GFGTqwYD",
      "include_colab_link": true
    },
    "kernelspec": {
      "name": "python3",
      "display_name": "Python 3"
    },
    "language_info": {
      "name": "python"
    }
  },
  "cells": [
    {
      "cell_type": "markdown",
      "metadata": {
        "id": "view-in-github",
        "colab_type": "text"
      },
      "source": [
        "<a href=\"https://colab.research.google.com/github/denisegonzaa/Linear-Algebra_ChE_2nd-Sem-2021-2022/blob/main/Assignment_4.ipynb\" target=\"_parent\"><img src=\"https://colab.research.google.com/assets/colab-badge.svg\" alt=\"Open In Colab\"/></a>"
      ]
    },
    {
      "cell_type": "markdown",
      "source": [
        "## Laboratory 6: Matrix Operation"
      ],
      "metadata": {
        "id": "0qauKwWiOUQ6"
      }
    },
    {
      "cell_type": "markdown",
      "source": [
        "Now that you have a fundamental knowledge about representing and operating with vectors as well as the fundamentals of matrices, we'll try to the same operations with matrices and even more."
      ],
      "metadata": {
        "id": "nEneLRoYOYYK"
      }
    },
    {
      "cell_type": "markdown",
      "source": [
        "### Objectives\n",
        "At the end of this activity you will be able to:\n",
        "1. Be familiar with the fundamental matrix operations.\n",
        "2. Apply the operations to solve intermediate equations.\n",
        "3. Apply matrix algebra in engineering solutions."
      ],
      "metadata": {
        "id": "a20xLwyYOZKJ"
      }
    },
    {
      "cell_type": "markdown",
      "source": [
        "## Discussion"
      ],
      "metadata": {
        "id": "l6oV7NQfOf8x"
      }
    },
    {
      "cell_type": "code",
      "source": [
        "import numpy as np\n",
        "import matplotlib.pyplot as plt\n",
        "%matplotlib inline"
      ],
      "metadata": {
        "id": "Lmg-1A1QOg86"
      },
      "execution_count": 2,
      "outputs": []
    },
    {
      "cell_type": "markdown",
      "source": [
        "## Transposition"
      ],
      "metadata": {
        "id": "TlGQOpmLOlQJ"
      }
    },
    {
      "cell_type": "markdown",
      "source": [
        "One of the "
      ],
      "metadata": {
        "id": "2cGQ8Mm5OrTR"
      }
    },
    {
      "cell_type": "markdown",
      "source": [
        "$$A = \\begin{bmatrix} 3 & 2 & 6\\\\5 & -2 & 2\\\\ 1 & 0 & 7\\end{bmatrix} $$\n"
      ],
      "metadata": {
        "id": "ExhwSf6gOr85"
      }
    },
    {
      "cell_type": "markdown",
      "source": [
        "$$A^T = \\begin{bmatrix} 3 & 5 & 1\\\\2 & -2 & 0 \\\\ 6 & 2 & 7\\end{bmatrix} $$"
      ],
      "metadata": {
        "id": "Yu1Ita-9OvBb"
      }
    },
    {
      "cell_type": "markdown",
      "source": [
        "This can now be achieved"
      ],
      "metadata": {
        "id": "OawtYAzjQZRc"
      }
    },
    {
      "cell_type": "code",
      "source": [
        "A = np.array ([\n",
        "    [3 , 2, 6],\n",
        "    [5 , -2, 2],\n",
        "    [1, 0, 7]\n",
        "])"
      ],
      "metadata": {
        "id": "46bP1EOJQaPB"
      },
      "execution_count": 3,
      "outputs": []
    },
    {
      "cell_type": "code",
      "source": [
        "AT1 = np.transpose(A)\n",
        "AT1"
      ],
      "metadata": {
        "colab": {
          "base_uri": "https://localhost:8080/"
        },
        "id": "bYGf864tQ2ta",
        "outputId": "e057179e-388b-4475-ddf8-5a594f853eb7"
      },
      "execution_count": 4,
      "outputs": [
        {
          "output_type": "execute_result",
          "data": {
            "text/plain": [
              "array([[ 3,  5,  1],\n",
              "       [ 2, -2,  0],\n",
              "       [ 6,  2,  7]])"
            ]
          },
          "metadata": {},
          "execution_count": 4
        }
      ]
    },
    {
      "cell_type": "code",
      "source": [
        "AT2 = A.T\n",
        "AT2"
      ],
      "metadata": {
        "colab": {
          "base_uri": "https://localhost:8080/"
        },
        "id": "ZXYd0gOJRA3g",
        "outputId": "c8ea36bf-66eb-42fa-864a-3942aca5aa68"
      },
      "execution_count": 5,
      "outputs": [
        {
          "output_type": "execute_result",
          "data": {
            "text/plain": [
              "array([[ 3,  5,  1],\n",
              "       [ 2, -2,  0],\n",
              "       [ 6,  2,  7]])"
            ]
          },
          "metadata": {},
          "execution_count": 5
        }
      ]
    },
    {
      "cell_type": "code",
      "source": [
        "np.array_equiv(AT1, AT2)"
      ],
      "metadata": {
        "colab": {
          "base_uri": "https://localhost:8080/"
        },
        "id": "b2InP9tJTvI2",
        "outputId": "99367ff0-3832-4599-94cf-8871d926dde0"
      },
      "execution_count": 6,
      "outputs": [
        {
          "output_type": "execute_result",
          "data": {
            "text/plain": [
              "True"
            ]
          },
          "metadata": {},
          "execution_count": 6
        }
      ]
    },
    {
      "cell_type": "code",
      "source": [
        "B = np.array([\n",
        "    [1,4,8,5],\n",
        "    [1,2,0,4],\n",
        "])\n",
        "B.shape"
      ],
      "metadata": {
        "colab": {
          "base_uri": "https://localhost:8080/"
        },
        "id": "RQGE6n21T-ms",
        "outputId": "28b1d804-b286-4b44-c8cf-38c5f3842b4f"
      },
      "execution_count": 7,
      "outputs": [
        {
          "output_type": "execute_result",
          "data": {
            "text/plain": [
              "(2, 4)"
            ]
          },
          "metadata": {},
          "execution_count": 7
        }
      ]
    },
    {
      "cell_type": "code",
      "source": [
        "np.transpose(B).shape"
      ],
      "metadata": {
        "colab": {
          "base_uri": "https://localhost:8080/"
        },
        "id": "zK3zGjDaUA9p",
        "outputId": "eb043f84-bfaf-4f85-b4a9-2170ce2e66c2"
      },
      "execution_count": 8,
      "outputs": [
        {
          "output_type": "execute_result",
          "data": {
            "text/plain": [
              "(4, 2)"
            ]
          },
          "metadata": {},
          "execution_count": 8
        }
      ]
    },
    {
      "cell_type": "code",
      "source": [
        "B.T.shape"
      ],
      "metadata": {
        "colab": {
          "base_uri": "https://localhost:8080/"
        },
        "id": "NY4vXHNzUQjw",
        "outputId": "63f38869-264d-45e0-ac16-0b3881063756"
      },
      "execution_count": 9,
      "outputs": [
        {
          "output_type": "execute_result",
          "data": {
            "text/plain": [
              "(4, 2)"
            ]
          },
          "metadata": {},
          "execution_count": 9
        }
      ]
    },
    {
      "cell_type": "markdown",
      "source": [
        "#### Try to create your own matrix (you can try non-squares) to test transposition."
      ],
      "metadata": {
        "id": "eNfGeCZiUa3X"
      }
    },
    {
      "cell_type": "code",
      "source": [
        "## Try out your code here.\n",
        "Z=np.array([\n",
        "    [5,0,4],\n",
        "    [9,2,1]        \n",
        "])\n",
        "Z.shape"
      ],
      "metadata": {
        "colab": {
          "base_uri": "https://localhost:8080/"
        },
        "id": "3ZooE1CgUnA7",
        "outputId": "328a447e-ec99-4bb4-a7af-7582aa87db3f"
      },
      "execution_count": 10,
      "outputs": [
        {
          "output_type": "execute_result",
          "data": {
            "text/plain": [
              "(2, 3)"
            ]
          },
          "metadata": {},
          "execution_count": 10
        }
      ]
    },
    {
      "cell_type": "code",
      "source": [
        "np.transpose(Z).shape"
      ],
      "metadata": {
        "colab": {
          "base_uri": "https://localhost:8080/"
        },
        "id": "4uE9e6nGU2_p",
        "outputId": "45a0da74-3d11-4710-d5c1-b2d561f715ac"
      },
      "execution_count": 11,
      "outputs": [
        {
          "output_type": "execute_result",
          "data": {
            "text/plain": [
              "(3, 2)"
            ]
          },
          "metadata": {},
          "execution_count": 11
        }
      ]
    },
    {
      "cell_type": "code",
      "source": [
        "Z.T.shape"
      ],
      "metadata": {
        "colab": {
          "base_uri": "https://localhost:8080/"
        },
        "id": "OyP20ha1U81a",
        "outputId": "b4700a3f-6d52-49e1-8c14-02c5cd8b4f1e"
      },
      "execution_count": 12,
      "outputs": [
        {
          "output_type": "execute_result",
          "data": {
            "text/plain": [
              "(3, 2)"
            ]
          },
          "metadata": {},
          "execution_count": 12
        }
      ]
    },
    {
      "cell_type": "code",
      "source": [
        "ZT = Z.T\n",
        "ZT"
      ],
      "metadata": {
        "colab": {
          "base_uri": "https://localhost:8080/"
        },
        "id": "tVG1vK97VBQ4",
        "outputId": "7d1abc90-d511-481f-f3e0-00897a5b4bde"
      },
      "execution_count": 13,
      "outputs": [
        {
          "output_type": "execute_result",
          "data": {
            "text/plain": [
              "array([[5, 9],\n",
              "       [0, 2],\n",
              "       [4, 1]])"
            ]
          },
          "metadata": {},
          "execution_count": 13
        }
      ]
    },
    {
      "cell_type": "markdown",
      "source": [
        "## Dot Product / Inner Product"
      ],
      "metadata": {
        "id": "xZ0C1khLVHox"
      }
    },
    {
      "cell_type": "markdown",
      "source": [
        "If you recall the dot product from laboratory activity before, we will try to implement the same operation with matrices. In matrix dot product we are going to get the sum of products of the vectors by row-column pairs. So if we have two matrices $X$ and $Y$:\n",
        "\n",
        "$$X = \\begin{bmatrix}x_{(0,0)}&x_{(0,1)}\\\\ x_{(1,0)}&x_{(1,1)}\\end{bmatrix}, Y = \\begin{bmatrix}y_{(0,0)}&y_{(0,1)}\\\\ y_{(1,0)}&y_{(1,1)}\\end{bmatrix}$$\n",
        "\n",
        "The dot product will then be computed as:\n",
        "$$X \\cdot Y= \\begin{bmatrix} x_{(0,0)}*y_{(0,0)} + x_{(0,1)}*y_{(1,0)} & x_{(0,0)}*y_{(0,1)} + x_{(0,1)}*y_{(1,1)} \\\\  x_{(1,0)}*y_{(0,0)} + x_{(1,1)}*y_{(1,0)} & x_{(1,0)}*y_{(0,1)} + x_{(1,1)}*y_{(1,1)}\n",
        "\\end{bmatrix}$$\n",
        "\n",
        "So if we assign values to $X$ and $Y$:\n",
        "$$X = \\begin{bmatrix}1&2\\\\ 0&1\\end{bmatrix}, Y = \\begin{bmatrix}-1&0\\\\ 2&2\\end{bmatrix}$$"
      ],
      "metadata": {
        "id": "G0CH5r5jVIqp"
      }
    },
    {
      "cell_type": "markdown",
      "source": [
        "$$X \\cdot Y= \\begin{bmatrix} 1*-1 + 2*2 & 1*0 + 2*2 \\\\  0*-1 + 1*2 & 0*0 + 1*2 \\end{bmatrix} = \\begin{bmatrix} 3 & 4 \\\\2 & 2 \\end{bmatrix}$$\n",
        "This could be achieved programmatically using `np.dot()`, `np.matmul()` or the `@` operator."
      ],
      "metadata": {
        "id": "KQTPQhvqVSgO"
      }
    },
    {
      "cell_type": "code",
      "source": [
        "X = np.array([\n",
        "    [6,1],\n",
        "    [0,4]\n",
        "])\n",
        "Y = np.array([\n",
        "    [-9,4],\n",
        "    [0,1]\n",
        "])"
      ],
      "metadata": {
        "id": "Mu5hA3WeVeKJ"
      },
      "execution_count": 14,
      "outputs": []
    },
    {
      "cell_type": "code",
      "source": [
        "np.array_equiv(X, Y)"
      ],
      "metadata": {
        "colab": {
          "base_uri": "https://localhost:8080/"
        },
        "id": "fdlA1e-5V9SC",
        "outputId": "70d85b06-99cf-44be-c175-9831d295383d"
      },
      "execution_count": 15,
      "outputs": [
        {
          "output_type": "execute_result",
          "data": {
            "text/plain": [
              "False"
            ]
          },
          "metadata": {},
          "execution_count": 15
        }
      ]
    },
    {
      "cell_type": "code",
      "source": [
        "np.dot(X,Y)"
      ],
      "metadata": {
        "colab": {
          "base_uri": "https://localhost:8080/"
        },
        "id": "7vOJUx-iV_J_",
        "outputId": "f51005b7-5c47-41f4-89cb-2d484ddebc0d"
      },
      "execution_count": 16,
      "outputs": [
        {
          "output_type": "execute_result",
          "data": {
            "text/plain": [
              "array([[-54,  25],\n",
              "       [  0,   4]])"
            ]
          },
          "metadata": {},
          "execution_count": 16
        }
      ]
    },
    {
      "cell_type": "code",
      "source": [
        "X.dot(Y)"
      ],
      "metadata": {
        "colab": {
          "base_uri": "https://localhost:8080/"
        },
        "id": "goYniJKOWDmZ",
        "outputId": "97344bbc-f848-43c6-bb76-879bb7943b42"
      },
      "execution_count": 17,
      "outputs": [
        {
          "output_type": "execute_result",
          "data": {
            "text/plain": [
              "array([[-54,  25],\n",
              "       [  0,   4]])"
            ]
          },
          "metadata": {},
          "execution_count": 17
        }
      ]
    },
    {
      "cell_type": "code",
      "source": [
        "X @ Y"
      ],
      "metadata": {
        "colab": {
          "base_uri": "https://localhost:8080/"
        },
        "id": "sfUH0Fj2WOSR",
        "outputId": "3f5843f9-f487-46de-b657-7868a0cdfaac"
      },
      "execution_count": 18,
      "outputs": [
        {
          "output_type": "execute_result",
          "data": {
            "text/plain": [
              "array([[-54,  25],\n",
              "       [  0,   4]])"
            ]
          },
          "metadata": {},
          "execution_count": 18
        }
      ]
    },
    {
      "cell_type": "code",
      "source": [
        "np.matmul(X,Y)"
      ],
      "metadata": {
        "colab": {
          "base_uri": "https://localhost:8080/"
        },
        "id": "90STXMISWP2i",
        "outputId": "2eee8c42-2d07-4229-fef8-8ea2df086e23"
      },
      "execution_count": 19,
      "outputs": [
        {
          "output_type": "execute_result",
          "data": {
            "text/plain": [
              "array([[-54,  25],\n",
              "       [  0,   4]])"
            ]
          },
          "metadata": {},
          "execution_count": 19
        }
      ]
    },
    {
      "cell_type": "code",
      "source": [
        "D = np.array([\n",
        "    [0,5,6],\n",
        "    [9,2,1],\n",
        "    [11,2,7]\n",
        "])\n",
        "E = np.array([\n",
        "    [-1,1,2],\n",
        "    [1,-1,4],\n",
        "    [4,1,2]\n",
        "])"
      ],
      "metadata": {
        "id": "KCckK6-2Wbpm"
      },
      "execution_count": 20,
      "outputs": []
    },
    {
      "cell_type": "code",
      "source": [
        "D @ E"
      ],
      "metadata": {
        "colab": {
          "base_uri": "https://localhost:8080/"
        },
        "id": "ZEXH1DBRXmyc",
        "outputId": "65b30773-09d1-4054-edbd-9dea130c0d41"
      },
      "execution_count": 21,
      "outputs": [
        {
          "output_type": "execute_result",
          "data": {
            "text/plain": [
              "array([[29,  1, 32],\n",
              "       [-3,  8, 28],\n",
              "       [19, 16, 44]])"
            ]
          },
          "metadata": {},
          "execution_count": 21
        }
      ]
    },
    {
      "cell_type": "code",
      "source": [
        "D.dot(E)"
      ],
      "metadata": {
        "colab": {
          "base_uri": "https://localhost:8080/"
        },
        "id": "nruCxQ3MXx74",
        "outputId": "d7909b90-c678-4154-ecad-817cdceb883c"
      },
      "execution_count": 22,
      "outputs": [
        {
          "output_type": "execute_result",
          "data": {
            "text/plain": [
              "array([[29,  1, 32],\n",
              "       [-3,  8, 28],\n",
              "       [19, 16, 44]])"
            ]
          },
          "metadata": {},
          "execution_count": 22
        }
      ]
    },
    {
      "cell_type": "code",
      "source": [
        "np.matmul(D, E)"
      ],
      "metadata": {
        "colab": {
          "base_uri": "https://localhost:8080/"
        },
        "id": "xVQeUzDbX9AK",
        "outputId": "e0bbf907-a358-40e0-9aef-f5fc85eae1fa"
      },
      "execution_count": 23,
      "outputs": [
        {
          "output_type": "execute_result",
          "data": {
            "text/plain": [
              "array([[29,  1, 32],\n",
              "       [-3,  8, 28],\n",
              "       [19, 16, 44]])"
            ]
          },
          "metadata": {},
          "execution_count": 23
        }
      ]
    },
    {
      "cell_type": "code",
      "source": [
        "np.dot(D, E)"
      ],
      "metadata": {
        "colab": {
          "base_uri": "https://localhost:8080/"
        },
        "id": "lMmmta9kYLIp",
        "outputId": "8f36d754-6cef-41f6-f0eb-6dcb205b6412"
      },
      "execution_count": 24,
      "outputs": [
        {
          "output_type": "execute_result",
          "data": {
            "text/plain": [
              "array([[29,  1, 32],\n",
              "       [-3,  8, 28],\n",
              "       [19, 16, 44]])"
            ]
          },
          "metadata": {},
          "execution_count": 24
        }
      ]
    },
    {
      "cell_type": "markdown",
      "source": [
        "\n",
        "\n",
        "In matrix dot products there are additional rules compared with vector dot products. Since vector dot products were just in one dimension there are less restrictions. Since now we are dealing with Rank 2 vectors we need to consider some rules:\n",
        "\n",
        "### Rule 1: The inner dimensions of the two matrices in question must be the same. \n",
        "\n",
        "So given a matrix $A$ with a shape of $(a,b)$ where $a$ and $b$ are any integers. If we want to do a dot product between $A$ and another matrix $B$, then matrix $B$ should have a shape of $(b,c)$ where $b$ and $c$ are any integers. So for given the following matrices:\n",
        "\n",
        "$$A = \\begin{bmatrix}2&4\\\\5&-2\\\\0&1\\end{bmatrix}, B = \\begin{bmatrix}1&1\\\\3&3\\\\-1&-2\\end{bmatrix}, C = \\begin{bmatrix}0&1&1\\\\1&1&2\\end{bmatrix}$$\n",
        "\n",
        "So in this case $A$ has a shape of $(3,2)$, $B$ has a shape of $(3,2)$ and $C$ has a shape of $(2,3)$. So the only matrix pairs that is eligible to perform dot product is matrices $A \\cdot C$, or $B \\cdot C$.  "
      ],
      "metadata": {
        "id": "y6qw5cDpYjbk"
      }
    },
    {
      "cell_type": "code",
      "source": [
        "A = np.array([\n",
        "    [2, 4],\n",
        "    [5, -2],\n",
        "    [0, 1]\n",
        "])\n",
        "B = np.array([\n",
        "    [1,1],\n",
        "    [3,3],\n",
        "    [-1,-2]\n",
        "])\n",
        "C = np.array([\n",
        "    [0,1,1],\n",
        "    [1,1,2]\n",
        "])\n",
        "print(A.shape)\n",
        "print(B.shape)\n",
        "print(C.shape)"
      ],
      "metadata": {
        "colab": {
          "base_uri": "https://localhost:8080/"
        },
        "id": "mtc15Qu1aMtW",
        "outputId": "31b31911-87ba-4ce2-a4fa-8b06e9e1700b"
      },
      "execution_count": 25,
      "outputs": [
        {
          "output_type": "stream",
          "name": "stdout",
          "text": [
            "(3, 2)\n",
            "(3, 2)\n",
            "(2, 3)\n"
          ]
        }
      ]
    },
    {
      "cell_type": "code",
      "source": [
        "A @ C"
      ],
      "metadata": {
        "colab": {
          "base_uri": "https://localhost:8080/"
        },
        "id": "SE876tO7a2IO",
        "outputId": "ed0d67fc-da3c-4989-b6ba-cce792230a96"
      },
      "execution_count": 26,
      "outputs": [
        {
          "output_type": "execute_result",
          "data": {
            "text/plain": [
              "array([[ 4,  6, 10],\n",
              "       [-2,  3,  1],\n",
              "       [ 1,  1,  2]])"
            ]
          },
          "metadata": {},
          "execution_count": 26
        }
      ]
    },
    {
      "cell_type": "code",
      "source": [
        "B @ C"
      ],
      "metadata": {
        "colab": {
          "base_uri": "https://localhost:8080/"
        },
        "id": "ghBQiu3TbaPd",
        "outputId": "f667d8ce-2616-42e6-ca45-1caeec9e401c"
      },
      "execution_count": 27,
      "outputs": [
        {
          "output_type": "execute_result",
          "data": {
            "text/plain": [
              "array([[ 1,  2,  3],\n",
              "       [ 3,  6,  9],\n",
              "       [-2, -3, -5]])"
            ]
          },
          "metadata": {},
          "execution_count": 27
        }
      ]
    },
    {
      "cell_type": "code",
      "source": [
        "A @ B"
      ],
      "metadata": {
        "colab": {
          "base_uri": "https://localhost:8080/",
          "height": 172
        },
        "id": "Q3LqQVrae6dx",
        "outputId": "88960eda-2206-4e71-e664-165af4985794"
      },
      "execution_count": 28,
      "outputs": [
        {
          "output_type": "error",
          "ename": "ValueError",
          "evalue": "ignored",
          "traceback": [
            "\u001b[0;31m---------------------------------------------------------------------------\u001b[0m",
            "\u001b[0;31mValueError\u001b[0m                                Traceback (most recent call last)",
            "\u001b[0;32m<ipython-input-28-455d622f3b50>\u001b[0m in \u001b[0;36m<module>\u001b[0;34m()\u001b[0m\n\u001b[0;32m----> 1\u001b[0;31m \u001b[0mA\u001b[0m \u001b[0;34m@\u001b[0m \u001b[0mB\u001b[0m\u001b[0;34m\u001b[0m\u001b[0;34m\u001b[0m\u001b[0m\n\u001b[0m",
            "\u001b[0;31mValueError\u001b[0m: matmul: Input operand 1 has a mismatch in its core dimension 0, with gufunc signature (n?,k),(k,m?)->(n?,m?) (size 3 is different from 2)"
          ]
        }
      ]
    },
    {
      "cell_type": "markdown",
      "source": [
        "If you would notice the shape of the dot product changed and its shape is not the same as any of the matrices we used. The shape of a dot product is actually derived from the shapes of the matrices used. So recall matrix $A$ with a shape of $(a,b)$ and matrix $B$ with a shape of $(b,c)$, $A \\cdot B$ should have a shape $(a,c)$."
      ],
      "metadata": {
        "id": "vqrHHLfJe7Bh"
      }
    },
    {
      "cell_type": "code",
      "source": [
        "A @ B.T"
      ],
      "metadata": {
        "id": "l4ca2hEufCwl",
        "colab": {
          "base_uri": "https://localhost:8080/"
        },
        "outputId": "4b40de45-6d3e-4db7-d6b8-7ccccf0b2c0d"
      },
      "execution_count": 29,
      "outputs": [
        {
          "output_type": "execute_result",
          "data": {
            "text/plain": [
              "array([[  6,  18, -10],\n",
              "       [  3,   9,  -1],\n",
              "       [  1,   3,  -2]])"
            ]
          },
          "metadata": {},
          "execution_count": 29
        }
      ]
    },
    {
      "cell_type": "code",
      "source": [
        "ERI = np.array([\n",
        "    [1,4,8,5]\n",
        "])\n",
        "EXO = np.array([\n",
        "    [1,2,0,-4]\n",
        "])\n",
        "print(ERI.shape)\n",
        "print(EXO.shape)"
      ],
      "metadata": {
        "colab": {
          "base_uri": "https://localhost:8080/"
        },
        "id": "OIJyhhzKfHQU",
        "outputId": "dc5ddf3a-ddd8-4700-e32a-e79493cb30af"
      },
      "execution_count": 30,
      "outputs": [
        {
          "output_type": "stream",
          "name": "stdout",
          "text": [
            "(1, 4)\n",
            "(1, 4)\n"
          ]
        }
      ]
    },
    {
      "cell_type": "code",
      "source": [
        "EXO.T @ ERI"
      ],
      "metadata": {
        "colab": {
          "base_uri": "https://localhost:8080/"
        },
        "id": "4izRJER0kp6T",
        "outputId": "752cd47a-1ab2-4e51-e875-6cf6d1cfe179"
      },
      "execution_count": 31,
      "outputs": [
        {
          "output_type": "execute_result",
          "data": {
            "text/plain": [
              "array([[  1,   4,   8,   5],\n",
              "       [  2,   8,  16,  10],\n",
              "       [  0,   0,   0,   0],\n",
              "       [ -4, -16, -32, -20]])"
            ]
          },
          "metadata": {},
          "execution_count": 31
        }
      ]
    },
    {
      "cell_type": "code",
      "source": [
        "ERI @ EXO.T"
      ],
      "metadata": {
        "colab": {
          "base_uri": "https://localhost:8080/"
        },
        "id": "d_IWskD_kx5q",
        "outputId": "f2c192b3-8998-4447-be09-f931eccf74fb"
      },
      "execution_count": 32,
      "outputs": [
        {
          "output_type": "execute_result",
          "data": {
            "text/plain": [
              "array([[-11]])"
            ]
          },
          "metadata": {},
          "execution_count": 32
        }
      ]
    },
    {
      "cell_type": "markdown",
      "source": [
        "### Rule 2: Dot Product has special properties\n",
        "\n",
        "Dot products are prevalent in matrix algebra, this implies that it has several unique properties and it should be considered when formulation solutions:\n",
        " 1. $A \\cdot B \\neq B \\cdot A$\n",
        " 2. $A \\cdot (B \\cdot C) = (A \\cdot B) \\cdot C$\n",
        " 3. $A\\cdot(B+C) = A\\cdot B + A\\cdot C$\n",
        " 4. $(B+C)\\cdot A = B\\cdot A + C\\cdot A$\n",
        " 5. $A\\cdot I = A$\n",
        " 6. $A\\cdot \\emptyset = \\emptyset$ "
      ],
      "metadata": {
        "id": "WN6HdGarlH5O"
      }
    },
    {
      "cell_type": "code",
      "source": [
        "H = np.array([\n",
        "    [3,2,6],\n",
        "    [5,2,2],\n",
        "    [1,0,7]\n",
        "])\n",
        "B = np.array([\n",
        "    [5,0,6],\n",
        "    [9,2,1],\n",
        "    [11,2,7]\n",
        "])\n",
        "M = np.array([\n",
        "    [1,1,2],\n",
        "    [1,1,4],\n",
        "    [4,1,2]\n",
        "])"
      ],
      "metadata": {
        "id": "h9HDYloblToZ"
      },
      "execution_count": 33,
      "outputs": []
    },
    {
      "cell_type": "code",
      "source": [
        "np.eye(3)"
      ],
      "metadata": {
        "colab": {
          "base_uri": "https://localhost:8080/"
        },
        "id": "R5QsFeEalj9J",
        "outputId": "425c2faa-5db3-4e48-c3a9-bd07d8965a77"
      },
      "execution_count": 34,
      "outputs": [
        {
          "output_type": "execute_result",
          "data": {
            "text/plain": [
              "array([[1., 0., 0.],\n",
              "       [0., 1., 0.],\n",
              "       [0., 0., 1.]])"
            ]
          },
          "metadata": {},
          "execution_count": 34
        }
      ]
    },
    {
      "cell_type": "code",
      "source": [
        "H.dot(np.eye(3))"
      ],
      "metadata": {
        "colab": {
          "base_uri": "https://localhost:8080/"
        },
        "id": "bNa4FtGfmN2J",
        "outputId": "663d5ce6-975f-4265-9917-271ce44e9ecc"
      },
      "execution_count": 35,
      "outputs": [
        {
          "output_type": "execute_result",
          "data": {
            "text/plain": [
              "array([[3., 2., 6.],\n",
              "       [5., 2., 2.],\n",
              "       [1., 0., 7.]])"
            ]
          },
          "metadata": {},
          "execution_count": 35
        }
      ]
    },
    {
      "cell_type": "code",
      "source": [
        "np.array_equal(H@B, B@H)"
      ],
      "metadata": {
        "colab": {
          "base_uri": "https://localhost:8080/"
        },
        "id": "v6E5dwKsmURM",
        "outputId": "52b4cc4a-8b51-4a44-bdd5-084437346a61"
      },
      "execution_count": 36,
      "outputs": [
        {
          "output_type": "execute_result",
          "data": {
            "text/plain": [
              "False"
            ]
          },
          "metadata": {},
          "execution_count": 36
        }
      ]
    },
    {
      "cell_type": "code",
      "source": [
        "L = H @ (B @ M)\n",
        "L"
      ],
      "metadata": {
        "colab": {
          "base_uri": "https://localhost:8080/"
        },
        "id": "GmVBSEFumeUy",
        "outputId": "a6a3c1d4-dcff-4850-c233-bcb767f5a11e"
      },
      "execution_count": 37,
      "outputs": [
        {
          "output_type": "execute_result",
          "data": {
            "text/plain": [
              "array([[363, 177, 386],\n",
              "       [257, 119, 254],\n",
              "       [316, 151, 330]])"
            ]
          },
          "metadata": {},
          "execution_count": 37
        }
      ]
    },
    {
      "cell_type": "code",
      "source": [
        "P = (H @ B) @ M\n",
        "P"
      ],
      "metadata": {
        "colab": {
          "base_uri": "https://localhost:8080/"
        },
        "id": "gCQ1o5G9mt5s",
        "outputId": "d180ea8b-8b90-40ce-f960-ad84857d5f01"
      },
      "execution_count": 38,
      "outputs": [
        {
          "output_type": "execute_result",
          "data": {
            "text/plain": [
              "array([[363, 177, 386],\n",
              "       [257, 119, 254],\n",
              "       [316, 151, 330]])"
            ]
          },
          "metadata": {},
          "execution_count": 38
        }
      ]
    },
    {
      "cell_type": "code",
      "source": [
        "np.array_equal(L, H)"
      ],
      "metadata": {
        "colab": {
          "base_uri": "https://localhost:8080/"
        },
        "id": "U1ijO1B5m96j",
        "outputId": "63c4a14c-8b03-4853-feaa-3321a9ff6fc4"
      },
      "execution_count": 39,
      "outputs": [
        {
          "output_type": "execute_result",
          "data": {
            "text/plain": [
              "False"
            ]
          },
          "metadata": {},
          "execution_count": 39
        }
      ]
    },
    {
      "cell_type": "code",
      "source": [
        "np.array_equiv(L, P)"
      ],
      "metadata": {
        "colab": {
          "base_uri": "https://localhost:8080/"
        },
        "id": "CEeSpmxEnBBb",
        "outputId": "f6303be2-5057-48a4-b20a-fbd76b6c8857"
      },
      "execution_count": 40,
      "outputs": [
        {
          "output_type": "execute_result",
          "data": {
            "text/plain": [
              "True"
            ]
          },
          "metadata": {},
          "execution_count": 40
        }
      ]
    },
    {
      "cell_type": "code",
      "source": [
        "np.eye(H)"
      ],
      "metadata": {
        "colab": {
          "base_uri": "https://localhost:8080/",
          "height": 301
        },
        "id": "UZ8eT-ayo8ii",
        "outputId": "4decea32-72f9-4dda-94ad-8363499cfe34"
      },
      "execution_count": 41,
      "outputs": [
        {
          "output_type": "error",
          "ename": "TypeError",
          "evalue": "ignored",
          "traceback": [
            "\u001b[0;31m---------------------------------------------------------------------------\u001b[0m",
            "\u001b[0;31mTypeError\u001b[0m                                 Traceback (most recent call last)",
            "\u001b[0;32m<ipython-input-41-c2f97809f4a1>\u001b[0m in \u001b[0;36m<module>\u001b[0;34m()\u001b[0m\n\u001b[0;32m----> 1\u001b[0;31m \u001b[0mnp\u001b[0m\u001b[0;34m.\u001b[0m\u001b[0meye\u001b[0m\u001b[0;34m(\u001b[0m\u001b[0mH\u001b[0m\u001b[0;34m)\u001b[0m\u001b[0;34m\u001b[0m\u001b[0;34m\u001b[0m\u001b[0m\n\u001b[0m",
            "\u001b[0;32m/usr/local/lib/python3.7/dist-packages/numpy/lib/twodim_base.py\u001b[0m in \u001b[0;36meye\u001b[0;34m(N, M, k, dtype, order, like)\u001b[0m\n\u001b[1;32m    212\u001b[0m     \u001b[0;32mif\u001b[0m \u001b[0mM\u001b[0m \u001b[0;32mis\u001b[0m \u001b[0;32mNone\u001b[0m\u001b[0;34m:\u001b[0m\u001b[0;34m\u001b[0m\u001b[0;34m\u001b[0m\u001b[0m\n\u001b[1;32m    213\u001b[0m         \u001b[0mM\u001b[0m \u001b[0;34m=\u001b[0m \u001b[0mN\u001b[0m\u001b[0;34m\u001b[0m\u001b[0;34m\u001b[0m\u001b[0m\n\u001b[0;32m--> 214\u001b[0;31m     \u001b[0mm\u001b[0m \u001b[0;34m=\u001b[0m \u001b[0mzeros\u001b[0m\u001b[0;34m(\u001b[0m\u001b[0;34m(\u001b[0m\u001b[0mN\u001b[0m\u001b[0;34m,\u001b[0m \u001b[0mM\u001b[0m\u001b[0;34m)\u001b[0m\u001b[0;34m,\u001b[0m \u001b[0mdtype\u001b[0m\u001b[0;34m=\u001b[0m\u001b[0mdtype\u001b[0m\u001b[0;34m,\u001b[0m \u001b[0morder\u001b[0m\u001b[0;34m=\u001b[0m\u001b[0morder\u001b[0m\u001b[0;34m)\u001b[0m\u001b[0;34m\u001b[0m\u001b[0;34m\u001b[0m\u001b[0m\n\u001b[0m\u001b[1;32m    215\u001b[0m     \u001b[0;32mif\u001b[0m \u001b[0mk\u001b[0m \u001b[0;34m>=\u001b[0m \u001b[0mM\u001b[0m\u001b[0;34m:\u001b[0m\u001b[0;34m\u001b[0m\u001b[0;34m\u001b[0m\u001b[0m\n\u001b[1;32m    216\u001b[0m         \u001b[0;32mreturn\u001b[0m \u001b[0mm\u001b[0m\u001b[0;34m\u001b[0m\u001b[0;34m\u001b[0m\u001b[0m\n",
            "\u001b[0;31mTypeError\u001b[0m: only integer scalar arrays can be converted to a scalar index"
          ]
        }
      ]
    },
    {
      "cell_type": "code",
      "source": [
        "H @ L"
      ],
      "metadata": {
        "colab": {
          "base_uri": "https://localhost:8080/"
        },
        "id": "GDwjHrQYpJ7K",
        "outputId": "fed92350-74cd-402f-dfc2-f9f931f97982"
      },
      "execution_count": 42,
      "outputs": [
        {
          "output_type": "execute_result",
          "data": {
            "text/plain": [
              "array([[3499, 1675, 3646],\n",
              "       [2961, 1425, 3098],\n",
              "       [2575, 1234, 2696]])"
            ]
          },
          "metadata": {},
          "execution_count": 42
        }
      ]
    },
    {
      "cell_type": "code",
      "source": [
        "z_mat = np.zeros(H.shape)\n",
        "z_mat"
      ],
      "metadata": {
        "colab": {
          "base_uri": "https://localhost:8080/"
        },
        "id": "V-QwQg_kpSLy",
        "outputId": "9e5e9424-e7ae-4a56-df10-ea720bd0a292"
      },
      "execution_count": 43,
      "outputs": [
        {
          "output_type": "execute_result",
          "data": {
            "text/plain": [
              "array([[0., 0., 0.],\n",
              "       [0., 0., 0.],\n",
              "       [0., 0., 0.]])"
            ]
          },
          "metadata": {},
          "execution_count": 43
        }
      ]
    },
    {
      "cell_type": "code",
      "source": [
        "a_dot_z = H.dot(np.zeros(H.shape))\n",
        "a_dot_z"
      ],
      "metadata": {
        "colab": {
          "base_uri": "https://localhost:8080/"
        },
        "id": "TAVcVNwApbYp",
        "outputId": "cc54e7cc-0fc6-4bff-8131-cfbb76549087"
      },
      "execution_count": 44,
      "outputs": [
        {
          "output_type": "execute_result",
          "data": {
            "text/plain": [
              "array([[0., 0., 0.],\n",
              "       [0., 0., 0.],\n",
              "       [0., 0., 0.]])"
            ]
          },
          "metadata": {},
          "execution_count": 44
        }
      ]
    },
    {
      "cell_type": "code",
      "source": [
        "np.array_equal(a_dot_z,z_mat)"
      ],
      "metadata": {
        "id": "neK_ujfMpojI",
        "colab": {
          "base_uri": "https://localhost:8080/"
        },
        "outputId": "430b7563-0f87-4a1d-b555-4a8fe13bb45c"
      },
      "execution_count": 45,
      "outputs": [
        {
          "output_type": "execute_result",
          "data": {
            "text/plain": [
              "True"
            ]
          },
          "metadata": {},
          "execution_count": 45
        }
      ]
    },
    {
      "cell_type": "code",
      "source": [
        "null_mat = np.empty(H.shape, dtype=float)\n",
        "null = np.array(null_mat,dtype=float)\n",
        "print(null)\n",
        "np.allclose(a_dot_z,null)"
      ],
      "metadata": {
        "colab": {
          "base_uri": "https://localhost:8080/"
        },
        "id": "MW3KWmIdp1XJ",
        "outputId": "757e629c-1f32-4525-dd5c-2c5e8001a258"
      },
      "execution_count": 46,
      "outputs": [
        {
          "output_type": "stream",
          "name": "stdout",
          "text": [
            "[[0. 0. 0.]\n",
            " [0. 0. 0.]\n",
            " [0. 0. 0.]]\n"
          ]
        },
        {
          "output_type": "execute_result",
          "data": {
            "text/plain": [
              "True"
            ]
          },
          "metadata": {},
          "execution_count": 46
        }
      ]
    },
    {
      "cell_type": "markdown",
      "source": [
        "## Determinant"
      ],
      "metadata": {
        "id": "9dFok_kwp8vT"
      }
    },
    {
      "cell_type": "markdown",
      "source": [
        "A determinant is a scalar value derived from a square matrix. The determinant is a fundamental and important value used in matrix algebra. Although it will not be evident in this laboratory on how it can be used practically, but it will be reatly used in future lessons.\n",
        "\n",
        "The determinant of some matrix $A$ is denoted as $det(A)$ or $|A|$. So let's say $A$ is represented as:\n",
        "$$A = \\begin{bmatrix}a_{(0,0)}&a_{(0,1)}\\\\a_{(1,0)}&a_{(1,1)}\\end{bmatrix}$$\n",
        "We can compute for the determinant as:\n",
        "$$|A| = a_{(0,0)}*a_{(1,1)} - a_{(1,0)}*a_{(0,1)}$$\n",
        "So if we have $A$ as:\n",
        "$$A = \\begin{bmatrix}1&4\\\\0&3\\end{bmatrix}, |A| = 3$$\n",
        "\n",
        "But you might wonder how about square matrices beyond the shape $(2,2)$? We can approach this problem by using several methods such as co-factor expansion and the minors method. This can be taught in the lecture of the laboratory but we can achieve the strenuous computation of high-dimensional matrices programmatically using Python. We can achieve this by using `np.linalg.det()`."
      ],
      "metadata": {
        "id": "9b4eAUdZp_VB"
      }
    },
    {
      "cell_type": "code",
      "source": [
        "F = np.array([\n",
        "    [1,4],\n",
        "    [0,2]\n",
        "])\n",
        "np.linalg.det(F)"
      ],
      "metadata": {
        "colab": {
          "base_uri": "https://localhost:8080/"
        },
        "id": "S7UEEYQmqGUS",
        "outputId": "393d8c44-6574-457d-c531-e784cc916450"
      },
      "execution_count": 47,
      "outputs": [
        {
          "output_type": "execute_result",
          "data": {
            "text/plain": [
              "2.0"
            ]
          },
          "metadata": {},
          "execution_count": 47
        }
      ]
    },
    {
      "cell_type": "code",
      "source": [
        "C = np.array([\n",
        "              [1, 5, 2],\n",
        "              [3, -1 ,-1],\n",
        "              [0, -2, 1]\n",
        "])\n",
        "np.linalg.det(C)"
      ],
      "metadata": {
        "colab": {
          "base_uri": "https://localhost:8080/"
        },
        "id": "_JZ94wgDqOno",
        "outputId": "ca4e62be-eb59-46db-a003-afe7f2a0c484"
      },
      "execution_count": 48,
      "outputs": [
        {
          "output_type": "execute_result",
          "data": {
            "text/plain": [
              "-30.000000000000014"
            ]
          },
          "metadata": {},
          "execution_count": 48
        }
      ]
    },
    {
      "cell_type": "code",
      "source": [
        "## Now other mathematics classes would require you to solve this by hand, \n",
        "## and that is great for practicing your memorization and coordination skills \n",
        "## but in this class we aim for simplicity and speed so we'll use programming\n",
        "## but it's completely fine if you want to try to solve this one by hand.\n",
        "C = np.array([\n",
        "    [1,3,5,6],\n",
        "    [0,3,1,3],\n",
        "    [3,1,8,2],\n",
        "    [5,2,6,8]\n",
        "])\n",
        "np.linalg.det(B)"
      ],
      "metadata": {
        "colab": {
          "base_uri": "https://localhost:8080/"
        },
        "id": "edV4E12Zq3Co",
        "outputId": "7ffd8737-40c0-4718-c46e-c61cfd48d035"
      },
      "execution_count": 49,
      "outputs": [
        {
          "output_type": "execute_result",
          "data": {
            "text/plain": [
              "36.000000000000014"
            ]
          },
          "metadata": {},
          "execution_count": 49
        }
      ]
    },
    {
      "cell_type": "markdown",
      "source": [
        "## Inverse"
      ],
      "metadata": {
        "id": "CswIvomyrAmA"
      }
    },
    {
      "cell_type": "markdown",
      "source": [
        "The inverse of a matrix is another fundamental operation in matrix algebra. Determining the inverse of a matrix let us determine if its solvability and its characteristic as a system of linear equation — we'll expand on this in the nect module. Another use of the inverse matrix is solving the problem of divisibility between matrices. Although element-wise division exists but dividing the entire concept of matrices does not exists. Inverse matrices provides a related operation that could have the same concept of \"dividing\" matrices.\n",
        "\n",
        "Now to determine the inverse of a matrix we need to perform several steps. So let's say we have a matrix $M$:\n",
        "$$M = \\begin{bmatrix}1&7\\\\-3&5\\end{bmatrix}$$\n",
        "First, we need to get the determinant of $M$.\n",
        "$$|M| = (1)(5)-(-3)(7) = 26$$\n",
        "Next, we need to reform the matrix into the inverse form:\n",
        "$$M^{-1} = \\frac{1}{|M|} \\begin{bmatrix} m_{(1,1)} & -m_{(0,1)} \\\\ -m_{(1,0)} & m_{(0,0)}\\end{bmatrix}$$\n",
        "So that will be:\n",
        "$$M^{-1} = \\frac{1}{26} \\begin{bmatrix} 5 & -7 \\\\ 3 & 1\\end{bmatrix} = \\begin{bmatrix} \\frac{5}{26} & \\frac{-7}{26} \\\\ \\frac{3}{26} & \\frac{1}{26}\\end{bmatrix}$$\n",
        "For higher-dimension matrices you might need to use co-factors, minors, adjugates, and other reduction techinques. To solve this programmatially we can use `np.linalg.inv()`."
      ],
      "metadata": {
        "id": "S1lKKukhrCoq"
      }
    },
    {
      "cell_type": "code",
      "source": [
        "X = np.array([\n",
        "    [2, 4, 6],\n",
        "    [1, 3, 5],\n",
        "    [2, 0, 2]\n",
        "])\n",
        "\n",
        "np.array(X @np.linalg.inv(X), dtype=int)"
      ],
      "metadata": {
        "colab": {
          "base_uri": "https://localhost:8080/"
        },
        "id": "kw9RMbvkXeUt",
        "outputId": "8cb7c1ee-8b9f-4164-fc7a-5e58049a82c5"
      },
      "execution_count": 50,
      "outputs": [
        {
          "output_type": "execute_result",
          "data": {
            "text/plain": [
              "array([[1, 0, 0],\n",
              "       [0, 1, 0],\n",
              "       [0, 0, 1]])"
            ]
          },
          "metadata": {},
          "execution_count": 50
        }
      ]
    },
    {
      "cell_type": "code",
      "source": [
        "S = np.array([\n",
        "              [2, 5, 9, 0],\n",
        "              [1, 9, 2, 9],\n",
        "              [2, 4, 5, 9],\n",
        "              [1, 1, 0, 0]\n",
        "])\n",
        "R = np.linalg.inv(S)\n",
        "R"
      ],
      "metadata": {
        "colab": {
          "base_uri": "https://localhost:8080/"
        },
        "id": "YTJ4M6IqXmq_",
        "outputId": "5a254c55-b22f-405d-e4d9-41054fded84f"
      },
      "execution_count": 51,
      "outputs": [
        {
          "output_type": "execute_result",
          "data": {
            "text/plain": [
              "array([[-0.04761905, -0.14285714,  0.14285714,  0.95238095],\n",
              "       [ 0.04761905,  0.14285714, -0.14285714,  0.04761905],\n",
              "       [ 0.0952381 , -0.04761905,  0.04761905, -0.23809524],\n",
              "       [-0.06349206, -0.00529101,  0.11640212, -0.1005291 ]])"
            ]
          },
          "metadata": {},
          "execution_count": 51
        }
      ]
    },
    {
      "cell_type": "code",
      "source": [
        "S @ R"
      ],
      "metadata": {
        "colab": {
          "base_uri": "https://localhost:8080/"
        },
        "id": "01tplaafX0RI",
        "outputId": "da03224f-ae85-44b9-dae8-185a88e10d15"
      },
      "execution_count": 52,
      "outputs": [
        {
          "output_type": "execute_result",
          "data": {
            "text/plain": [
              "array([[ 1.00000000e+00, -6.93889390e-17,  6.93889390e-17,\n",
              "         0.00000000e+00],\n",
              "       [ 1.24900090e-16,  1.00000000e+00,  1.38777878e-17,\n",
              "         1.38777878e-16],\n",
              "       [ 1.24900090e-16, -6.07153217e-17,  1.00000000e+00,\n",
              "         1.38777878e-16],\n",
              "       [-7.63278329e-17,  0.00000000e+00,  0.00000000e+00,\n",
              "         1.00000000e+00]])"
            ]
          },
          "metadata": {},
          "execution_count": 52
        }
      ]
    },
    {
      "cell_type": "code",
      "source": [
        "## And now let's test your skills in solving a matrix with high dimensions:\n",
        "U = np.array([\n",
        "    [12,3,8,-2,0,9],\n",
        "    [9,4,1,63,1,4],\n",
        "    [4,14,94,-2,20,12],\n",
        "    [75,42,98,2,78,4],\n",
        "    [5,32,14,90,15,4],\n",
        "    [23,18,-5,0,11,6]\n",
        "])\n",
        "U_inv = np.linalg.inv(U)\n",
        "np.array(U @ U_inv,dtype=int)"
      ],
      "metadata": {
        "colab": {
          "base_uri": "https://localhost:8080/"
        },
        "id": "N8IXUL5tYCnS",
        "outputId": "5821955e-1d4d-4703-82a6-c041eb3216d0"
      },
      "execution_count": 53,
      "outputs": [
        {
          "output_type": "execute_result",
          "data": {
            "text/plain": [
              "array([[0, 0, 0, 0, 0, 0],\n",
              "       [0, 1, 0, 0, 0, 0],\n",
              "       [0, 0, 1, 0, 0, 0],\n",
              "       [0, 0, 0, 1, 0, 0],\n",
              "       [0, 0, 0, 0, 0, 0],\n",
              "       [0, 0, 0, 0, 0, 0]])"
            ]
          },
          "metadata": {},
          "execution_count": 53
        }
      ]
    },
    {
      "cell_type": "markdown",
      "source": [
        "To validate the wether if the matric that you have solved is really the inverse, we follow this dot product property for a matrix $M$:\n",
        "$$M\\cdot M^{-1} = I$$"
      ],
      "metadata": {
        "id": "C2sG4kwlstco"
      }
    },
    {
      "cell_type": "code",
      "source": [
        "rar = np.array([\n",
        "    [1.0, 1.0, 0.5],\n",
        "    [0.7, 0.7, 0.9],\n",
        "    [0.3, 0.3, 1.0]\n",
        "])\n",
        "skrt = np.array([\n",
        "    [0.2, 0.2, 0.6]\n",
        "])\n",
        "p_grade = rar @ skrt.T\n",
        "p_grade\n"
      ],
      "metadata": {
        "colab": {
          "base_uri": "https://localhost:8080/"
        },
        "id": "wU1o-koxszHv",
        "outputId": "1bc5b132-dd64-48cc-9c36-1f3ac1ee909d"
      },
      "execution_count": 54,
      "outputs": [
        {
          "output_type": "execute_result",
          "data": {
            "text/plain": [
              "array([[0.7 ],\n",
              "       [0.82],\n",
              "       [0.72]])"
            ]
          },
          "metadata": {},
          "execution_count": 54
        }
      ]
    },
    {
      "cell_type": "markdown",
      "source": [
        "## Activity"
      ],
      "metadata": {
        "id": "AxD4Tcb6tarn"
      }
    },
    {
      "cell_type": "markdown",
      "source": [
        "### Task 1"
      ],
      "metadata": {
        "id": "ENv13R6HteIO"
      }
    },
    {
      "cell_type": "markdown",
      "source": [
        "Prove and implement the remaining 6 matrix multiplication properties. You may create your own matrices in which their shapes should not be lower than $(3,3)$.\n",
        "In your methodology, create individual flowcharts for each property and discuss the property you would then present your proofs or validity of your implementation in the results section by comparing your result to present functions from NumPy."
      ],
      "metadata": {
        "id": "bnHqsB7htflX"
      }
    },
    {
      "cell_type": "code",
      "source": [
        "E = np.array([\n",
        "    [1, 0, -1, 3],\n",
        "    [2, 0, -5, 5],\n",
        "    [9, 8, 3, 5],\n",
        "    [-6, -1, 0, 4]\n",
        "])\n",
        "F = np.array([\n",
        "    [2, 0, 4, 1],\n",
        "    [8, 3, -1, -7],\n",
        "    [8, 5, -3, 4],\n",
        "    [6, -1, 6, 3]\n",
        "])\n",
        "\n",
        "print('Matrix E:')\n",
        "print(E)\n",
        "print('Matrix F:')\n",
        "print(F)"
      ],
      "metadata": {
        "id": "j0BZ0Rr5xdAm",
        "colab": {
          "base_uri": "https://localhost:8080/"
        },
        "outputId": "3be831f7-87aa-4f8c-b152-bc7b1a0293bf"
      },
      "execution_count": 61,
      "outputs": [
        {
          "output_type": "stream",
          "name": "stdout",
          "text": [
            "Matrix E:\n",
            "[[ 1  0 -1  3]\n",
            " [ 2  0 -5  5]\n",
            " [ 9  8  3  5]\n",
            " [-6 -1  0  4]]\n",
            "Matrix F:\n",
            "[[ 2  0  4  1]\n",
            " [ 8  3 -1 -7]\n",
            " [ 8  5 -3  4]\n",
            " [ 6 -1  6  3]]\n"
          ]
        }
      ]
    },
    {
      "cell_type": "markdown",
      "source": [
        " $A \\cdot B \\neq B \\cdot A$"
      ],
      "metadata": {
        "id": "NWTxwa78xdbX"
      }
    },
    {
      "cell_type": "code",
      "source": [
        "print('Matrix product EF:')\n",
        "EF = np.matmul(E,F)\n",
        "EF"
      ],
      "metadata": {
        "id": "VA6kzUDcxj1O",
        "colab": {
          "base_uri": "https://localhost:8080/"
        },
        "outputId": "94666067-8454-472c-f63e-7742802bc3ac"
      },
      "execution_count": 62,
      "outputs": [
        {
          "output_type": "stream",
          "name": "stdout",
          "text": [
            "Matrix product EF:\n"
          ]
        },
        {
          "output_type": "execute_result",
          "data": {
            "text/plain": [
              "array([[ 12,  -8,  25,   6],\n",
              "       [ -6, -30,  53,  -3],\n",
              "       [136,  34,  49, -20],\n",
              "       [  4,  -7,   1,  13]])"
            ]
          },
          "metadata": {},
          "execution_count": 62
        }
      ]
    },
    {
      "cell_type": "code",
      "source": [
        "print('Matrix product FE:')\n",
        "FE = np.matmul(F,E)\n",
        "FE"
      ],
      "metadata": {
        "colab": {
          "base_uri": "https://localhost:8080/"
        },
        "id": "p_HT4vEQKvwF",
        "outputId": "b0b7218a-8e7b-40b1-efcf-8f29bb3b98b9"
      },
      "execution_count": 63,
      "outputs": [
        {
          "output_type": "stream",
          "name": "stdout",
          "text": [
            "Matrix product FE:\n"
          ]
        },
        {
          "output_type": "execute_result",
          "data": {
            "text/plain": [
              "array([[ 32,  31,  10,  30],\n",
              "       [ 47,  -1, -26,   6],\n",
              "       [-33, -28, -42,  50],\n",
              "       [ 40,  45,  17,  55]])"
            ]
          },
          "metadata": {},
          "execution_count": 63
        }
      ]
    },
    {
      "cell_type": "code",
      "source": [
        "np.array_equal(EF, FE)"
      ],
      "metadata": {
        "colab": {
          "base_uri": "https://localhost:8080/"
        },
        "id": "RbXGnR-IKz2Z",
        "outputId": "14da3445-6f8d-4dd0-b297-1e6f1e86bba5"
      },
      "execution_count": 64,
      "outputs": [
        {
          "output_type": "execute_result",
          "data": {
            "text/plain": [
              "False"
            ]
          },
          "metadata": {},
          "execution_count": 64
        }
      ]
    },
    {
      "cell_type": "code",
      "source": [
        "G = np.array([\n",
        "    [2, 3, -4, 9],\n",
        "    [2, 2, -2, -2],\n",
        "    [0, 1, 6, 3],\n",
        "    [-2, -9, 1, 8]\n",
        "])\n",
        "H = np.array([\n",
        "    [1, 9, 3],\n",
        "    [2, 3, 2],\n",
        "    [3, 9, 4],\n",
        "    [1, 6, 2]\n",
        "])\n",
        "I = np.array([\n",
        "    [2, 4, 6],\n",
        "    [9, 0, 1],\n",
        "    [2, 6, 9]\n",
        "])\n",
        "GH = np.matmul(G,H)\n",
        "HI = np.matmul(H,I)\n",
        "\n",
        "print('Matrix G:')\n",
        "print(G)\n",
        "print('Matrix H:')\n",
        "print(H)\n",
        "print('Matrix I:')\n",
        "print(I)"
      ],
      "metadata": {
        "id": "mw6jqUZ5xmN9",
        "colab": {
          "base_uri": "https://localhost:8080/"
        },
        "outputId": "690f9a02-3187-4c33-d10d-a56ea0f41a32"
      },
      "execution_count": 65,
      "outputs": [
        {
          "output_type": "stream",
          "name": "stdout",
          "text": [
            "Matrix G:\n",
            "[[ 2  3 -4  9]\n",
            " [ 2  2 -2 -2]\n",
            " [ 0  1  6  3]\n",
            " [-2 -9  1  8]]\n",
            "Matrix H:\n",
            "[[1 9 3]\n",
            " [2 3 2]\n",
            " [3 9 4]\n",
            " [1 6 2]]\n",
            "Matrix I:\n",
            "[[2 4 6]\n",
            " [9 0 1]\n",
            " [2 6 9]]\n"
          ]
        }
      ]
    },
    {
      "cell_type": "markdown",
      "source": [
        "$A \\cdot (B \\cdot C) = (A \\cdot B) \\cdot C$"
      ],
      "metadata": {
        "id": "iBEtTscfxozH"
      }
    },
    {
      "cell_type": "code",
      "source": [
        "print('Matrix Product (GH)I:')\n",
        "L = np.matmul(GH,I)\n",
        "L"
      ],
      "metadata": {
        "id": "oElaN9G7xr-G",
        "colab": {
          "base_uri": "https://localhost:8080/"
        },
        "outputId": "c31bde07-0462-4330-b866-267d1e4b1764"
      },
      "execution_count": 66,
      "outputs": [
        {
          "output_type": "stream",
          "name": "stdout",
          "text": [
            "Matrix Product (GH)I:\n"
          ]
        },
        {
          "output_type": "execute_result",
          "data": {
            "text/plain": [
              "array([[443, 104, 201],\n",
              "       [-62, -20, -36],\n",
              "       [785, 284, 501],\n",
              "       [ 82, -60, -78]])"
            ]
          },
          "metadata": {},
          "execution_count": 66
        }
      ]
    },
    {
      "cell_type": "code",
      "source": [
        "print('Matrix Product G(HI)')\n",
        "R = np.matmul(G,HI)\n",
        "R"
      ],
      "metadata": {
        "colab": {
          "base_uri": "https://localhost:8080/"
        },
        "id": "KnbCaA1FLGQi",
        "outputId": "a198fb60-73a4-40a1-d24f-6dc3bd2b7137"
      },
      "execution_count": 67,
      "outputs": [
        {
          "output_type": "stream",
          "name": "stdout",
          "text": [
            "Matrix Product G(HI)\n"
          ]
        },
        {
          "output_type": "execute_result",
          "data": {
            "text/plain": [
              "array([[443, 104, 201],\n",
              "       [-62, -20, -36],\n",
              "       [785, 284, 501],\n",
              "       [ 82, -60, -78]])"
            ]
          },
          "metadata": {},
          "execution_count": 67
        }
      ]
    },
    {
      "cell_type": "code",
      "source": [
        "np.array_equal(L, R)"
      ],
      "metadata": {
        "colab": {
          "base_uri": "https://localhost:8080/"
        },
        "id": "PtlTXjIOLJXd",
        "outputId": "4bf8c1b9-dba2-4e1c-b7c3-438e4ff02810"
      },
      "execution_count": 68,
      "outputs": [
        {
          "output_type": "execute_result",
          "data": {
            "text/plain": [
              "True"
            ]
          },
          "metadata": {},
          "execution_count": 68
        }
      ]
    },
    {
      "cell_type": "code",
      "source": [
        "J = np.array([-1,3,2])\n",
        "K = np.array([\n",
        "    [0, 2, 3],\n",
        "    [5, 6, 8],\n",
        "    [2, 3, 1]\n",
        "    ])\n",
        "L = np.array([\n",
        "    [1, 4, 9],\n",
        "    [8, -1, 0],\n",
        "    [5, 2, 1]\n",
        "    ])\n",
        "JK = np.matmul(J,K)\n",
        "KL = np.matmul(K,L)\n",
        "JL = np.matmul(J,L)\n",
        "\n",
        "print('Matrix J')\n",
        "print(J)\n",
        "print('Matrix K:')\n",
        "print(K)\n",
        "print('Matrix L:')\n",
        "print(L) "
      ],
      "metadata": {
        "id": "GoH84J1VxsJ1",
        "colab": {
          "base_uri": "https://localhost:8080/"
        },
        "outputId": "337837e8-8c79-442b-9996-5abe5091f458"
      },
      "execution_count": 69,
      "outputs": [
        {
          "output_type": "stream",
          "name": "stdout",
          "text": [
            "Matrix J\n",
            "[-1  3  2]\n",
            "Matrix K:\n",
            "[[0 2 3]\n",
            " [5 6 8]\n",
            " [2 3 1]]\n",
            "Matrix L:\n",
            "[[ 1  4  9]\n",
            " [ 8 -1  0]\n",
            " [ 5  2  1]]\n"
          ]
        }
      ]
    },
    {
      "cell_type": "markdown",
      "source": [
        "$A\\cdot(B+C) = A\\cdot B + A\\cdot C$"
      ],
      "metadata": {
        "id": "wu2f3uwBxseo"
      }
    },
    {
      "cell_type": "code",
      "source": [
        "print('\\n')\n",
        "print('Distributing left multiplication')\n",
        "print('Matrix Product J*(K + L):')\n",
        "print(np.matmul(J,K+L))\n",
        "print('Matrix Product (JK + JL):')\n",
        "DL = JK+JL\n",
        "DL\n"
      ],
      "metadata": {
        "id": "HWKJZTt0xwCs",
        "colab": {
          "base_uri": "https://localhost:8080/"
        },
        "outputId": "2de3a150-47d3-4331-f430-7ea5a53fdbab"
      },
      "execution_count": 70,
      "outputs": [
        {
          "output_type": "stream",
          "name": "stdout",
          "text": [
            "\n",
            "\n",
            "Distributing left multiplication\n",
            "Matrix Product J*(K + L):\n",
            "[52 19 16]\n",
            "Matrix Product (JK + JL):\n"
          ]
        },
        {
          "output_type": "execute_result",
          "data": {
            "text/plain": [
              "array([52, 19, 16])"
            ]
          },
          "metadata": {},
          "execution_count": 70
        }
      ]
    },
    {
      "cell_type": "code",
      "source": [
        "D = J @ (K+L)\n",
        "D"
      ],
      "metadata": {
        "colab": {
          "base_uri": "https://localhost:8080/"
        },
        "id": "35mavJZjLVg4",
        "outputId": "f4880a8f-8890-401d-c09c-87fa0f8b78a1"
      },
      "execution_count": 71,
      "outputs": [
        {
          "output_type": "execute_result",
          "data": {
            "text/plain": [
              "array([52, 19, 16])"
            ]
          },
          "metadata": {},
          "execution_count": 71
        }
      ]
    },
    {
      "cell_type": "code",
      "source": [
        "np.array_equal(DL, D)"
      ],
      "metadata": {
        "colab": {
          "base_uri": "https://localhost:8080/"
        },
        "id": "x2mUFdxHLY47",
        "outputId": "69794d68-a51b-4deb-f6c3-6d6506167ea0"
      },
      "execution_count": 72,
      "outputs": [
        {
          "output_type": "execute_result",
          "data": {
            "text/plain": [
              "True"
            ]
          },
          "metadata": {},
          "execution_count": 72
        }
      ]
    },
    {
      "cell_type": "markdown",
      "source": [
        "$(A+B)\\cdot C = A\\cdot C + B\\cdot C$"
      ],
      "metadata": {
        "id": "ZLrGri_vxwMV"
      }
    },
    {
      "cell_type": "code",
      "source": [
        "print('Distributing right multiplication')\n",
        "print('Matrix Product (J + K)*L:')\n",
        "print(np.matmul(J+K,L))\n",
        "print('Matrix Product (JL + KL):')\n",
        "DR = JL + KL\n",
        "DR"
      ],
      "metadata": {
        "id": "KOXpH1amxw__",
        "colab": {
          "base_uri": "https://localhost:8080/"
        },
        "outputId": "807ced7a-a8cd-4e2b-edad-cad7c67f2439"
      },
      "execution_count": 73,
      "outputs": [
        {
          "output_type": "stream",
          "name": "stdout",
          "text": [
            "Distributing right multiplication\n",
            "Matrix Product (J + K)*L:\n",
            "[[ 64   1  -4]\n",
            " [126  27  46]\n",
            " [ 64   4  12]]\n",
            "Matrix Product (JL + KL):\n"
          ]
        },
        {
          "output_type": "execute_result",
          "data": {
            "text/plain": [
              "array([[ 64,   1,  -4],\n",
              "       [126,  27,  46],\n",
              "       [ 64,   4,  12]])"
            ]
          },
          "metadata": {},
          "execution_count": 73
        }
      ]
    },
    {
      "cell_type": "code",
      "source": [
        "E = (J+K) @L\n",
        "E"
      ],
      "metadata": {
        "colab": {
          "base_uri": "https://localhost:8080/"
        },
        "id": "sv0_RcFpMEp7",
        "outputId": "99eebacd-ee61-476c-9fa0-be97ce428e6f"
      },
      "execution_count": 74,
      "outputs": [
        {
          "output_type": "execute_result",
          "data": {
            "text/plain": [
              "array([[ 64,   1,  -4],\n",
              "       [126,  27,  46],\n",
              "       [ 64,   4,  12]])"
            ]
          },
          "metadata": {},
          "execution_count": 74
        }
      ]
    },
    {
      "cell_type": "code",
      "source": [
        "np.array_equal(DR, E)"
      ],
      "metadata": {
        "colab": {
          "base_uri": "https://localhost:8080/"
        },
        "id": "L8sasOoQMI7m",
        "outputId": "d9232f7b-1cb1-4a5d-addd-021e2a02bf34"
      },
      "execution_count": 75,
      "outputs": [
        {
          "output_type": "execute_result",
          "data": {
            "text/plain": [
              "True"
            ]
          },
          "metadata": {},
          "execution_count": 75
        }
      ]
    },
    {
      "cell_type": "code",
      "source": [
        "N = np.array([\n",
        "      [-1,-2,-3],\n",
        "      [1, 2, -2],\n",
        "      [0, 1, 2]\n",
        "      ])\n",
        "N"
      ],
      "metadata": {
        "colab": {
          "base_uri": "https://localhost:8080/"
        },
        "id": "xXrp32qhN68O",
        "outputId": "17d1d8a2-e789-40f8-8d3a-d1484fce1505"
      },
      "execution_count": 76,
      "outputs": [
        {
          "output_type": "execute_result",
          "data": {
            "text/plain": [
              "array([[-1, -2, -3],\n",
              "       [ 1,  2, -2],\n",
              "       [ 0,  1,  2]])"
            ]
          },
          "metadata": {},
          "execution_count": 76
        }
      ]
    },
    {
      "cell_type": "markdown",
      "source": [
        "$A\\cdot I = A$"
      ],
      "metadata": {
        "id": "2Yd0vGsyx2SN"
      }
    },
    {
      "cell_type": "code",
      "source": [
        "NI = np.identity(3)\n",
        "NI\n",
        "O =N@NI\n",
        "O"
      ],
      "metadata": {
        "colab": {
          "base_uri": "https://localhost:8080/"
        },
        "id": "-986VHD5OLy-",
        "outputId": "d42a33bc-7601-431f-e822-6c2b240ae3fe"
      },
      "execution_count": 77,
      "outputs": [
        {
          "output_type": "execute_result",
          "data": {
            "text/plain": [
              "array([[-1., -2., -3.],\n",
              "       [ 1.,  2., -2.],\n",
              "       [ 0.,  1.,  2.]])"
            ]
          },
          "metadata": {},
          "execution_count": 77
        }
      ]
    },
    {
      "cell_type": "markdown",
      "source": [
        " $A\\cdot \\emptyset = \\emptyset$ "
      ],
      "metadata": {
        "id": "-GfKYeR9OQ4e"
      }
    },
    {
      "cell_type": "code",
      "source": [
        "NZ = N.dot(np.zeros(N.shape))\n",
        "NZ\n"
      ],
      "metadata": {
        "colab": {
          "base_uri": "https://localhost:8080/"
        },
        "id": "M_gk_WpCOT__",
        "outputId": "12b0c058-a4e5-420f-9532-46c44885a146"
      },
      "execution_count": 78,
      "outputs": [
        {
          "output_type": "execute_result",
          "data": {
            "text/plain": [
              "array([[0., 0., 0.],\n",
              "       [0., 0., 0.],\n",
              "       [0., 0., 0.]])"
            ]
          },
          "metadata": {},
          "execution_count": 78
        }
      ]
    },
    {
      "cell_type": "code",
      "source": [
        "P = N@NZ\n",
        "P"
      ],
      "metadata": {
        "colab": {
          "base_uri": "https://localhost:8080/"
        },
        "id": "-RxaS0nrOYCc",
        "outputId": "53f3ee3a-246c-4d56-b578-8e41a71d2233"
      },
      "execution_count": 79,
      "outputs": [
        {
          "output_type": "execute_result",
          "data": {
            "text/plain": [
              "array([[0., 0., 0.],\n",
              "       [0., 0., 0.],\n",
              "       [0., 0., 0.]])"
            ]
          },
          "metadata": {},
          "execution_count": 79
        }
      ]
    },
    {
      "cell_type": "code",
      "source": [
        "np.array_equal(NZ,P)"
      ],
      "metadata": {
        "colab": {
          "base_uri": "https://localhost:8080/"
        },
        "id": "RrNPYI6sOiiP",
        "outputId": "2cacca90-203a-4a3c-a3ce-ed6b3cb0e279"
      },
      "execution_count": 80,
      "outputs": [
        {
          "output_type": "execute_result",
          "data": {
            "text/plain": [
              "True"
            ]
          },
          "metadata": {},
          "execution_count": 80
        }
      ]
    },
    {
      "cell_type": "markdown",
      "source": [
        "## Conclusion"
      ],
      "metadata": {
        "id": "WcX7ayRncwns"
      }
    },
    {
      "cell_type": "markdown",
      "source": [
        "Through this laboratory activity, it proved that it is easier to solve multiplication of matrices through Google Collab than manually solving it. With inputting codes to our matrices, the program itself will automatically solve it  by clicking “Run”. Nonetheless, codes are a bit sensitive when inputted – not to mention some might be the same but will have a different outcome – one will find it convenient to learn and apply the codes every time they encounter matrix problems. Also, the rules and properties for matrix multiplication were guides for encoding as well so that one will not be confused on what codes are appropriate to apply. Learning through Google Colab requires patience yet it is interacting and interesting in some ways – like if one was to apply future calculations related to matrix multiplications such as inverse, determinants, dot product, and many more. "
      ],
      "metadata": {
        "id": "YLfMn3YIcxY1"
      }
    }
  ]
}