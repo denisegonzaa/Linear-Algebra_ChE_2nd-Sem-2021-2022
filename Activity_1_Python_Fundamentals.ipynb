{
  "nbformat": 4,
  "nbformat_minor": 0,
  "metadata": {
    "colab": {
      "name": "Activity 1 - Python Fundamentals",
      "provenance": [],
      "authorship_tag": "ABX9TyPQUSHnY6Aq8ko99FytXVmS",
      "include_colab_link": true
    },
    "kernelspec": {
      "name": "python3",
      "display_name": "Python 3"
    },
    "language_info": {
      "name": "python"
    }
  },
  "cells": [
    {
      "cell_type": "markdown",
      "metadata": {
        "id": "view-in-github",
        "colab_type": "text"
      },
      "source": [
        "<a href=\"https://colab.research.google.com/github/denisegonzaa/Linear-Algebra_ChE_2nd-Sem-2021-2022/blob/main/Activity_1_Python_Fundamentals.ipynb\" target=\"_parent\"><img src=\"https://colab.research.google.com/assets/colab-badge.svg\" alt=\"Open In Colab\"/></a>"
      ]
    },
    {
      "cell_type": "markdown",
      "source": [
        "# Welcome To Python Fundamentals\n",
        "In this module, we are going to establish or review our skills in Python programming. In this notebook, we are going to cover:\n",
        " * Variables and Data Types\n",
        " * Operations\n",
        " * Input and Output Operations\n",
        " * Logic Control\n",
        " * Iterables\n",
        " * Functions"
      ],
      "metadata": {
        "id": "yvD-2E-Y5AKZ"
      }
    },
    {
      "cell_type": "markdown",
      "source": [
        "## Variable and Data Types"
      ],
      "metadata": {
        "id": "96GYtAJe8wfS"
      }
    },
    {
      "cell_type": "markdown",
      "source": [
        "In programming, variable is defined as the symbolic name that represents an unknown quantity that is being used at any time, it is the noun of a programming language which is changing for every execution depending on the information stored in it. Meanwhile, data types specify a variable on what information it contains and what type of operation it will use such as mathematical, logical, or relational."
      ],
      "metadata": {
        "id": "7FUZ1Yc3Q13Y"
      }
    },
    {
      "cell_type": "code",
      "source": [
        "a = 1\n",
        "d,g = 0, -1\n",
        "g"
      ],
      "metadata": {
        "id": "795kYNBb88IR",
        "colab": {
          "base_uri": "https://localhost:8080/"
        },
        "outputId": "b6c2ade1-8896-4d26-bebc-d1364a0b4658"
      },
      "execution_count": 2,
      "outputs": [
        {
          "output_type": "execute_result",
          "data": {
            "text/plain": [
              "-1"
            ]
          },
          "metadata": {},
          "execution_count": 2
        }
      ]
    },
    {
      "cell_type": "code",
      "source": [
        "type(g)"
      ],
      "metadata": {
        "colab": {
          "base_uri": "https://localhost:8080/"
        },
        "id": "FET9I9SS_66E",
        "outputId": "ec59e70e-5bf9-4971-f95c-83050d64da68"
      },
      "execution_count": 3,
      "outputs": [
        {
          "output_type": "execute_result",
          "data": {
            "text/plain": [
              "int"
            ]
          },
          "metadata": {},
          "execution_count": 3
        }
      ]
    },
    {
      "cell_type": "code",
      "source": [
        "v = 1.0\n",
        "type(v)"
      ],
      "metadata": {
        "colab": {
          "base_uri": "https://localhost:8080/"
        },
        "id": "NpVqzE_1__15",
        "outputId": "52d4d733-9f6d-4cf0-e917-3bdb5044edbc"
      },
      "execution_count": 4,
      "outputs": [
        {
          "output_type": "execute_result",
          "data": {
            "text/plain": [
              "float"
            ]
          },
          "metadata": {},
          "execution_count": 4
        }
      ]
    },
    {
      "cell_type": "code",
      "source": [
        "a = float(a)\n",
        "type(a)"
      ],
      "metadata": {
        "colab": {
          "base_uri": "https://localhost:8080/"
        },
        "id": "OeYoP7uDA36v",
        "outputId": "224112c2-16f4-41c6-e834-ef8e5f65c515"
      },
      "execution_count": 5,
      "outputs": [
        {
          "output_type": "execute_result",
          "data": {
            "text/plain": [
              "float"
            ]
          },
          "metadata": {},
          "execution_count": 5
        }
      ]
    },
    {
      "cell_type": "code",
      "source": [
        "r,e,y = \"0\", '1', 'one'\n",
        "type(r)"
      ],
      "metadata": {
        "colab": {
          "base_uri": "https://localhost:8080/"
        },
        "id": "OUx72F3RBpZm",
        "outputId": "c0fec45f-32f9-4858-9150-1c9b5b7024eb"
      },
      "execution_count": 6,
      "outputs": [
        {
          "output_type": "execute_result",
          "data": {
            "text/plain": [
              "str"
            ]
          },
          "metadata": {},
          "execution_count": 6
        }
      ]
    },
    {
      "cell_type": "code",
      "source": [
        "r_int = int(r)\n",
        "r_int"
      ],
      "metadata": {
        "colab": {
          "base_uri": "https://localhost:8080/"
        },
        "id": "wJXSEqs4CARf",
        "outputId": "27f81bd4-8a12-4051-f985-c87ab51f46e2"
      },
      "execution_count": 7,
      "outputs": [
        {
          "output_type": "execute_result",
          "data": {
            "text/plain": [
              "0"
            ]
          },
          "metadata": {},
          "execution_count": 7
        }
      ]
    },
    {
      "cell_type": "markdown",
      "source": [
        "## Operations"
      ],
      "metadata": {
        "id": "oERnjxSQCTiN"
      }
    },
    {
      "cell_type": "markdown",
      "source": [
        "Operations are known as an action that is done to achieve a certain task. This method uses an operator which is a symbol to accomplish computations, the types of operators are the following: arithmetic, assignment, comparison, logical, and input-output operators.This method uses an operator which is a symbol to accomplish computations, the types of operators are the following: arithmetic, assignment, comparison, logical, and input-output operators"
      ],
      "metadata": {
        "id": "gvOsdhzkQ5RR"
      }
    },
    {
      "cell_type": "markdown",
      "source": [
        "### Arithmetic"
      ],
      "metadata": {
        "id": "aTxWedYMCeq1"
      }
    },
    {
      "cell_type": "code",
      "source": [
        "d,g,i,n = 2.0, -0.5, 0, -32"
      ],
      "metadata": {
        "id": "LM60hxG9DFpg"
      },
      "execution_count": 8,
      "outputs": []
    },
    {
      "cell_type": "code",
      "source": [
        "### Addition\n",
        "S = d+g\n",
        "S"
      ],
      "metadata": {
        "colab": {
          "base_uri": "https://localhost:8080/"
        },
        "id": "bsgo6acRDUz4",
        "outputId": "4290e1fa-863e-4330-d992-33daee663e90"
      },
      "execution_count": 9,
      "outputs": [
        {
          "output_type": "execute_result",
          "data": {
            "text/plain": [
              "1.5"
            ]
          },
          "metadata": {},
          "execution_count": 9
        }
      ]
    },
    {
      "cell_type": "code",
      "source": [
        "### Subtraction\n",
        "D = g-n\n",
        "D"
      ],
      "metadata": {
        "colab": {
          "base_uri": "https://localhost:8080/"
        },
        "id": "NXzOvKjjD9-g",
        "outputId": "c7970875-7055-42d0-e08a-a6e1a3a9a248"
      },
      "execution_count": 10,
      "outputs": [
        {
          "output_type": "execute_result",
          "data": {
            "text/plain": [
              "31.5"
            ]
          },
          "metadata": {},
          "execution_count": 10
        }
      ]
    },
    {
      "cell_type": "code",
      "source": [
        "### Multiplication\n",
        "P = d*n\n",
        "P"
      ],
      "metadata": {
        "colab": {
          "base_uri": "https://localhost:8080/"
        },
        "id": "Y_1LySK2ENQw",
        "outputId": "0dd79173-6824-48fb-fb0c-37d14d57a64f"
      },
      "execution_count": 11,
      "outputs": [
        {
          "output_type": "execute_result",
          "data": {
            "text/plain": [
              "-64.0"
            ]
          },
          "metadata": {},
          "execution_count": 11
        }
      ]
    },
    {
      "cell_type": "code",
      "source": [
        "### Division\n",
        "Q = i/d\n",
        "Q"
      ],
      "metadata": {
        "colab": {
          "base_uri": "https://localhost:8080/"
        },
        "id": "4EZRB7aEEtlD",
        "outputId": "3c9c4810-d71e-46ec-c96e-396a9e7ef88e"
      },
      "execution_count": 12,
      "outputs": [
        {
          "output_type": "execute_result",
          "data": {
            "text/plain": [
              "0.0"
            ]
          },
          "metadata": {},
          "execution_count": 12
        }
      ]
    },
    {
      "cell_type": "code",
      "source": [
        "### Floor Division\n",
        "Fq = d//g\n",
        "Fq"
      ],
      "metadata": {
        "colab": {
          "base_uri": "https://localhost:8080/"
        },
        "id": "7ulmWIohFH0Q",
        "outputId": "4b3047b6-659d-49cd-d80c-8334a5f9d5b1"
      },
      "execution_count": 13,
      "outputs": [
        {
          "output_type": "execute_result",
          "data": {
            "text/plain": [
              "-4.0"
            ]
          },
          "metadata": {},
          "execution_count": 13
        }
      ]
    },
    {
      "cell_type": "code",
      "source": [
        "### Exponentiation\n",
        "E = d**g\n",
        "E"
      ],
      "metadata": {
        "colab": {
          "base_uri": "https://localhost:8080/"
        },
        "id": "63oLkQp_GgvR",
        "outputId": "07b960a5-7a4b-4d2c-ba62-4a1d49f2e957"
      },
      "execution_count": 14,
      "outputs": [
        {
          "output_type": "execute_result",
          "data": {
            "text/plain": [
              "0.7071067811865476"
            ]
          },
          "metadata": {},
          "execution_count": 14
        }
      ]
    },
    {
      "cell_type": "code",
      "source": [
        "### Modulo\n",
        "mod = n%d\n",
        "mod"
      ],
      "metadata": {
        "colab": {
          "base_uri": "https://localhost:8080/"
        },
        "id": "yTm7zeLYG_5w",
        "outputId": "4e0b9f10-fb79-4df4-ad19-26dd600f435f"
      },
      "execution_count": 15,
      "outputs": [
        {
          "output_type": "execute_result",
          "data": {
            "text/plain": [
              "0.0"
            ]
          },
          "metadata": {},
          "execution_count": 15
        }
      ]
    },
    {
      "cell_type": "markdown",
      "source": [
        "### Assignment Operations"
      ],
      "metadata": {
        "id": "1tfnMjmfHgmp"
      }
    },
    {
      "cell_type": "code",
      "source": [
        "B, C, O, P = 0, 100, 2, 2"
      ],
      "metadata": {
        "id": "iYny6Za3Hlcr"
      },
      "execution_count": 16,
      "outputs": []
    },
    {
      "cell_type": "code",
      "source": [
        "B += d\n",
        "B"
      ],
      "metadata": {
        "colab": {
          "base_uri": "https://localhost:8080/"
        },
        "id": "-mmPZxOpIP9M",
        "outputId": "8cf98763-505d-4c26-eeee-c71bb9915b16"
      },
      "execution_count": 17,
      "outputs": [
        {
          "output_type": "execute_result",
          "data": {
            "text/plain": [
              "2.0"
            ]
          },
          "metadata": {},
          "execution_count": 17
        }
      ]
    },
    {
      "cell_type": "code",
      "source": [
        "C -= n\n",
        "C"
      ],
      "metadata": {
        "colab": {
          "base_uri": "https://localhost:8080/"
        },
        "id": "QePviQ_7Il-y",
        "outputId": "a5e609ca-94c5-41a7-8bd8-8109a753fd33"
      },
      "execution_count": 18,
      "outputs": [
        {
          "output_type": "execute_result",
          "data": {
            "text/plain": [
              "132"
            ]
          },
          "metadata": {},
          "execution_count": 18
        }
      ]
    },
    {
      "cell_type": "code",
      "source": [
        "O *= 2\n",
        "2"
      ],
      "metadata": {
        "colab": {
          "base_uri": "https://localhost:8080/"
        },
        "id": "ydgM2cJ2IvtS",
        "outputId": "6e6dc913-1896-452f-c206-170e767cbf6e"
      },
      "execution_count": 19,
      "outputs": [
        {
          "output_type": "execute_result",
          "data": {
            "text/plain": [
              "2"
            ]
          },
          "metadata": {},
          "execution_count": 19
        }
      ]
    },
    {
      "cell_type": "code",
      "source": [
        "P **= 2\n",
        "P"
      ],
      "metadata": {
        "colab": {
          "base_uri": "https://localhost:8080/"
        },
        "id": "BbhloOXSJLB7",
        "outputId": "6ae49830-d015-4058-f9e5-4d0b7c82dca6"
      },
      "execution_count": 20,
      "outputs": [
        {
          "output_type": "execute_result",
          "data": {
            "text/plain": [
              "4"
            ]
          },
          "metadata": {},
          "execution_count": 20
        }
      ]
    },
    {
      "cell_type": "markdown",
      "source": [
        "## Comparators"
      ],
      "metadata": {
        "id": "dugn1z1hMYD9"
      }
    },
    {
      "cell_type": "code",
      "source": [
        "res_1, res_2, res_3 = 1, 2.0, \"1\"\n",
        "true_val = 1.0"
      ],
      "metadata": {
        "id": "yHuh8KpyMa1T"
      },
      "execution_count": 21,
      "outputs": []
    },
    {
      "cell_type": "code",
      "source": [
        "## Equality\n",
        "res_1 == true_val"
      ],
      "metadata": {
        "colab": {
          "base_uri": "https://localhost:8080/"
        },
        "id": "OIDZf6dSMt2Q",
        "outputId": "ddec34c8-e7fa-437a-8098-11e1e1f0f158"
      },
      "execution_count": 22,
      "outputs": [
        {
          "output_type": "execute_result",
          "data": {
            "text/plain": [
              "True"
            ]
          },
          "metadata": {},
          "execution_count": 22
        }
      ]
    },
    {
      "cell_type": "code",
      "source": [
        "## Non-equality\n",
        "res_2 != true_val"
      ],
      "metadata": {
        "colab": {
          "base_uri": "https://localhost:8080/"
        },
        "id": "l1eMTlnrM2YX",
        "outputId": "028cd928-c269-4ca3-b141-3984b1537c7e"
      },
      "execution_count": 23,
      "outputs": [
        {
          "output_type": "execute_result",
          "data": {
            "text/plain": [
              "True"
            ]
          },
          "metadata": {},
          "execution_count": 23
        }
      ]
    },
    {
      "cell_type": "code",
      "source": [
        "## Inequality\n",
        "t1 = res_1 > res_2\n",
        "t2 = res_1 < res_2/2\n",
        "t3 = res_1 >= res_2/2\n",
        "t4 = res_1 <= res_2\n",
        "t4"
      ],
      "metadata": {
        "colab": {
          "base_uri": "https://localhost:8080/"
        },
        "id": "FSs1fD0UM-2I",
        "outputId": "906f964d-6fd0-4848-bc3b-1dd572cc7250"
      },
      "execution_count": 24,
      "outputs": [
        {
          "output_type": "execute_result",
          "data": {
            "text/plain": [
              "True"
            ]
          },
          "metadata": {},
          "execution_count": 24
        }
      ]
    },
    {
      "cell_type": "markdown",
      "source": [
        "## Logical"
      ],
      "metadata": {
        "id": "Z6sQ8DknPHjO"
      }
    },
    {
      "cell_type": "code",
      "source": [
        "res_1 == true_val"
      ],
      "metadata": {
        "colab": {
          "base_uri": "https://localhost:8080/"
        },
        "id": "pljoBZMjPrzr",
        "outputId": "a8ec22f2-d539-45f1-b6bc-e48325c55e06"
      },
      "execution_count": 25,
      "outputs": [
        {
          "output_type": "execute_result",
          "data": {
            "text/plain": [
              "True"
            ]
          },
          "metadata": {},
          "execution_count": 25
        }
      ]
    },
    {
      "cell_type": "code",
      "source": [
        "res_1 is true_val"
      ],
      "metadata": {
        "colab": {
          "base_uri": "https://localhost:8080/"
        },
        "id": "ysdxJ7vHQBt8",
        "outputId": "51a4e013-7d2a-4411-d3ae-1e28671158ef"
      },
      "execution_count": 26,
      "outputs": [
        {
          "output_type": "execute_result",
          "data": {
            "text/plain": [
              "False"
            ]
          },
          "metadata": {},
          "execution_count": 26
        }
      ]
    },
    {
      "cell_type": "code",
      "source": [
        "res_1 is not true_val"
      ],
      "metadata": {
        "colab": {
          "base_uri": "https://localhost:8080/"
        },
        "id": "YpTIp3wzQH-e",
        "outputId": "d82d68c2-78e3-4b4b-b8a0-5d184e5ff988"
      },
      "execution_count": 27,
      "outputs": [
        {
          "output_type": "execute_result",
          "data": {
            "text/plain": [
              "True"
            ]
          },
          "metadata": {},
          "execution_count": 27
        }
      ]
    },
    {
      "cell_type": "code",
      "source": [
        "t,l = True, False\n",
        "conj = t and l\n",
        "conj"
      ],
      "metadata": {
        "colab": {
          "base_uri": "https://localhost:8080/"
        },
        "id": "lqp3cEqBQQYH",
        "outputId": "eb6becf8-947c-4a8a-b746-15c840ba2128"
      },
      "execution_count": 28,
      "outputs": [
        {
          "output_type": "execute_result",
          "data": {
            "text/plain": [
              "False"
            ]
          },
          "metadata": {},
          "execution_count": 28
        }
      ]
    },
    {
      "cell_type": "code",
      "source": [
        "t,l = True, False\n",
        "disj = t or l\n",
        "disj"
      ],
      "metadata": {
        "colab": {
          "base_uri": "https://localhost:8080/"
        },
        "id": "dXMSFYJ5Q_Xt",
        "outputId": "6dd220da-2f4e-4b67-ece6-5751420422b5"
      },
      "execution_count": 29,
      "outputs": [
        {
          "output_type": "execute_result",
          "data": {
            "text/plain": [
              "True"
            ]
          },
          "metadata": {},
          "execution_count": 29
        }
      ]
    },
    {
      "cell_type": "code",
      "source": [
        "t,l = True, False\n",
        "nand = not(t and l)\n",
        "nand"
      ],
      "metadata": {
        "colab": {
          "base_uri": "https://localhost:8080/"
        },
        "id": "3utBX6V8Roac",
        "outputId": "d318cbe4-baa5-459a-d609-57811bac4b20"
      },
      "execution_count": 30,
      "outputs": [
        {
          "output_type": "execute_result",
          "data": {
            "text/plain": [
              "True"
            ]
          },
          "metadata": {},
          "execution_count": 30
        }
      ]
    },
    {
      "cell_type": "code",
      "source": [
        "t,l = True, False\n",
        "xor = (not t and l) or (t and not l)\n",
        "xor"
      ],
      "metadata": {
        "colab": {
          "base_uri": "https://localhost:8080/"
        },
        "id": "2DWtddYOSu8R",
        "outputId": "550eaff2-8e1e-4e5d-9229-0c0b35e140a8"
      },
      "execution_count": 31,
      "outputs": [
        {
          "output_type": "execute_result",
          "data": {
            "text/plain": [
              "True"
            ]
          },
          "metadata": {},
          "execution_count": 31
        }
      ]
    },
    {
      "cell_type": "markdown",
      "source": [
        "## I/O"
      ],
      "metadata": {
        "id": "RLhEmhsXTFuX"
      }
    },
    {
      "cell_type": "code",
      "source": [
        "print(\"Tapusin mo course mo bago ka tapusin niyan\")"
      ],
      "metadata": {
        "colab": {
          "base_uri": "https://localhost:8080/"
        },
        "id": "yLWl3JQfTIpj",
        "outputId": "f5006041-c6c6-41e0-e646-c3867df0cf43"
      },
      "execution_count": 32,
      "outputs": [
        {
          "output_type": "stream",
          "name": "stdout",
          "text": [
            "Tapusin mo course mo bago ka tapusin niyan\n"
          ]
        }
      ]
    },
    {
      "cell_type": "code",
      "source": [
        "cnt = 1"
      ],
      "metadata": {
        "id": "iPHkprx0TqgH"
      },
      "execution_count": 33,
      "outputs": []
    },
    {
      "cell_type": "code",
      "source": [
        "string = \"Tapusin mo course mo bago ka tapusin niyan\"\n",
        "print(string, \", Current run count is:\", cnt)\n",
        "cnt += 1"
      ],
      "metadata": {
        "colab": {
          "base_uri": "https://localhost:8080/"
        },
        "id": "C_tgcrcRTtaL",
        "outputId": "1ab1ffc4-b1a8-4e06-d6e3-7b7a95ef0f8d"
      },
      "execution_count": 34,
      "outputs": [
        {
          "output_type": "stream",
          "name": "stdout",
          "text": [
            "Tapusin mo course mo bago ka tapusin niyan , Current run count is: 1\n"
          ]
        }
      ]
    },
    {
      "cell_type": "code",
      "source": [
        "print(f\"{string}, Current count is:{cnt}\")"
      ],
      "metadata": {
        "colab": {
          "base_uri": "https://localhost:8080/"
        },
        "id": "EyrPmq84U9w1",
        "outputId": "9ab0b234-4291-4e6b-eece-671636696313"
      },
      "execution_count": 35,
      "outputs": [
        {
          "output_type": "stream",
          "name": "stdout",
          "text": [
            "Tapusin mo course mo bago ka tapusin niyan, Current count is:2\n"
          ]
        }
      ]
    },
    {
      "cell_type": "code",
      "source": [
        "sem_grade = 2.5\n",
        "name = \"Tobio\"\n",
        "print(\"Tapusin mo course mo bago ka tapusin niyan, {}. your semestral grade is: {}\".format(name, sem_grade))"
      ],
      "metadata": {
        "colab": {
          "base_uri": "https://localhost:8080/"
        },
        "id": "a-vTypCKWqsI",
        "outputId": "39a68d00-95dd-4d94-a1c9-4fbdbe57b3c9"
      },
      "execution_count": 36,
      "outputs": [
        {
          "output_type": "stream",
          "name": "stdout",
          "text": [
            "Tapusin mo course mo bago ka tapusin niyan, Tobio. your semestral grade is: 2.5\n"
          ]
        }
      ]
    },
    {
      "cell_type": "code",
      "source": [
        "w_pg, w_mg, w_fg = 0.3, 0.3, 0.4\n",
        "print(\"The weights of your sem grades are:\\\n",
        "\\n\\t{:.2%} for Prelims\\\n",
        "\\n\\t{:.2%} for Midterms, and\\\n",
        "\\n\\t{:.2%} for Finals.\".format(w_pg, w_mg, w_fg))"
      ],
      "metadata": {
        "colab": {
          "base_uri": "https://localhost:8080/"
        },
        "id": "T6rfldi8XcqZ",
        "outputId": "ae71c00e-45a9-48cf-84b6-8f3569e8b924"
      },
      "execution_count": 37,
      "outputs": [
        {
          "output_type": "stream",
          "name": "stdout",
          "text": [
            "The weights of your sem grades are:\n",
            "\t30.00% for Prelims\n",
            "\t30.00% for Midterms, and\n",
            "\t40.00% for Finals.\n"
          ]
        }
      ]
    },
    {
      "cell_type": "code",
      "source": [
        "a = input(\"Enter a number: \")\n",
        "a"
      ],
      "metadata": {
        "id": "Nqbj6DqkYuYo",
        "colab": {
          "base_uri": "https://localhost:8080/",
          "height": 53
        },
        "outputId": "35bc7ec1-e197-4093-c368-6462ae960764"
      },
      "execution_count": 38,
      "outputs": [
        {
          "name": "stdout",
          "output_type": "stream",
          "text": [
            "Enter a number: 99\n"
          ]
        },
        {
          "output_type": "execute_result",
          "data": {
            "application/vnd.google.colaboratory.intrinsic+json": {
              "type": "string"
            },
            "text/plain": [
              "'99'"
            ]
          },
          "metadata": {},
          "execution_count": 38
        }
      ]
    },
    {
      "cell_type": "code",
      "source": [
        "name = input(\"Dangsine ireum: \")\n",
        "pg = input(\"Enter Prelim grade: \")\n",
        "mg = input(\"Enter Midterm grade: \")\n",
        "fg = input(\"Enter Finals grade: \")\n",
        "sem_grade = None\n",
        "print(\"Good day {}, your semestral grade is: {}\".format(name, sem_grade))"
      ],
      "metadata": {
        "colab": {
          "base_uri": "https://localhost:8080/"
        },
        "id": "VmCJSjHhyB_s",
        "outputId": "01b784ba-b458-42f3-f380-c32124a87df7"
      },
      "execution_count": 39,
      "outputs": [
        {
          "output_type": "stream",
          "name": "stdout",
          "text": [
            "Dangsine ireum: Nakahara Chuuya\n",
            "Enter Prelim grade: 86\n",
            "Enter Midterm grade: 67\n",
            "Enter Finals grade: 81\n",
            "Good day Nakahara Chuuya, your semestral grade is: None\n"
          ]
        }
      ]
    },
    {
      "cell_type": "markdown",
      "source": [
        "# Looping Statements"
      ],
      "metadata": {
        "id": "X2AVX0xN3gO9"
      }
    },
    {
      "cell_type": "markdown",
      "source": [
        "Loop is a sequence of instructions that are used for repeatable execution until the assigned condition is satisfied. The students used two different types of loops which are for and while "
      ],
      "metadata": {
        "id": "iHZgQBufRM9Y"
      }
    },
    {
      "cell_type": "markdown",
      "source": [
        "## While"
      ],
      "metadata": {
        "id": "GcFTBQQl3kk0"
      }
    },
    {
      "cell_type": "code",
      "source": [
        "## while loops\n",
        "m, s = 0, 10\n",
        "while(m<=s):\n",
        "  print(f\"{m}\\t|\\t{s}\")\n",
        "  m+=1"
      ],
      "metadata": {
        "colab": {
          "base_uri": "https://localhost:8080/"
        },
        "id": "y89oWN9d3nfk",
        "outputId": "896e80bc-825f-41c0-d59e-ea82e6bf2c18"
      },
      "execution_count": 40,
      "outputs": [
        {
          "output_type": "stream",
          "name": "stdout",
          "text": [
            "0\t|\t10\n",
            "1\t|\t10\n",
            "2\t|\t10\n",
            "3\t|\t10\n",
            "4\t|\t10\n",
            "5\t|\t10\n",
            "6\t|\t10\n",
            "7\t|\t10\n",
            "8\t|\t10\n",
            "9\t|\t10\n",
            "10\t|\t10\n"
          ]
        }
      ]
    },
    {
      "cell_type": "markdown",
      "source": [
        "## For"
      ],
      "metadata": {
        "id": "ioGYssrX5CIr"
      }
    },
    {
      "cell_type": "code",
      "source": [
        "# for(int m=0; s; m<10; m++){\n",
        "# printf(m)\n",
        "# }\n",
        "\n",
        "m=0\n",
        "for m in range(12):\n",
        "  print(m)"
      ],
      "metadata": {
        "colab": {
          "base_uri": "https://localhost:8080/"
        },
        "id": "UG1uLr0g5EaH",
        "outputId": "ec3a8768-1b42-415c-dbed-9403e1d0f2ee"
      },
      "execution_count": 41,
      "outputs": [
        {
          "output_type": "stream",
          "name": "stdout",
          "text": [
            "0\n",
            "1\n",
            "2\n",
            "3\n",
            "4\n",
            "5\n",
            "6\n",
            "7\n",
            "8\n",
            "9\n",
            "10\n",
            "11\n"
          ]
        }
      ]
    },
    {
      "cell_type": "code",
      "source": [
        "playlist = [\"Hikari Are\", \"Kaikai Kitan\", \"Moonlight Densetsu\"]\n",
        "print('Now Playing:\\n')\n",
        "for song in playlist:\n",
        "  print(song)"
      ],
      "metadata": {
        "colab": {
          "base_uri": "https://localhost:8080/"
        },
        "id": "eX39hbzO53m7",
        "outputId": "cb998d74-d3ea-4b02-dd7b-cce674c522ed"
      },
      "execution_count": 42,
      "outputs": [
        {
          "output_type": "stream",
          "name": "stdout",
          "text": [
            "Now Playing:\n",
            "\n",
            "Hikari Are\n",
            "Kaikai Kitan\n",
            "Moonlight Densetsu\n"
          ]
        }
      ]
    },
    {
      "cell_type": "markdown",
      "source": [
        "# Flow Control"
      ],
      "metadata": {
        "id": "yx-_ZOa7600g"
      }
    },
    {
      "cell_type": "markdown",
      "source": [
        "Flow Control is defined as the sequence in which statements in a script are executed by the computer and this is directed with conditional statements, loops, and function calls "
      ],
      "metadata": {
        "id": "JHzptq-KRVUJ"
      }
    },
    {
      "cell_type": "markdown",
      "source": [
        "## Condition Statements"
      ],
      "metadata": {
        "id": "dyVfJiJS6_IM"
      }
    },
    {
      "cell_type": "code",
      "source": [
        "numeral1, numeral2 = 12, 18\n",
        "if(numeral1 == numeral2):\n",
        "  print(\"Yass\")\n",
        "elif(numeral1>numeral2):\n",
        "  print(\"Oho\")\n",
        "else:\n",
        "  print(\"Naur\")\n"
      ],
      "metadata": {
        "colab": {
          "base_uri": "https://localhost:8080/"
        },
        "id": "Yb-hEiqT7F6D",
        "outputId": "4cf427a7-55a8-4ffb-ad04-daaa9dcce7cb"
      },
      "execution_count": 43,
      "outputs": [
        {
          "output_type": "stream",
          "name": "stdout",
          "text": [
            "Naur\n"
          ]
        }
      ]
    },
    {
      "cell_type": "markdown",
      "source": [
        "## Functions"
      ],
      "metadata": {
        "id": "NjuVaGGT9put"
      }
    },
    {
      "cell_type": "code",
      "source": [
        "# void DeleteUser(int userid){\n",
        "#    delete(userid);\n",
        "# }\n",
        "\n",
        "def delete_user (userid):\n",
        "  print(\"Successfuly deleted user: {}\".format(userid))\n",
        "\n",
        "def delete_all_users ():\n",
        "  print(\"Successfully deleted all users\")"
      ],
      "metadata": {
        "id": "RKZrqCAR9s03"
      },
      "execution_count": 44,
      "outputs": []
    },
    {
      "cell_type": "code",
      "source": [
        "userid = \"Mahito\"\n",
        "delete_user(\"Mahito\")\n",
        "delete_all_users()"
      ],
      "metadata": {
        "colab": {
          "base_uri": "https://localhost:8080/"
        },
        "id": "gsrorp7X_3aI",
        "outputId": "f87a4a55-3454-47e7-d7b8-6164cdc9bb9d"
      },
      "execution_count": 45,
      "outputs": [
        {
          "output_type": "stream",
          "name": "stdout",
          "text": [
            "Successfuly deleted user: Mahito\n",
            "Successfully deleted all users\n"
          ]
        }
      ]
    },
    {
      "cell_type": "code",
      "source": [
        "def add(addend1, addend2):\n",
        "  print(\"Now the sum is\")\n",
        "  return addend1 + addend2\n",
        "\n",
        "def power_of_base2(exponent):\n",
        "  return 2**exponent\n",
        "\n",
        "addend1 = 2\n",
        "addend2 = 18\n",
        "\n",
        "exponent = 5\n",
        "\n",
        "#add(addend1, addend2)\n",
        "power_of_base2(exponent)"
      ],
      "metadata": {
        "colab": {
          "base_uri": "https://localhost:8080/"
        },
        "id": "ziDFpcItAB6F",
        "outputId": "69a9521f-0066-4566-be84-19991495ea55"
      },
      "execution_count": 46,
      "outputs": [
        {
          "output_type": "execute_result",
          "data": {
            "text/plain": [
              "32"
            ]
          },
          "metadata": {},
          "execution_count": 46
        }
      ]
    },
    {
      "cell_type": "code",
      "source": [
        "add(addend1, addend2)"
      ],
      "metadata": {
        "colab": {
          "base_uri": "https://localhost:8080/"
        },
        "id": "UZuoQesyEstj",
        "outputId": "12b623bd-5691-42a9-d237-c1fec9edf01a"
      },
      "execution_count": 47,
      "outputs": [
        {
          "output_type": "stream",
          "name": "stdout",
          "text": [
            "Now the sum is\n"
          ]
        },
        {
          "output_type": "execute_result",
          "data": {
            "text/plain": [
              "20"
            ]
          },
          "metadata": {},
          "execution_count": 47
        }
      ]
    },
    {
      "cell_type": "markdown",
      "source": [
        "### Lambda Functions"
      ],
      "metadata": {
        "id": "cX87s5taAy9F"
      }
    },
    {
      "cell_type": "code",
      "source": [
        "a = 4"
      ],
      "metadata": {
        "id": "nlsswB-aA--u"
      },
      "execution_count": 48,
      "outputs": []
    },
    {
      "cell_type": "code",
      "source": [
        "def f(a):\n",
        "  return 2*(a*a)-1\n",
        "f(a)"
      ],
      "metadata": {
        "colab": {
          "base_uri": "https://localhost:8080/"
        },
        "id": "WOH8fKc0FICl",
        "outputId": "6b6f45a2-78e3-477c-d5ef-b363a63f1239"
      },
      "execution_count": 49,
      "outputs": [
        {
          "output_type": "execute_result",
          "data": {
            "text/plain": [
              "31"
            ]
          },
          "metadata": {},
          "execution_count": 49
        }
      ]
    },
    {
      "cell_type": "code",
      "source": [
        "b = lambda a: 2*(a*a)-1\n",
        "print(b(a))"
      ],
      "metadata": {
        "colab": {
          "base_uri": "https://localhost:8080/"
        },
        "id": "GsyxgQD1FSEP",
        "outputId": "cc53a1be-99f1-4c36-ca2d-0f9022a4505e"
      },
      "execution_count": 50,
      "outputs": [
        {
          "output_type": "stream",
          "name": "stdout",
          "text": [
            "31\n"
          ]
        }
      ]
    },
    {
      "cell_type": "markdown",
      "source": [
        "# Calculator"
      ],
      "metadata": {
        "id": "tYDr0fnGGWQX"
      }
    },
    {
      "cell_type": "markdown",
      "source": [
        "This program is created for calculating the semestral grade of a student wherein different methods were utilized in the codes; the name, course, and grades for preliminary, midterm, and final terms were being input. Then as a result or output, the semestral grade is calculated following the emoji assigned to that certain grade bracket.\n"
      ],
      "metadata": {
        "id": "M31cuaiZFgBt"
      }
    },
    {
      "cell_type": "code",
      "source": [
        "print()\n",
        "name = input('\\tDangsine ireum: ');\n",
        "course = input('\\tYour course: ');\n",
        "prelim = float(input('\\tPrelim grade is: '));\n",
        "midterm = float(input('\\tMidterm grade is: '));\n",
        "final = float(input('\\tFinal grade is: '));\n",
        "sem_grade = (prelim*0.30) + (midterm*0.30) + (final*0.40);\n",
        "\n",
        "sem_grade = \"{:.2f}\".format(sem_grade)\n",
        "print();\n",
        "print(\"\\t--RESULTS--\");\n",
        "print();\n",
        "print(\"\\tName: \", name, \"Course: \", course);\n",
        "if float(sem_grade) > 70.00:\n",
        "  print(\"\\tGrade: \", sem_grade, \"\\U0001F600\");\n",
        "elif float(sem_grade) == 70:\n",
        "  print(\"\\tGrade: \", sem_grade, \"\\U0001F606\");\n",
        "elif float(sem_grade) < 70:\n",
        "  print(\"\\tSemestral Grade: \", sem_grade, \"\\U0001F62D\");\n",
        "  print();"
      ],
      "metadata": {
        "colab": {
          "base_uri": "https://localhost:8080/"
        },
        "id": "etIwQrlpGhKt",
        "outputId": "0c79cdd8-8379-4dbc-fe54-d5d86c7c5201"
      },
      "execution_count": 51,
      "outputs": [
        {
          "output_type": "stream",
          "name": "stdout",
          "text": [
            "\n",
            "\tDangsine ireum: Nakahara Chuuya\n",
            "\tYour course: Linear Algebra\n",
            "\tPrelim grade is: 67.0238\n",
            "\tMidterm grade is: 87.9237\n",
            "\tFinal grade is: 72.0965\n",
            "\n",
            "\t--RESULTS--\n",
            "\n",
            "\tName:  Nakahara Chuuya Course:  Linear Algebra\n",
            "\tGrade:  75.32 😀\n"
          ]
        }
      ]
    }
  ]
}