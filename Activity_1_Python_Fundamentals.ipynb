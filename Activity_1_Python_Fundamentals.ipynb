{
  "nbformat": 4,
  "nbformat_minor": 0,
  "metadata": {
    "colab": {
      "name": "Activity 1 - Python Fundamentals",
      "provenance": [],
      "authorship_tag": "ABX9TyPQUSHnY6Aq8ko99FytXVmS",
      "include_colab_link": true
    },
    "kernelspec": {
      "name": "python3",
      "display_name": "Python 3"
    },
    "language_info": {
      "name": "python"
    }
  },
  "cells": [
    {
      "cell_type": "markdown",
      "metadata": {
        "id": "view-in-github",
        "colab_type": "text"
      },
      "source": [
        "<a href=\"https://colab.research.google.com/github/denisegonzaa/Linear-Algebra_ChE_2nd-Sem-2021-2022/blob/main/Activity_1_Python_Fundamentals.ipynb\" target=\"_parent\"><img src=\"https://colab.research.google.com/assets/colab-badge.svg\" alt=\"Open In Colab\"/></a>"
      ]
    },
    {
      "cell_type": "markdown",
      "source": [
        "# Welcome To Python Fundamentals\n",
        "In this module, we are going to establish or review our skills in Python programming. In this notebook, we are going to cover:\n",
        " * Variables and Data Types\n",
        " * Operations\n",
        " * Input and Output Operations\n",
        " * Logic Control\n",
        " * Iterables\n",
        " * Functions"
      ],
      "metadata": {
        "id": "yvD-2E-Y5AKZ"
      }
    },
    {
      "cell_type": "markdown",
      "source": [
        "## Variable and Data Types"
      ],
      "metadata": {
        "id": "96GYtAJe8wfS"
      }
    },
    {
      "cell_type": "markdown",
      "source": [
        "In programming, variable is defined as the symbolic name that represents an unknown quantity that is being used at any time, it is the noun of a programming language which is changing for every execution depending on the information stored in it. Meanwhile, data types specify a variable on what information it contains and what type of operation it will use such as mathematical, logical, or relational."
      ],
      "metadata": {
        "id": "7FUZ1Yc3Q13Y"
      }
    },
    {
      "cell_type": "code",
      "source": [
        "a = 1\n",
        "d,g = 0, -1\n",
        "g"
      ],
      "metadata": {
        "id": "795kYNBb88IR",
        "colab": {
          "base_uri": "https://localhost:8080/"
        },
        "outputId": "2b265ebf-c5c0-4535-d1b8-2487254ac65f"
      },
      "execution_count": null,
      "outputs": [
        {
          "output_type": "execute_result",
          "data": {
            "text/plain": [
              "-1"
            ]
          },
          "metadata": {},
          "execution_count": 3
        }
      ]
    },
    {
      "cell_type": "code",
      "source": [
        "type(g)"
      ],
      "metadata": {
        "colab": {
          "base_uri": "https://localhost:8080/"
        },
        "id": "FET9I9SS_66E",
        "outputId": "cf1ec8de-c559-42cf-d0cc-ff96eec77329"
      },
      "execution_count": null,
      "outputs": [
        {
          "output_type": "execute_result",
          "data": {
            "text/plain": [
              "int"
            ]
          },
          "metadata": {},
          "execution_count": 4
        }
      ]
    },
    {
      "cell_type": "code",
      "source": [
        "v = 1.0\n",
        "type(v)"
      ],
      "metadata": {
        "colab": {
          "base_uri": "https://localhost:8080/"
        },
        "id": "NpVqzE_1__15",
        "outputId": "e29f4235-86fd-4aed-ad0f-a93c3afe9355"
      },
      "execution_count": null,
      "outputs": [
        {
          "output_type": "execute_result",
          "data": {
            "text/plain": [
              "float"
            ]
          },
          "metadata": {},
          "execution_count": 5
        }
      ]
    },
    {
      "cell_type": "code",
      "source": [
        "a = float(a)\n",
        "type(a)"
      ],
      "metadata": {
        "colab": {
          "base_uri": "https://localhost:8080/"
        },
        "id": "OeYoP7uDA36v",
        "outputId": "cdfe8014-e264-478a-8184-b520a1b78b32"
      },
      "execution_count": null,
      "outputs": [
        {
          "output_type": "execute_result",
          "data": {
            "text/plain": [
              "float"
            ]
          },
          "metadata": {},
          "execution_count": 6
        }
      ]
    },
    {
      "cell_type": "code",
      "source": [
        "r,e,y = \"0\", '1', 'one'\n",
        "type(r)"
      ],
      "metadata": {
        "colab": {
          "base_uri": "https://localhost:8080/"
        },
        "id": "OUx72F3RBpZm",
        "outputId": "171f4276-f213-4b51-ca1b-c0abf73f32b0"
      },
      "execution_count": null,
      "outputs": [
        {
          "output_type": "execute_result",
          "data": {
            "text/plain": [
              "str"
            ]
          },
          "metadata": {},
          "execution_count": 7
        }
      ]
    },
    {
      "cell_type": "code",
      "source": [
        "r_int = int(r)\n",
        "r_int"
      ],
      "metadata": {
        "colab": {
          "base_uri": "https://localhost:8080/"
        },
        "id": "wJXSEqs4CARf",
        "outputId": "5c2148b7-a1ff-4324-e6ae-44e6bc55cdbc"
      },
      "execution_count": null,
      "outputs": [
        {
          "output_type": "execute_result",
          "data": {
            "text/plain": [
              "0"
            ]
          },
          "metadata": {},
          "execution_count": 8
        }
      ]
    },
    {
      "cell_type": "markdown",
      "source": [
        "## Operations"
      ],
      "metadata": {
        "id": "oERnjxSQCTiN"
      }
    },
    {
      "cell_type": "markdown",
      "source": [
        "Operations are known as an action that is done to achieve a certain task. This method uses an operator which is a symbol to accomplish computations, the types of operators are the following: arithmetic, assignment, comparison, logical, and input-output operators.This method uses an operator which is a symbol to accomplish computations, the types of operators are the following: arithmetic, assignment, comparison, logical, and input-output operators"
      ],
      "metadata": {
        "id": "gvOsdhzkQ5RR"
      }
    },
    {
      "cell_type": "markdown",
      "source": [
        "### Arithmetic"
      ],
      "metadata": {
        "id": "aTxWedYMCeq1"
      }
    },
    {
      "cell_type": "code",
      "source": [
        "d,g,i,n = 2.0, -0.5, 0, -32"
      ],
      "metadata": {
        "id": "LM60hxG9DFpg"
      },
      "execution_count": null,
      "outputs": []
    },
    {
      "cell_type": "code",
      "source": [
        "### Addition\n",
        "S = d+g\n",
        "S"
      ],
      "metadata": {
        "colab": {
          "base_uri": "https://localhost:8080/"
        },
        "id": "bsgo6acRDUz4",
        "outputId": "89f74c49-70bc-4573-c487-14c4988e44d5"
      },
      "execution_count": null,
      "outputs": [
        {
          "output_type": "execute_result",
          "data": {
            "text/plain": [
              "1.5"
            ]
          },
          "metadata": {},
          "execution_count": 10
        }
      ]
    },
    {
      "cell_type": "code",
      "source": [
        "### Subtraction\n",
        "D = g-n\n",
        "D"
      ],
      "metadata": {
        "colab": {
          "base_uri": "https://localhost:8080/"
        },
        "id": "NXzOvKjjD9-g",
        "outputId": "2fb29042-f581-4c54-a5f9-9e0573b5f8fa"
      },
      "execution_count": null,
      "outputs": [
        {
          "output_type": "execute_result",
          "data": {
            "text/plain": [
              "31.5"
            ]
          },
          "metadata": {},
          "execution_count": 11
        }
      ]
    },
    {
      "cell_type": "code",
      "source": [
        "### Multiplication\n",
        "P = d*n\n",
        "P"
      ],
      "metadata": {
        "colab": {
          "base_uri": "https://localhost:8080/"
        },
        "id": "Y_1LySK2ENQw",
        "outputId": "fd4f49af-6d94-4960-d9e8-800c9acb9af2"
      },
      "execution_count": null,
      "outputs": [
        {
          "output_type": "execute_result",
          "data": {
            "text/plain": [
              "-64.0"
            ]
          },
          "metadata": {},
          "execution_count": 12
        }
      ]
    },
    {
      "cell_type": "code",
      "source": [
        "### Division\n",
        "Q = i/d\n",
        "Q"
      ],
      "metadata": {
        "colab": {
          "base_uri": "https://localhost:8080/"
        },
        "id": "4EZRB7aEEtlD",
        "outputId": "abb552a7-7eb0-4f73-b53f-2014556d0805"
      },
      "execution_count": null,
      "outputs": [
        {
          "output_type": "execute_result",
          "data": {
            "text/plain": [
              "0.0"
            ]
          },
          "metadata": {},
          "execution_count": 13
        }
      ]
    },
    {
      "cell_type": "code",
      "source": [
        "### Floor Division\n",
        "Fq = d//g\n",
        "Fq"
      ],
      "metadata": {
        "colab": {
          "base_uri": "https://localhost:8080/"
        },
        "id": "7ulmWIohFH0Q",
        "outputId": "991a2ff1-ffcf-4c51-e85a-e3c40928b8fb"
      },
      "execution_count": null,
      "outputs": [
        {
          "output_type": "execute_result",
          "data": {
            "text/plain": [
              "-4.0"
            ]
          },
          "metadata": {},
          "execution_count": 14
        }
      ]
    },
    {
      "cell_type": "code",
      "source": [
        "### Exponentiation\n",
        "E = d**g\n",
        "E"
      ],
      "metadata": {
        "colab": {
          "base_uri": "https://localhost:8080/"
        },
        "id": "63oLkQp_GgvR",
        "outputId": "dba5b7e3-5ef1-4502-b666-4086ee85725e"
      },
      "execution_count": null,
      "outputs": [
        {
          "output_type": "execute_result",
          "data": {
            "text/plain": [
              "0.7071067811865476"
            ]
          },
          "metadata": {},
          "execution_count": 15
        }
      ]
    },
    {
      "cell_type": "code",
      "source": [
        "### Modulo\n",
        "mod = n%d\n",
        "mod"
      ],
      "metadata": {
        "colab": {
          "base_uri": "https://localhost:8080/"
        },
        "id": "yTm7zeLYG_5w",
        "outputId": "3fc865ca-5345-41c7-ddea-0ea4ab1c9a00"
      },
      "execution_count": null,
      "outputs": [
        {
          "output_type": "execute_result",
          "data": {
            "text/plain": [
              "0.0"
            ]
          },
          "metadata": {},
          "execution_count": 16
        }
      ]
    },
    {
      "cell_type": "markdown",
      "source": [
        "### Assignment Operations"
      ],
      "metadata": {
        "id": "1tfnMjmfHgmp"
      }
    },
    {
      "cell_type": "code",
      "source": [
        "B, C, O, P = 0, 100, 2, 2"
      ],
      "metadata": {
        "id": "iYny6Za3Hlcr"
      },
      "execution_count": null,
      "outputs": []
    },
    {
      "cell_type": "code",
      "source": [
        "B += d\n",
        "B"
      ],
      "metadata": {
        "colab": {
          "base_uri": "https://localhost:8080/"
        },
        "id": "-mmPZxOpIP9M",
        "outputId": "44d53231-6f9d-48e6-dac4-1866895c7f60"
      },
      "execution_count": null,
      "outputs": [
        {
          "output_type": "execute_result",
          "data": {
            "text/plain": [
              "2.0"
            ]
          },
          "metadata": {},
          "execution_count": 18
        }
      ]
    },
    {
      "cell_type": "code",
      "source": [
        "C -= n\n",
        "C"
      ],
      "metadata": {
        "colab": {
          "base_uri": "https://localhost:8080/"
        },
        "id": "QePviQ_7Il-y",
        "outputId": "d3111da7-7b8d-4eaa-d0b0-84af47120825"
      },
      "execution_count": null,
      "outputs": [
        {
          "output_type": "execute_result",
          "data": {
            "text/plain": [
              "132"
            ]
          },
          "metadata": {},
          "execution_count": 19
        }
      ]
    },
    {
      "cell_type": "code",
      "source": [
        "O *= 2\n",
        "2"
      ],
      "metadata": {
        "colab": {
          "base_uri": "https://localhost:8080/"
        },
        "id": "ydgM2cJ2IvtS",
        "outputId": "906a331d-149c-46dc-8524-a265cb42c0c9"
      },
      "execution_count": null,
      "outputs": [
        {
          "output_type": "execute_result",
          "data": {
            "text/plain": [
              "2"
            ]
          },
          "metadata": {},
          "execution_count": 20
        }
      ]
    },
    {
      "cell_type": "code",
      "source": [
        "P **= 2\n",
        "P"
      ],
      "metadata": {
        "colab": {
          "base_uri": "https://localhost:8080/"
        },
        "id": "BbhloOXSJLB7",
        "outputId": "e5cff290-6f36-4a33-8a5c-e23a2e001ae8"
      },
      "execution_count": null,
      "outputs": [
        {
          "output_type": "execute_result",
          "data": {
            "text/plain": [
              "4"
            ]
          },
          "metadata": {},
          "execution_count": 21
        }
      ]
    },
    {
      "cell_type": "markdown",
      "source": [
        "## Comparators"
      ],
      "metadata": {
        "id": "dugn1z1hMYD9"
      }
    },
    {
      "cell_type": "code",
      "source": [
        "res_1, res_2, res_3 = 1, 2.0, \"1\"\n",
        "true_val = 1.0"
      ],
      "metadata": {
        "id": "yHuh8KpyMa1T"
      },
      "execution_count": null,
      "outputs": []
    },
    {
      "cell_type": "code",
      "source": [
        "## Equality\n",
        "res_1 == true_val"
      ],
      "metadata": {
        "colab": {
          "base_uri": "https://localhost:8080/"
        },
        "id": "OIDZf6dSMt2Q",
        "outputId": "4fa88587-1a0d-43ee-91cf-78ff7da20cf2"
      },
      "execution_count": null,
      "outputs": [
        {
          "output_type": "execute_result",
          "data": {
            "text/plain": [
              "True"
            ]
          },
          "metadata": {},
          "execution_count": 23
        }
      ]
    },
    {
      "cell_type": "code",
      "source": [
        "## Non-equality\n",
        "res_2 != true_val"
      ],
      "metadata": {
        "colab": {
          "base_uri": "https://localhost:8080/"
        },
        "id": "l1eMTlnrM2YX",
        "outputId": "9071b4f0-b0d1-43b5-dfdb-fccdd34e095c"
      },
      "execution_count": null,
      "outputs": [
        {
          "output_type": "execute_result",
          "data": {
            "text/plain": [
              "True"
            ]
          },
          "metadata": {},
          "execution_count": 24
        }
      ]
    },
    {
      "cell_type": "code",
      "source": [
        "## Inequality\n",
        "t1 = res_1 > res_2\n",
        "t2 = res_1 < res_2/2\n",
        "t3 = res_1 >= res_2/2\n",
        "t4 = res_1 <= res_2\n",
        "t4"
      ],
      "metadata": {
        "colab": {
          "base_uri": "https://localhost:8080/"
        },
        "id": "FSs1fD0UM-2I",
        "outputId": "eabfc533-889c-411e-cab5-ef5836cd8651"
      },
      "execution_count": null,
      "outputs": [
        {
          "output_type": "execute_result",
          "data": {
            "text/plain": [
              "True"
            ]
          },
          "metadata": {},
          "execution_count": 25
        }
      ]
    },
    {
      "cell_type": "markdown",
      "source": [
        "## Logical"
      ],
      "metadata": {
        "id": "Z6sQ8DknPHjO"
      }
    },
    {
      "cell_type": "code",
      "source": [
        "res_1 == true_val"
      ],
      "metadata": {
        "colab": {
          "base_uri": "https://localhost:8080/"
        },
        "id": "pljoBZMjPrzr",
        "outputId": "c5c7d2d6-dcd3-4c8e-9812-320a52cd3795"
      },
      "execution_count": null,
      "outputs": [
        {
          "output_type": "execute_result",
          "data": {
            "text/plain": [
              "True"
            ]
          },
          "metadata": {},
          "execution_count": 26
        }
      ]
    },
    {
      "cell_type": "code",
      "source": [
        "res_1 is true_val"
      ],
      "metadata": {
        "colab": {
          "base_uri": "https://localhost:8080/"
        },
        "id": "ysdxJ7vHQBt8",
        "outputId": "72581590-76a6-4909-a4db-cee05c19766a"
      },
      "execution_count": null,
      "outputs": [
        {
          "output_type": "execute_result",
          "data": {
            "text/plain": [
              "False"
            ]
          },
          "metadata": {},
          "execution_count": 27
        }
      ]
    },
    {
      "cell_type": "code",
      "source": [
        "res_1 is not true_val"
      ],
      "metadata": {
        "colab": {
          "base_uri": "https://localhost:8080/"
        },
        "id": "YpTIp3wzQH-e",
        "outputId": "f59d16fb-ea5e-46ff-df8e-d91852533581"
      },
      "execution_count": null,
      "outputs": [
        {
          "output_type": "execute_result",
          "data": {
            "text/plain": [
              "True"
            ]
          },
          "metadata": {},
          "execution_count": 28
        }
      ]
    },
    {
      "cell_type": "code",
      "source": [
        "t,l = True, False\n",
        "conj = t and l\n",
        "conj"
      ],
      "metadata": {
        "colab": {
          "base_uri": "https://localhost:8080/"
        },
        "id": "lqp3cEqBQQYH",
        "outputId": "ce285439-2e06-4244-b378-6e457d5955b1"
      },
      "execution_count": null,
      "outputs": [
        {
          "output_type": "execute_result",
          "data": {
            "text/plain": [
              "False"
            ]
          },
          "metadata": {},
          "execution_count": 29
        }
      ]
    },
    {
      "cell_type": "code",
      "source": [
        "t,l = True, False\n",
        "disj = t or l\n",
        "disj"
      ],
      "metadata": {
        "colab": {
          "base_uri": "https://localhost:8080/"
        },
        "id": "dXMSFYJ5Q_Xt",
        "outputId": "781154d7-199d-470c-90c9-93fc194f5555"
      },
      "execution_count": null,
      "outputs": [
        {
          "output_type": "execute_result",
          "data": {
            "text/plain": [
              "True"
            ]
          },
          "metadata": {},
          "execution_count": 30
        }
      ]
    },
    {
      "cell_type": "code",
      "source": [
        "t,l = True, False\n",
        "nand = not(t and l)\n",
        "nand"
      ],
      "metadata": {
        "colab": {
          "base_uri": "https://localhost:8080/"
        },
        "id": "3utBX6V8Roac",
        "outputId": "74aea930-0dc9-44cf-a891-29a696e2c2b8"
      },
      "execution_count": null,
      "outputs": [
        {
          "output_type": "execute_result",
          "data": {
            "text/plain": [
              "True"
            ]
          },
          "metadata": {},
          "execution_count": 31
        }
      ]
    },
    {
      "cell_type": "code",
      "source": [
        "t,l = True, False\n",
        "xor = (not t and l) or (t and not l)\n",
        "xor"
      ],
      "metadata": {
        "colab": {
          "base_uri": "https://localhost:8080/"
        },
        "id": "2DWtddYOSu8R",
        "outputId": "76e1c40f-598d-4416-fd45-e8db23c60f19"
      },
      "execution_count": null,
      "outputs": [
        {
          "output_type": "execute_result",
          "data": {
            "text/plain": [
              "True"
            ]
          },
          "metadata": {},
          "execution_count": 32
        }
      ]
    },
    {
      "cell_type": "markdown",
      "source": [
        "## I/O"
      ],
      "metadata": {
        "id": "RLhEmhsXTFuX"
      }
    },
    {
      "cell_type": "code",
      "source": [
        "print(\"Tapusin mo course mo bago ka tapusin niyan\")"
      ],
      "metadata": {
        "colab": {
          "base_uri": "https://localhost:8080/"
        },
        "id": "yLWl3JQfTIpj",
        "outputId": "de1404fe-6e74-4ff5-f8ea-a50182391287"
      },
      "execution_count": null,
      "outputs": [
        {
          "output_type": "stream",
          "name": "stdout",
          "text": [
            "Tapusin mo course mo bago ka tapusin niyan\n"
          ]
        }
      ]
    },
    {
      "cell_type": "code",
      "source": [
        "cnt = 1"
      ],
      "metadata": {
        "id": "iPHkprx0TqgH"
      },
      "execution_count": null,
      "outputs": []
    },
    {
      "cell_type": "code",
      "source": [
        "string = \"Tapusin mo course mo bago ka tapusin niyan\"\n",
        "print(string, \", Current run count is:\", cnt)\n",
        "cnt += 1"
      ],
      "metadata": {
        "colab": {
          "base_uri": "https://localhost:8080/"
        },
        "id": "C_tgcrcRTtaL",
        "outputId": "60da3e01-0958-481b-bf29-37440db55b62"
      },
      "execution_count": null,
      "outputs": [
        {
          "output_type": "stream",
          "name": "stdout",
          "text": [
            "Tapusin mo course mo bago ka tapusin niyan , Current run count is: 1\n"
          ]
        }
      ]
    },
    {
      "cell_type": "code",
      "source": [
        "print(f\"{string}, Current count is:{cnt}\")"
      ],
      "metadata": {
        "colab": {
          "base_uri": "https://localhost:8080/"
        },
        "id": "EyrPmq84U9w1",
        "outputId": "4fc27930-0386-4ab8-fd24-607b5579b11e"
      },
      "execution_count": null,
      "outputs": [
        {
          "output_type": "stream",
          "name": "stdout",
          "text": [
            "Tapusin mo course mo bago ka tapusin niyan, Current count is:2\n"
          ]
        }
      ]
    },
    {
      "cell_type": "code",
      "source": [
        "sem_grade = 2.5\n",
        "name = \"Tobio\"\n",
        "print(\"Tapusin mo course mo bago ka tapusin niyan, {}. your semestral grade is: {}\".format(name, sem_grade))"
      ],
      "metadata": {
        "colab": {
          "base_uri": "https://localhost:8080/"
        },
        "id": "a-vTypCKWqsI",
        "outputId": "4d7c7f19-636b-4f6e-9225-1f23ad05a06b"
      },
      "execution_count": null,
      "outputs": [
        {
          "output_type": "stream",
          "name": "stdout",
          "text": [
            "Tapusin mo course mo bago ka tapusin niyan, Tobio. your semestral grade is: 2.5\n"
          ]
        }
      ]
    },
    {
      "cell_type": "code",
      "source": [
        "w_pg, w_mg, w_fg = 0.3, 0.3, 0.4\n",
        "print(\"The weights of your sem grades are:\\\n",
        "\\n\\t{:.2%} for Prelims\\\n",
        "\\n\\t{:.2%} for Midterms, and\\\n",
        "\\n\\t{:.2%} for Finals.\".format(w_pg, w_mg, w_fg))"
      ],
      "metadata": {
        "colab": {
          "base_uri": "https://localhost:8080/"
        },
        "id": "T6rfldi8XcqZ",
        "outputId": "bbbe8386-3e1d-48b4-85e6-c4f75a3f7509"
      },
      "execution_count": null,
      "outputs": [
        {
          "output_type": "stream",
          "name": "stdout",
          "text": [
            "The weights of your sem grades are:\n",
            "\t30.00% for Prelims\n",
            "\t30.00% for Midterms, and\n",
            "\t40.00% for Finals.\n"
          ]
        }
      ]
    },
    {
      "cell_type": "code",
      "source": [
        "a = input(\"Enter a number: \")\n",
        "a"
      ],
      "metadata": {
        "id": "Nqbj6DqkYuYo",
        "colab": {
          "base_uri": "https://localhost:8080/",
          "height": 53
        },
        "outputId": "4a9ea0bd-46a2-43de-f3ef-cb818e43d57f"
      },
      "execution_count": null,
      "outputs": [
        {
          "name": "stdout",
          "output_type": "stream",
          "text": [
            "Enter a number: 3\n"
          ]
        },
        {
          "output_type": "execute_result",
          "data": {
            "application/vnd.google.colaboratory.intrinsic+json": {
              "type": "string"
            },
            "text/plain": [
              "'3'"
            ]
          },
          "metadata": {},
          "execution_count": 78
        }
      ]
    },
    {
      "cell_type": "code",
      "source": [
        "name = input(\"Dangsine ireum: \")\n",
        "pg = input(\"Enter Prelim grade: \")\n",
        "mg = input(\"Enter Midterm grade: \")\n",
        "fg = input(\"Enter Finals grade: \")\n",
        "sem_grade = None\n",
        "print(\"Good day {}, your semestral grade is: {}\".format(name, sem_grade))"
      ],
      "metadata": {
        "colab": {
          "base_uri": "https://localhost:8080/"
        },
        "id": "VmCJSjHhyB_s",
        "outputId": "e22cd2de-518f-4062-e299-dc4d411307b4"
      },
      "execution_count": null,
      "outputs": [
        {
          "output_type": "stream",
          "name": "stdout",
          "text": [
            "Dangsine ireum: Tobio\n",
            "Enter Prelim grade: 3\n",
            "Enter Midterm grade: 3\n",
            "Enter Finals grade: 2.5\n",
            "Good day Tobio, your semestral grade is: None\n"
          ]
        }
      ]
    },
    {
      "cell_type": "markdown",
      "source": [
        "# Looping Statements"
      ],
      "metadata": {
        "id": "X2AVX0xN3gO9"
      }
    },
    {
      "cell_type": "markdown",
      "source": [
        "Loop is a sequence of instructions that are used for repeatable execution until the assigned condition is satisfied. The students used two different types of loops which are for and while "
      ],
      "metadata": {
        "id": "iHZgQBufRM9Y"
      }
    },
    {
      "cell_type": "markdown",
      "source": [
        "## While"
      ],
      "metadata": {
        "id": "GcFTBQQl3kk0"
      }
    },
    {
      "cell_type": "code",
      "source": [
        "## while loops\n",
        "m, s = 0, 10\n",
        "while(m<=s):\n",
        "  print(f\"{m}\\t|\\t{s}\")\n",
        "  m+=1"
      ],
      "metadata": {
        "colab": {
          "base_uri": "https://localhost:8080/"
        },
        "id": "y89oWN9d3nfk",
        "outputId": "ab430edd-0d0c-44b6-ce7e-15a7173f3db3"
      },
      "execution_count": null,
      "outputs": [
        {
          "output_type": "stream",
          "name": "stdout",
          "text": [
            "0\t|\t10\n",
            "1\t|\t10\n",
            "2\t|\t10\n",
            "3\t|\t10\n",
            "4\t|\t10\n",
            "5\t|\t10\n",
            "6\t|\t10\n",
            "7\t|\t10\n",
            "8\t|\t10\n",
            "9\t|\t10\n",
            "10\t|\t10\n"
          ]
        }
      ]
    },
    {
      "cell_type": "markdown",
      "source": [
        "## For"
      ],
      "metadata": {
        "id": "ioGYssrX5CIr"
      }
    },
    {
      "cell_type": "code",
      "source": [
        "# for(int m=0; s; m<10; m++){\n",
        "# printf(m)\n",
        "# }\n",
        "\n",
        "m=0\n",
        "for m in range(12):\n",
        "  print(m)"
      ],
      "metadata": {
        "colab": {
          "base_uri": "https://localhost:8080/"
        },
        "id": "UG1uLr0g5EaH",
        "outputId": "a32cf4db-272b-47e9-fcb6-7f06d8b2bfac"
      },
      "execution_count": null,
      "outputs": [
        {
          "output_type": "stream",
          "name": "stdout",
          "text": [
            "0\n",
            "1\n",
            "2\n",
            "3\n",
            "4\n",
            "5\n",
            "6\n",
            "7\n",
            "8\n",
            "9\n",
            "10\n",
            "11\n"
          ]
        }
      ]
    },
    {
      "cell_type": "code",
      "source": [
        "playlist = [\"Hikari Are\", \"Kaikai Kitan\", \"Moonlight Densetsu\"]\n",
        "print('Now Playing:\\n')\n",
        "for song in playlist:\n",
        "  print(song)"
      ],
      "metadata": {
        "colab": {
          "base_uri": "https://localhost:8080/"
        },
        "id": "eX39hbzO53m7",
        "outputId": "15a5c259-a601-465e-9902-f82405dd7470"
      },
      "execution_count": null,
      "outputs": [
        {
          "output_type": "stream",
          "name": "stdout",
          "text": [
            "Now Playing:\n",
            "\n",
            "Hikari Are\n",
            "Kaikai Kitan\n",
            "Moonlight Densetsu\n"
          ]
        }
      ]
    },
    {
      "cell_type": "markdown",
      "source": [
        "# Flow Control"
      ],
      "metadata": {
        "id": "yx-_ZOa7600g"
      }
    },
    {
      "cell_type": "markdown",
      "source": [
        "Flow Control is defined as the sequence in which statements in a script are executed by the computer and this is directed with conditional statements, loops, and function calls "
      ],
      "metadata": {
        "id": "JHzptq-KRVUJ"
      }
    },
    {
      "cell_type": "markdown",
      "source": [
        "## Condition Statements"
      ],
      "metadata": {
        "id": "dyVfJiJS6_IM"
      }
    },
    {
      "cell_type": "code",
      "source": [
        "numeral1, numeral2 = 12, 18\n",
        "if(numeral1 == numeral2):\n",
        "  print(\"Yass\")\n",
        "elif(numeral1>numeral2):\n",
        "  print(\"Oho\")\n",
        "else:\n",
        "  print(\"Naur\")\n"
      ],
      "metadata": {
        "colab": {
          "base_uri": "https://localhost:8080/"
        },
        "id": "Yb-hEiqT7F6D",
        "outputId": "963dd9f2-1027-4ebe-b9da-be3d3bb254ae"
      },
      "execution_count": null,
      "outputs": [
        {
          "output_type": "stream",
          "name": "stdout",
          "text": [
            "Naur\n"
          ]
        }
      ]
    },
    {
      "cell_type": "markdown",
      "source": [
        "## Functions"
      ],
      "metadata": {
        "id": "NjuVaGGT9put"
      }
    },
    {
      "cell_type": "code",
      "source": [
        "# void DeleteUser(int userid){\n",
        "#    delete(userid);\n",
        "# }\n",
        "\n",
        "def delete_user (userid):\n",
        "  print(\"Successfuly deleted user: {}\".format(userid))\n",
        "\n",
        "def delete_all_users ():\n",
        "  print(\"Successfully deleted all users\")"
      ],
      "metadata": {
        "id": "RKZrqCAR9s03"
      },
      "execution_count": null,
      "outputs": []
    },
    {
      "cell_type": "code",
      "source": [
        "userid = \"Mahito\"\n",
        "delete_user(\"Mahito\")\n",
        "delete_all_users()"
      ],
      "metadata": {
        "colab": {
          "base_uri": "https://localhost:8080/"
        },
        "id": "gsrorp7X_3aI",
        "outputId": "b739a97a-2819-47bf-a5aa-bfe7db0e7def"
      },
      "execution_count": null,
      "outputs": [
        {
          "output_type": "stream",
          "name": "stdout",
          "text": [
            "Successfuly deleted user: Mahito\n",
            "Successfully deleted all users\n"
          ]
        }
      ]
    },
    {
      "cell_type": "code",
      "source": [
        "def add(addend1, addend2):\n",
        "  print(\"Now the sum is\")\n",
        "  return addend1 + addend2\n",
        "\n",
        "def power_of_base2(exponent):\n",
        "  return 2**exponent\n",
        "\n",
        "addend1 = 2\n",
        "addend2 = 18\n",
        "\n",
        "exponent = 5\n",
        "\n",
        "#add(addend1, addend2)\n",
        "power_of_base2(exponent)"
      ],
      "metadata": {
        "colab": {
          "base_uri": "https://localhost:8080/"
        },
        "id": "ziDFpcItAB6F",
        "outputId": "b4d968ea-4a25-4d96-fbca-91232d9cf8d3"
      },
      "execution_count": null,
      "outputs": [
        {
          "output_type": "execute_result",
          "data": {
            "text/plain": [
              "32"
            ]
          },
          "metadata": {},
          "execution_count": 68
        }
      ]
    },
    {
      "cell_type": "code",
      "source": [
        "add(addend1, addend2)"
      ],
      "metadata": {
        "colab": {
          "base_uri": "https://localhost:8080/"
        },
        "id": "UZuoQesyEstj",
        "outputId": "c730332c-7a8d-4663-dc30-e6c8d48a313b"
      },
      "execution_count": null,
      "outputs": [
        {
          "output_type": "stream",
          "name": "stdout",
          "text": [
            "Now the sum is\n"
          ]
        },
        {
          "output_type": "execute_result",
          "data": {
            "text/plain": [
              "20"
            ]
          },
          "metadata": {},
          "execution_count": 69
        }
      ]
    },
    {
      "cell_type": "markdown",
      "source": [
        "### Lambda Functions"
      ],
      "metadata": {
        "id": "cX87s5taAy9F"
      }
    },
    {
      "cell_type": "code",
      "source": [
        "a = 4"
      ],
      "metadata": {
        "id": "nlsswB-aA--u"
      },
      "execution_count": null,
      "outputs": []
    },
    {
      "cell_type": "code",
      "source": [
        "def f(a):\n",
        "  return 2*(a*a)-1\n",
        "f(a)"
      ],
      "metadata": {
        "colab": {
          "base_uri": "https://localhost:8080/"
        },
        "id": "WOH8fKc0FICl",
        "outputId": "90c5734f-552a-48f8-d3a9-837348950f7e"
      },
      "execution_count": null,
      "outputs": [
        {
          "output_type": "execute_result",
          "data": {
            "text/plain": [
              "31"
            ]
          },
          "metadata": {},
          "execution_count": 71
        }
      ]
    },
    {
      "cell_type": "code",
      "source": [
        "b = lambda a: 2*(a*a)-1\n",
        "print(b(a))"
      ],
      "metadata": {
        "colab": {
          "base_uri": "https://localhost:8080/"
        },
        "id": "GsyxgQD1FSEP",
        "outputId": "d8c8ce37-07dd-4325-b74b-92847a9057e7"
      },
      "execution_count": null,
      "outputs": [
        {
          "output_type": "stream",
          "name": "stdout",
          "text": [
            "31\n"
          ]
        }
      ]
    },
    {
      "cell_type": "markdown",
      "source": [
        "# Calculator"
      ],
      "metadata": {
        "id": "tYDr0fnGGWQX"
      }
    },
    {
      "cell_type": "markdown",
      "source": [
        "This program is created for calculating the semestral grade of a student wherein different methods were utilized in the codes; the name, course, and grades for preliminary, midterm, and final terms were being input. Then as a result or output, the semestral grade is calculated following the emoji assigned to that certain grade bracket.\n"
      ],
      "metadata": {
        "id": "M31cuaiZFgBt"
      }
    },
    {
      "cell_type": "code",
      "source": [
        "print()\n",
        "name = input('\\tDangsine ireum: ');\n",
        "course = input('\\tYour course: ');\n",
        "prelim = float(input('\\tPrelim grade is: '));\n",
        "midterm = float(input('\\tMidterm grade is: '));\n",
        "final = float(input('\\tFinal grade is: '));\n",
        "sem_grade = (prelim*0.30) + (midterm*0.30) + (final*0.40);\n",
        "\n",
        "sem_grade = \"{:.2f}\".format(sem_grade)\n",
        "print();\n",
        "print(\"\\t--RESULTS--\");\n",
        "print();\n",
        "print(\"\\tName: \", name, \"Course: \", course);\n",
        "if float(sem_grade) > 70.00:\n",
        "  print(\"\\tGrade: \", sem_grade, \"\\U0001F600\");\n",
        "elif float(sem_grade) == 70:\n",
        "  print(\"\\tGrade: \", sem_grade, \"\\U0001F606\");\n",
        "elif float(sem_grade) < 70:\n",
        "  print(\"\\tSemestral Grade: \", sem_grade, \"\\U0001F62D\");\n",
        "  print();"
      ],
      "metadata": {
        "colab": {
          "base_uri": "https://localhost:8080/"
        },
        "id": "etIwQrlpGhKt",
        "outputId": "1ada482f-1f6b-4236-9a33-eb3c460d6231"
      },
      "execution_count": null,
      "outputs": [
        {
          "output_type": "stream",
          "name": "stdout",
          "text": [
            "\n",
            "\tDangsine ireum: Nakahara Chuuya\n",
            "\tYour course: Linear Algebra\n",
            "\tPrelim grade is: 65.7692\n",
            "\tMidterm grade is: 89.5639\n",
            "\tFinal grade is: 71.2058\n",
            "\n",
            "\t--RESULTS--\n",
            "\n",
            "\tName:  Nakahara Chuuya Course:  Linear Algebra\n",
            "\tGrade:  75.08 😀\n"
          ]
        }
      ]
    }
  ]
}