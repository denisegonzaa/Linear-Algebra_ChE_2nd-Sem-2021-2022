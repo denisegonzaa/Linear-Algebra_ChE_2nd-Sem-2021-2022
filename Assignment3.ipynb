{
  "nbformat": 4,
  "nbformat_minor": 0,
  "metadata": {
    "colab": {
      "name": "Assignment3.ipynb",
      "provenance": [],
      "collapsed_sections": [
        "8O2VjfQTnU3h",
        "wdInceZRyKT_",
        "YODU81rM9Zyd"
      ],
      "authorship_tag": "ABX9TyPd6AuDGXDmO01hfGp8sJlq",
      "include_colab_link": true
    },
    "kernelspec": {
      "name": "python3",
      "display_name": "Python 3"
    },
    "language_info": {
      "name": "python"
    }
  },
  "cells": [
    {
      "cell_type": "markdown",
      "metadata": {
        "id": "view-in-github",
        "colab_type": "text"
      },
      "source": [
        "<a href=\"https://colab.research.google.com/github/denisegonzaa/Linear-Algebra_ChE_2nd-Sem-2021-2022/blob/main/Assignment3.ipynb\" target=\"_parent\"><img src=\"https://colab.research.google.com/assets/colab-badge.svg\" alt=\"Open In Colab\"/></a>"
      ]
    },
    {
      "cell_type": "markdown",
      "source": [
        "# Linear Algebra for ChE\n",
        "## Assignment 3: Matrices"
      ],
      "metadata": {
        "id": "4PVcMtF_FIzb"
      }
    },
    {
      "cell_type": "markdown",
      "source": [
        "Now that you have a fundamental knowledge about Python, we'll try to look into greater dimensions."
      ],
      "metadata": {
        "id": "VSOqvFdDFSoE"
      }
    },
    {
      "cell_type": "markdown",
      "source": [
        "### Objectives\n",
        "At the end of this activity you will be able to:\n",
        "1. Be familiar with matrices and their relation to linear equations.\n",
        "2. Perform basic matrix operations.\n",
        "3. Program and translate matrix equations and operations using Python."
      ],
      "metadata": {
        "id": "jHP8T6c6FTjY"
      }
    },
    {
      "cell_type": "markdown",
      "source": [
        "# Discussion"
      ],
      "metadata": {
        "id": "7mX_eO5iFwYB"
      }
    },
    {
      "cell_type": "code",
      "source": [
        "import numpy as np\n",
        "import matplotlib.pyplot as plt\n",
        "import scipy.linalg as la\n",
        "%matplotlib inline"
      ],
      "metadata": {
        "id": "5pCO2gsSF16g"
      },
      "execution_count": 1,
      "outputs": []
    },
    {
      "cell_type": "markdown",
      "source": [
        "### Matrices"
      ],
      "metadata": {
        "id": "Y7ZUJpbeGHUq"
      }
    },
    {
      "cell_type": "markdown",
      "source": [
        "The notation and use of matrices is probably one of the fundamentals of modern computing. Matrices are also handy representations of complex equations or multiple inter-related equations from 2-dimensional equations to even hundreds and thousands of them."
      ],
      "metadata": {
        "id": "jsnD8ev0HoHM"
      }
    },
    {
      "cell_type": "markdown",
      "source": [
        "Let's say for example you have ***A*** , ***B***, and ***C*** as system of equation.\n"
      ],
      "metadata": {
        "id": "_zZixm9KIKJR"
      }
    },
    {
      "cell_type": "markdown",
      "source": [
        "$$\n",
        "A = \\left\\{\n",
        "    \\begin{array}\\\n",
        "        s + h \\\\ \n",
        "        5s - 22h\n",
        "    \\end{array}\n",
        "\\right. \\\\\n",
        "B = \\left\\{\n",
        "    \\begin{array}\\\n",
        "        d+k+s \\\\ \n",
        "        d -12k -93s \\\\\n",
        "        -7d + 26k +22s\n",
        "    \\end{array}\n",
        "\\right. \\\\\n",
        "C = \\left\\{\n",
        "    \\begin{array}\\\n",
        "      y-3u+2j-7i \\\\\n",
        "      4y-u-5j+i \\\\\n",
        "      9y-u+6j-4i\n",
        "    \\end{array}\n",
        "\\right. \\\\\n",
        "$$"
      ],
      "metadata": {
        "id": "rrX55WFhIoU7"
      }
    },
    {
      "cell_type": "markdown",
      "source": [
        "We could see that ***A*** is a system of 2 equations with 2 parameters. While ***B*** is a system of 3 equations with 3 parameters. With ***C*** is a system of 3 equations with 4 parameters. We can represent them as matrices as:"
      ],
      "metadata": {
        "id": "AemE2WWnJMHh"
      }
    },
    {
      "cell_type": "markdown",
      "source": [
        "$$\n",
        "A=\\begin{bmatrix} 1 & 1 \\\\ 5 & {-22}\\end{bmatrix} \\\\\n",
        "B=\\begin{bmatrix} 1 & 1 & 1 \\\\ 3 & -12 & -93 \\\\ -7 & 26 & 22\\end{bmatrix}\\\\\n",
        "C=\\begin{bmatrix} 1 & -3 & 2 & -7 \\\\ 4 & -1 & -5 & 1 \\\\ 9 & -1 & 6 & -4\\end{bmatrix}\\\\\n",
        "$$"
      ],
      "metadata": {
        "id": "G_h62nRRJCHx"
      }
    },
    {
      "cell_type": "markdown",
      "source": [
        "So assuming that you already discussed the fundamental representation of matrices, their types, and operations. We'll proceed in doing them in here in Python."
      ],
      "metadata": {
        "id": "hyq9qET7K3Qd"
      }
    },
    {
      "cell_type": "markdown",
      "source": [
        "### Declaring Matrices"
      ],
      "metadata": {
        "id": "sPLJkdFhLD7B"
      }
    },
    {
      "cell_type": "markdown",
      "source": [
        "Just like our previous laboratory activity, we'll represent system of linear equations as a matrix. The entities or numbers in matrices are called the elements of a matrix. These elements are arranged and ordered in rows and columns which form the list/array-like structure of matrices. And just like arrays, these elements are indexed according to their position with respect to their rows and columns. This can be reprsented just like the equation below. Whereas $A$ is a matrix consisting of elements denoted by $a_{i,j}$. Denoted by $i$ is the number of rows in the matrix while  stands for the number of columns. <br>\n",
        "Do note that the $size$ of a matrix is $i\\times j$."
      ],
      "metadata": {
        "id": "GorvvDnTQH5A"
      }
    },
    {
      "cell_type": "markdown",
      "source": [
        "$$A=\\begin{bmatrix}\n",
        "a_{(0,0)}&a_{(0,1)}&\\dots&a_{(0,j-1)}\\\\\n",
        "a_{(1,0)}&a_{(1,1)}&\\dots&a_{(1,j-1)}\\\\\n",
        "\\vdots&\\vdots&\\ddots&\\vdots&\\\\\n",
        "a_{(i-1,0)}&a_{(i-1,1)}&\\dots&a_{(i-1,j-1)}\n",
        "\\end{bmatrix}\n",
        "$$\n"
      ],
      "metadata": {
        "id": "Xfjz_AxNJEOa"
      }
    },
    {
      "cell_type": "markdown",
      "source": [
        "We already gone over some of the types of matrices as vectors but we'll further discuss them in this laboratory activity. Since you already know how to describe vectors using **shape**, **dimensions**, and **size** attributes, we'll use them to analyze these matrices."
      ],
      "metadata": {
        "id": "xwWCGsBOfN_P"
      }
    },
    {
      "cell_type": "code",
      "source": [
        "## Since we'll keep on describing matrices. Let's make a function.\n",
        "def describe_mat(matrix):\n",
        "    print(f'Matrix:\\n{matrix}\\n\\nShape:\\t{matrix.shape}\\nRank:\\t{matrix.ndim}\\n')"
      ],
      "metadata": {
        "id": "fRlEf_uJgpZ2"
      },
      "execution_count": 2,
      "outputs": []
    },
    {
      "cell_type": "code",
      "source": [
        "## Declaring a 2 x 2 matrix\n",
        "A = np.array([\n",
        "    [4, 8],\n",
        "    [2, 7]\n",
        "])\n",
        "describe_mat(A)"
      ],
      "metadata": {
        "colab": {
          "base_uri": "https://localhost:8080/"
        },
        "id": "x-03MZ67gzFN",
        "outputId": "2957e1a2-488e-4e9c-f854-c289788863b0"
      },
      "execution_count": 3,
      "outputs": [
        {
          "output_type": "stream",
          "name": "stdout",
          "text": [
            "Matrix:\n",
            "[[4 8]\n",
            " [2 7]]\n",
            "\n",
            "Shape:\t(2, 2)\n",
            "Rank:\t2\n",
            "\n"
          ]
        }
      ]
    },
    {
      "cell_type": "code",
      "source": [
        "G = np.array([\n",
        "    [1,1,3],\n",
        "    [2,2,4]\n",
        "])\n",
        "describe_mat(G)"
      ],
      "metadata": {
        "colab": {
          "base_uri": "https://localhost:8080/"
        },
        "id": "I8pc4aNziFmN",
        "outputId": "e397528d-df4f-4549-e29c-c13b56021510"
      },
      "execution_count": 4,
      "outputs": [
        {
          "output_type": "stream",
          "name": "stdout",
          "text": [
            "Matrix:\n",
            "[[1 1 3]\n",
            " [2 2 4]]\n",
            "\n",
            "Shape:\t(2, 3)\n",
            "Rank:\t2\n",
            "\n"
          ]
        }
      ]
    },
    {
      "cell_type": "code",
      "source": [
        "## Declaring a 3 x 2 matrix\n",
        "B = np.array([\n",
        "    [1, 4],\n",
        "    [8, 5],\n",
        "    [2, 7]\n",
        "])\n",
        "describe_mat(B)"
      ],
      "metadata": {
        "colab": {
          "base_uri": "https://localhost:8080/"
        },
        "id": "Ld76WuQ8mRbR",
        "outputId": "5fdc1dde-46f5-431e-8be0-f7a1fb4a1d62"
      },
      "execution_count": 5,
      "outputs": [
        {
          "output_type": "stream",
          "name": "stdout",
          "text": [
            "Matrix:\n",
            "[[1 4]\n",
            " [8 5]\n",
            " [2 7]]\n",
            "\n",
            "Shape:\t(3, 2)\n",
            "Rank:\t2\n",
            "\n"
          ]
        }
      ]
    },
    {
      "cell_type": "code",
      "source": [
        "H = np.array([2,6,1,3,4])\n",
        "describe_mat(H)"
      ],
      "metadata": {
        "colab": {
          "base_uri": "https://localhost:8080/"
        },
        "id": "4jVtcUtmiJW-",
        "outputId": "c2e3a7cb-e698-49b4-b006-8d1081269504"
      },
      "execution_count": 6,
      "outputs": [
        {
          "output_type": "stream",
          "name": "stdout",
          "text": [
            "Matrix:\n",
            "[2 6 1 3 4]\n",
            "\n",
            "Shape:\t(5,)\n",
            "Rank:\t1\n",
            "\n"
          ]
        }
      ]
    },
    {
      "cell_type": "markdown",
      "source": [
        "## Categorizing Matrices"
      ],
      "metadata": {
        "id": "w5JCCWcPm92_"
      }
    },
    {
      "cell_type": "markdown",
      "source": [
        "There are several ways of classifying matrices. Once could be according to their shape and another is according to their element values. We'll try to go through them."
      ],
      "metadata": {
        "id": "vZCdi80onGA1"
      }
    },
    {
      "cell_type": "markdown",
      "source": [
        "### According to shape"
      ],
      "metadata": {
        "id": "8O2VjfQTnU3h"
      }
    },
    {
      "cell_type": "markdown",
      "source": [
        "### Row and Column Matrices\n"
      ],
      "metadata": {
        "id": "Krgw6Bc9nYQA"
      }
    },
    {
      "cell_type": "markdown",
      "source": [
        "Row and column matrices are common in vector and matrix computations. They can also represent row and column spaces of a bigger vector space. Row and column matrices are represented by a single column or single row. So with that being, the shape of row matrices would be $1\\times j$ and column matrices would be $i\\times 1$"
      ],
      "metadata": {
        "id": "2-aQGPTAnjMe"
      }
    },
    {
      "cell_type": "code",
      "source": [
        "## Declaring a Row Matrix\n",
        "\n",
        "rowmatrix1D = np.array([\n",
        "    1, 4, -8, -5\n",
        "]) ## this is a 1-D Matrix with a shape of (3,), it's not really considered as a row matrix.\n",
        "row_mat_2D = np.array([\n",
        "    [1,4,-8,-5]\n",
        "]) ## this is a 2-D Matrix with a shape of (1,3)\n",
        "describe_mat(rowmatrix1D)\n",
        "describe_mat(row_mat_2D)"
      ],
      "metadata": {
        "id": "HTRcdIasoIVX",
        "colab": {
          "base_uri": "https://localhost:8080/"
        },
        "outputId": "f2451e00-f7b0-44e4-8bd5-763cf166cb50"
      },
      "execution_count": 7,
      "outputs": [
        {
          "output_type": "stream",
          "name": "stdout",
          "text": [
            "Matrix:\n",
            "[ 1  4 -8 -5]\n",
            "\n",
            "Shape:\t(4,)\n",
            "Rank:\t1\n",
            "\n",
            "Matrix:\n",
            "[[ 1  4 -8 -5]]\n",
            "\n",
            "Shape:\t(1, 4)\n",
            "Rank:\t2\n",
            "\n"
          ]
        }
      ]
    },
    {
      "cell_type": "code",
      "source": [
        "## Declaring a Column Matrix\n",
        "\n",
        "col_mat = np.array([\n",
        "    [1],\n",
        "    [1],\n",
        "    [2]\n",
        "]) ## this is a 2-D Matrix with a shape of (3,1)\n",
        "describe_mat(col_mat)"
      ],
      "metadata": {
        "colab": {
          "base_uri": "https://localhost:8080/"
        },
        "id": "dKgXLVzesNkL",
        "outputId": "56406743-7835-4877-c9dd-d29b0ce54762"
      },
      "execution_count": 8,
      "outputs": [
        {
          "output_type": "stream",
          "name": "stdout",
          "text": [
            "Matrix:\n",
            "[[1]\n",
            " [1]\n",
            " [2]]\n",
            "\n",
            "Shape:\t(3, 1)\n",
            "Rank:\t2\n",
            "\n"
          ]
        }
      ]
    },
    {
      "cell_type": "markdown",
      "source": [
        "### Square Matrices"
      ],
      "metadata": {
        "id": "ammwK8yosY6I"
      }
    },
    {
      "cell_type": "markdown",
      "source": [
        "Square matrices are matrices that have the same row and column sizes. We could say a matrix is square if $i= j$. We can tweak our matrix descriptor function to determine square matrices."
      ],
      "metadata": {
        "id": "jPLqiC7Tsdly"
      }
    },
    {
      "cell_type": "code",
      "source": [
        "def describe_mat(matrix):\n",
        "    is_square = True if matrix.shape[0] == matrix.shape[1] else False \n",
        "    print(f'Matrix:\\n{matrix}\\n\\nShape:\\t{matrix.shape}\\nRank:\\t{matrix.ndim}\\nIs Square: {is_square}\\n')"
      ],
      "metadata": {
        "id": "ZogiiLaGsr5z"
      },
      "execution_count": 9,
      "outputs": []
    },
    {
      "cell_type": "code",
      "source": [
        "square_mat = np.array([\n",
        "    [9,2,1],\n",
        "    [1,0,7],\n",
        "    [3,2,6]\n",
        "])\n",
        "\n",
        "non_square_mat = np.array([\n",
        "    [5,2,2],\n",
        "    [1,1,2]\n",
        "])\n",
        "describe_mat(square_mat)\n",
        "describe_mat(non_square_mat)"
      ],
      "metadata": {
        "colab": {
          "base_uri": "https://localhost:8080/"
        },
        "id": "7OdvWlxfs6uw",
        "outputId": "1824b34e-632f-40c5-cf35-a6aef7ca00ab"
      },
      "execution_count": 10,
      "outputs": [
        {
          "output_type": "stream",
          "name": "stdout",
          "text": [
            "Matrix:\n",
            "[[9 2 1]\n",
            " [1 0 7]\n",
            " [3 2 6]]\n",
            "\n",
            "Shape:\t(3, 3)\n",
            "Rank:\t2\n",
            "Is Square: True\n",
            "\n",
            "Matrix:\n",
            "[[5 2 2]\n",
            " [1 1 2]]\n",
            "\n",
            "Shape:\t(2, 3)\n",
            "Rank:\t2\n",
            "Is Square: False\n",
            "\n"
          ]
        }
      ]
    },
    {
      "cell_type": "markdown",
      "source": [
        "## According to element values"
      ],
      "metadata": {
        "id": "8w2IBdYIujdW"
      }
    },
    {
      "cell_type": "markdown",
      "source": [
        "### Null Matrix"
      ],
      "metadata": {
        "id": "sDInt41SunQx"
      }
    },
    {
      "cell_type": "markdown",
      "source": [
        "A Null Matrix is a matrix that has no elements. It is always a subspace of any vector or matrix."
      ],
      "metadata": {
        "id": "PUVkewEiurEH"
      }
    },
    {
      "cell_type": "code",
      "source": [
        "def describe_mat(matrix):\n",
        "    if matrix.size > 0:\n",
        "        is_square = True if matrix.shape[0] == matrix.shape[1] else False \n",
        "        print(f'Matrix:\\n{matrix}\\n\\nShape:\\t{matrix.shape}\\nRank:\\t{matrix.ndim}\\nIs Square: {is_square}\\n')\n",
        "    else:\n",
        "        print('Matrix is Null')"
      ],
      "metadata": {
        "id": "6Smxjlpyuusu"
      },
      "execution_count": 11,
      "outputs": []
    },
    {
      "cell_type": "code",
      "source": [
        "null_mat = np.array([])\n",
        "describe_mat(null_mat)"
      ],
      "metadata": {
        "colab": {
          "base_uri": "https://localhost:8080/"
        },
        "id": "qcd-ZjgNuyHw",
        "outputId": "f63ff997-9a7f-4e6e-afd0-672cd7b182a1"
      },
      "execution_count": 12,
      "outputs": [
        {
          "output_type": "stream",
          "name": "stdout",
          "text": [
            "Matrix is Null\n"
          ]
        }
      ]
    },
    {
      "cell_type": "markdown",
      "source": [
        "### Zero Matrix\n",
        "A zero matrix can be any rectangular matrix but with all elements having a value of 0."
      ],
      "metadata": {
        "id": "cDA9BMo2xlhx"
      }
    },
    {
      "cell_type": "code",
      "source": [
        "zero_mat_row = np.zeros((1,3))\n",
        "zero_mat_sqr = np.zeros((2,3))\n",
        "zero_mat_rct = np.zeros((3,2))\n",
        "\n",
        "print(f'Zero Row Matrix: \\n{zero_mat_row}')\n",
        "print(f'Zero Square Matrix: \\n{zero_mat_sqr}')\n",
        "print(f'Zero Rectangular Matrix: \\n{zero_mat_rct}')"
      ],
      "metadata": {
        "colab": {
          "base_uri": "https://localhost:8080/"
        },
        "id": "tkvP9d9YveO4",
        "outputId": "3e0facdc-362f-4385-8359-bdab993b5ff7"
      },
      "execution_count": 13,
      "outputs": [
        {
          "output_type": "stream",
          "name": "stdout",
          "text": [
            "Zero Row Matrix: \n",
            "[[0. 0. 0.]]\n",
            "Zero Square Matrix: \n",
            "[[0. 0. 0.]\n",
            " [0. 0. 0.]]\n",
            "Zero Rectangular Matrix: \n",
            "[[0. 0.]\n",
            " [0. 0.]\n",
            " [0. 0.]]\n"
          ]
        }
      ]
    },
    {
      "cell_type": "markdown",
      "source": [
        "### Ones Matrix\n",
        "A ones matrix, just like the zero matrix, can be any rectangular matrix but all of its elements are 1s instead of 0s."
      ],
      "metadata": {
        "id": "wdInceZRyKT_"
      }
    },
    {
      "cell_type": "code",
      "source": [
        "ones_mat_row = np.ones((1,2))\n",
        "ones_mat_sqr = np.ones((2,3))\n",
        "ones_mat_rct = np.ones((3,1))\n",
        "\n",
        "print(f'Ones Row Matrix: \\n{ones_mat_row}')\n",
        "print(f'Ones Square Matrix: \\n{ones_mat_sqr}')\n",
        "print(f'Ones Rectangular Matrix: \\n{ones_mat_rct}')"
      ],
      "metadata": {
        "colab": {
          "base_uri": "https://localhost:8080/"
        },
        "id": "Ptt6ItETyP3a",
        "outputId": "6e1eacfb-d1b8-4577-cb15-c366a273547b"
      },
      "execution_count": 14,
      "outputs": [
        {
          "output_type": "stream",
          "name": "stdout",
          "text": [
            "Ones Row Matrix: \n",
            "[[1. 1.]]\n",
            "Ones Square Matrix: \n",
            "[[1. 1. 1.]\n",
            " [1. 1. 1.]]\n",
            "Ones Rectangular Matrix: \n",
            "[[1.]\n",
            " [1.]\n",
            " [1.]]\n"
          ]
        }
      ]
    },
    {
      "cell_type": "markdown",
      "source": [
        "### Diagonal Matrix\n",
        "A diagonal matrix is a square matrix that has values only at the diagonal of the matrix."
      ],
      "metadata": {
        "id": "lvcsJ148yXSA"
      }
    },
    {
      "cell_type": "code",
      "source": [
        "np.array([\n",
        "    [3,0,0],\n",
        "    [0,2,0],\n",
        "    [0,0,6]\n",
        "])\n",
        "# a[1,1], a[2,2], a[3,3], ... a[n-1,n-1]"
      ],
      "metadata": {
        "colab": {
          "base_uri": "https://localhost:8080/"
        },
        "id": "CU2AePs5yce4",
        "outputId": "a1962991-83c1-40ef-b659-1c279415ffef"
      },
      "execution_count": 15,
      "outputs": [
        {
          "output_type": "execute_result",
          "data": {
            "text/plain": [
              "array([[3, 0, 0],\n",
              "       [0, 2, 0],\n",
              "       [0, 0, 6]])"
            ]
          },
          "metadata": {},
          "execution_count": 15
        }
      ]
    },
    {
      "cell_type": "code",
      "source": [
        "d = np.diag([1,4,8,5])\n",
        "#d.shape[0] == d.shape[1]\n",
        "d"
      ],
      "metadata": {
        "colab": {
          "base_uri": "https://localhost:8080/"
        },
        "id": "CXMwQsI-ylbg",
        "outputId": "f4b67132-297a-49a7-d301-294187db818f"
      },
      "execution_count": 16,
      "outputs": [
        {
          "output_type": "execute_result",
          "data": {
            "text/plain": [
              "array([[1, 0, 0, 0],\n",
              "       [0, 4, 0, 0],\n",
              "       [0, 0, 8, 0],\n",
              "       [0, 0, 0, 5]])"
            ]
          },
          "metadata": {},
          "execution_count": 16
        }
      ]
    },
    {
      "cell_type": "markdown",
      "source": [
        "### Identity Matrix\n",
        "An identity matrix is a special diagonal matrix in which the values at the diagonal are ones."
      ],
      "metadata": {
        "id": "M6Is2M1azGtK"
      }
    },
    {
      "cell_type": "code",
      "source": [
        "np.eye(7)"
      ],
      "metadata": {
        "colab": {
          "base_uri": "https://localhost:8080/"
        },
        "id": "cib59acyzE4E",
        "outputId": "a92b696b-67b2-4039-febd-27b4b440d704"
      },
      "execution_count": 17,
      "outputs": [
        {
          "output_type": "execute_result",
          "data": {
            "text/plain": [
              "array([[1., 0., 0., 0., 0., 0., 0.],\n",
              "       [0., 1., 0., 0., 0., 0., 0.],\n",
              "       [0., 0., 1., 0., 0., 0., 0.],\n",
              "       [0., 0., 0., 1., 0., 0., 0.],\n",
              "       [0., 0., 0., 0., 1., 0., 0.],\n",
              "       [0., 0., 0., 0., 0., 1., 0.],\n",
              "       [0., 0., 0., 0., 0., 0., 1.]])"
            ]
          },
          "metadata": {},
          "execution_count": 17
        }
      ]
    },
    {
      "cell_type": "code",
      "source": [
        "np.identity(7)"
      ],
      "metadata": {
        "colab": {
          "base_uri": "https://localhost:8080/"
        },
        "id": "apP2V9nbzUzs",
        "outputId": "21bd365e-50ec-426b-ec56-9909955c3798"
      },
      "execution_count": 18,
      "outputs": [
        {
          "output_type": "execute_result",
          "data": {
            "text/plain": [
              "array([[1., 0., 0., 0., 0., 0., 0.],\n",
              "       [0., 1., 0., 0., 0., 0., 0.],\n",
              "       [0., 0., 1., 0., 0., 0., 0.],\n",
              "       [0., 0., 0., 1., 0., 0., 0.],\n",
              "       [0., 0., 0., 0., 1., 0., 0.],\n",
              "       [0., 0., 0., 0., 0., 1., 0.],\n",
              "       [0., 0., 0., 0., 0., 0., 1.]])"
            ]
          },
          "metadata": {},
          "execution_count": 18
        }
      ]
    },
    {
      "cell_type": "markdown",
      "source": [
        "### Upper Triangular Matrix\n",
        "An upper triangular matrix is a matrix that has no values below the diagonal."
      ],
      "metadata": {
        "id": "f50jKqKqzZzx"
      }
    },
    {
      "cell_type": "code",
      "source": [
        "np.array([\n",
        "    [1,4,8,5],\n",
        "    [0,4,0,8],\n",
        "    [1,1,2,7],\n",
        "    [1,1,1,4]\n",
        "])"
      ],
      "metadata": {
        "colab": {
          "base_uri": "https://localhost:8080/"
        },
        "id": "GwFZaERSzfsd",
        "outputId": "8b20061c-fbaa-4e89-a914-0a2105685677"
      },
      "execution_count": 19,
      "outputs": [
        {
          "output_type": "execute_result",
          "data": {
            "text/plain": [
              "array([[1, 4, 8, 5],\n",
              "       [0, 4, 0, 8],\n",
              "       [1, 1, 2, 7],\n",
              "       [1, 1, 1, 4]])"
            ]
          },
          "metadata": {},
          "execution_count": 19
        }
      ]
    },
    {
      "cell_type": "code",
      "source": [
        "F = np.array([\n",
        "              [1, -4, 8, -5, 9],\n",
        "              [1, -4, 8, -5, 9],\n",
        "              [1, -4, 8, -5, 9],\n",
        "              [1, -4, 8, -5, 9],\n",
        "              [1, -4, 8, -5, 9],\n",
        "])\n",
        "np.triu(F)\n"
      ],
      "metadata": {
        "colab": {
          "base_uri": "https://localhost:8080/"
        },
        "id": "keHXuxva0zLx",
        "outputId": "0fe06d2b-20f0-4589-f768-d534128508f0"
      },
      "execution_count": 20,
      "outputs": [
        {
          "output_type": "execute_result",
          "data": {
            "text/plain": [
              "array([[ 1, -4,  8, -5,  9],\n",
              "       [ 0, -4,  8, -5,  9],\n",
              "       [ 0,  0,  8, -5,  9],\n",
              "       [ 0,  0,  0, -5,  9],\n",
              "       [ 0,  0,  0,  0,  9]])"
            ]
          },
          "metadata": {},
          "execution_count": 20
        }
      ]
    },
    {
      "cell_type": "markdown",
      "source": [
        "### Lower Triangular Matrix\n",
        "A lower triangular matrix is a matrix that has no values above the diagonal."
      ],
      "metadata": {
        "id": "6HeTNUKv1S4i"
      }
    },
    {
      "cell_type": "code",
      "source": [
        "np.tril(F)"
      ],
      "metadata": {
        "colab": {
          "base_uri": "https://localhost:8080/"
        },
        "id": "IA9gZFEr1YpK",
        "outputId": "e29c9163-8751-498e-da07-eae3c45da622"
      },
      "execution_count": 21,
      "outputs": [
        {
          "output_type": "execute_result",
          "data": {
            "text/plain": [
              "array([[ 1,  0,  0,  0,  0],\n",
              "       [ 1, -4,  0,  0,  0],\n",
              "       [ 1, -4,  8,  0,  0],\n",
              "       [ 1, -4,  8, -5,  0],\n",
              "       [ 1, -4,  8, -5,  9]])"
            ]
          },
          "metadata": {},
          "execution_count": 21
        }
      ]
    },
    {
      "cell_type": "code",
      "source": [
        "np.array([\n",
        "    [3,2,6],\n",
        "    [9,2,1],\n",
        "    [5,0,6]\n",
        "])"
      ],
      "metadata": {
        "colab": {
          "base_uri": "https://localhost:8080/"
        },
        "id": "J6jSR7AS1eQU",
        "outputId": "66d41ea7-be73-4b91-cdab-653dc3d67537"
      },
      "execution_count": 22,
      "outputs": [
        {
          "output_type": "execute_result",
          "data": {
            "text/plain": [
              "array([[3, 2, 6],\n",
              "       [9, 2, 1],\n",
              "       [5, 0, 6]])"
            ]
          },
          "metadata": {},
          "execution_count": 22
        }
      ]
    },
    {
      "cell_type": "markdown",
      "source": [
        "### Practice"
      ],
      "metadata": {
        "id": "FBCuw6no1zft"
      }
    },
    {
      "cell_type": "markdown",
      "source": [
        "1.Given the linear combination below, try to create a corresponding matrix representing it."
      ],
      "metadata": {
        "id": "z84rO5p9112B"
      }
    },
    {
      "cell_type": "markdown",
      "source": [
        "$$\\theta = 3k + 2m - 6s$$"
      ],
      "metadata": {
        "id": "urxsH7_c2UQq"
      }
    },
    {
      "cell_type": "markdown",
      "source": [
        "$$\n",
        "\\theta=\\begin{bmatrix} 3 & 2 & -6 \\end{bmatrix}\n",
        "$$"
      ],
      "metadata": {
        "id": "S87Ha28z2auj"
      }
    },
    {
      "cell_type": "markdown",
      "source": [
        "2. Given the system of linear combinations below, try to encode it as a matrix. Also describe the matrix."
      ],
      "metadata": {
        "id": "nWVRDvJ92q88"
      }
    },
    {
      "cell_type": "markdown",
      "source": [
        "$$\n",
        "A = \\left\\{\\begin{array}\n",
        "5x_1 + 2x_2 +x_3\\\\\n",
        "4x_2 - x_3\\\\\n",
        "10x_3\n",
        "\\end{array}\\right.\n",
        "$$"
      ],
      "metadata": {
        "id": "l3Ry_uol2txi"
      }
    },
    {
      "cell_type": "markdown",
      "source": [
        "$$\n",
        "A=\\begin{bmatrix} 1 & 2 & 1 \\\\ 0 & 4 & -1 \\\\ 0 & 0 & 10\\end{bmatrix}\n",
        "$$"
      ],
      "metadata": {
        "id": "YQH3UwgT2vzh"
      }
    },
    {
      "cell_type": "markdown",
      "source": [
        "3.Given the matrix below, express it as a linear combination in a markdown and a LaTeX markdown"
      ],
      "metadata": {
        "id": "NJvwc-xD24Nt"
      }
    },
    {
      "cell_type": "code",
      "source": [
        "G = np.array([\n",
        "    [1,1,2],\n",
        "    [9,2,1],\n",
        "    [3,2,6]\n",
        "])"
      ],
      "metadata": {
        "id": "rqyGhUC-3FK6"
      },
      "execution_count": 23,
      "outputs": []
    },
    {
      "cell_type": "markdown",
      "source": [
        "$$\n",
        "G = \\left\\{\\begin{array}\n",
        "1x_1 + 1x_2 +2x_3\\\\\n",
        "9x_1 + 2x_2 + 1x_3\\\\\n",
        "3x_1 + 2x_2 + 6x_3\n",
        "\\end{array}\\right.\n",
        "$$"
      ],
      "metadata": {
        "id": "99CymSxs3JGM"
      }
    },
    {
      "cell_type": "markdown",
      "source": [
        "4.Given the matrix below, display the output as a LaTeX markdown also express it as a system of linear combinations.\n"
      ],
      "metadata": {
        "id": "rQpAOIJd3Mgy"
      }
    },
    {
      "cell_type": "code",
      "source": [
        "H = np.tril(G)\n",
        "H"
      ],
      "metadata": {
        "colab": {
          "base_uri": "https://localhost:8080/"
        },
        "id": "bPZn7Jzz3WSE",
        "outputId": "2283c3e1-9e8a-4ac3-84bf-2afb93ca0f36"
      },
      "execution_count": 24,
      "outputs": [
        {
          "output_type": "execute_result",
          "data": {
            "text/plain": [
              "array([[1, 0, 0],\n",
              "       [9, 2, 0],\n",
              "       [3, 2, 6]])"
            ]
          },
          "metadata": {},
          "execution_count": 24
        }
      ]
    },
    {
      "cell_type": "markdown",
      "source": [
        "$$\n",
        "H = \\left\\{\\begin{array}\n",
        "1x_1 \\\\\n",
        "9x_1 + 2x_2\\\\\n",
        "3x_1 + 2x_2 + 6x_3\n",
        "\\end{array}\\right.\n",
        "$$"
      ],
      "metadata": {
        "id": "EBiS3O_J3Tui"
      }
    },
    {
      "cell_type": "markdown",
      "source": [
        "## Matrix Algebra"
      ],
      "metadata": {
        "id": "g9aSabR94UcD"
      }
    },
    {
      "cell_type": "markdown",
      "source": [
        "## Addition"
      ],
      "metadata": {
        "id": "ABGKZ_5L4bni"
      }
    },
    {
      "cell_type": "code",
      "source": [
        "A = np.array([\n",
        "    [2,1],\n",
        "    [2,7],\n",
        "    [1,2]\n",
        "])\n",
        "B = np.array([\n",
        "    [8,8],\n",
        "    [9,9],\n",
        "    [9,4]\n",
        "])\n",
        "A+B"
      ],
      "metadata": {
        "colab": {
          "base_uri": "https://localhost:8080/"
        },
        "id": "CEfZ7Q304gub",
        "outputId": "899a643d-e413-494d-ed72-5a047da4d735"
      },
      "execution_count": 25,
      "outputs": [
        {
          "output_type": "execute_result",
          "data": {
            "text/plain": [
              "array([[10,  9],\n",
              "       [11, 16],\n",
              "       [10,  6]])"
            ]
          },
          "metadata": {},
          "execution_count": 25
        }
      ]
    },
    {
      "cell_type": "code",
      "source": [
        "2+A ##Broadcating\n",
        "# 2*np.ones(A.shape)+A"
      ],
      "metadata": {
        "colab": {
          "base_uri": "https://localhost:8080/"
        },
        "id": "DagHcmzD44Cs",
        "outputId": "27a49253-1da1-4c7b-8b79-093813f5a2ea"
      },
      "execution_count": 26,
      "outputs": [
        {
          "output_type": "execute_result",
          "data": {
            "text/plain": [
              "array([[4, 3],\n",
              "       [4, 9],\n",
              "       [3, 4]])"
            ]
          },
          "metadata": {},
          "execution_count": 26
        }
      ]
    },
    {
      "cell_type": "markdown",
      "source": [
        "### Subtraction"
      ],
      "metadata": {
        "id": "1n9fIh6D48oO"
      }
    },
    {
      "cell_type": "code",
      "source": [
        "A-B"
      ],
      "metadata": {
        "colab": {
          "base_uri": "https://localhost:8080/"
        },
        "id": "94y5PVnS4-nD",
        "outputId": "1725981c-db5f-4eaf-e323-3921dcf061ae"
      },
      "execution_count": 27,
      "outputs": [
        {
          "output_type": "execute_result",
          "data": {
            "text/plain": [
              "array([[-6, -7],\n",
              "       [-7, -2],\n",
              "       [-8, -2]])"
            ]
          },
          "metadata": {},
          "execution_count": 27
        }
      ]
    },
    {
      "cell_type": "code",
      "source": [
        "3-B == 3*np.ones(B.shape)-B"
      ],
      "metadata": {
        "colab": {
          "base_uri": "https://localhost:8080/"
        },
        "id": "EMf91iUd5E7B",
        "outputId": "cd0e5299-7ba9-45d9-9913-8260afb168a1"
      },
      "execution_count": 28,
      "outputs": [
        {
          "output_type": "execute_result",
          "data": {
            "text/plain": [
              "array([[ True,  True],\n",
              "       [ True,  True],\n",
              "       [ True,  True]])"
            ]
          },
          "metadata": {},
          "execution_count": 28
        }
      ]
    },
    {
      "cell_type": "markdown",
      "source": [
        "### Element-wise Multiplication"
      ],
      "metadata": {
        "id": "j1snxhHu5Tr1"
      }
    },
    {
      "cell_type": "code",
      "source": [
        "A*B"
      ],
      "metadata": {
        "colab": {
          "base_uri": "https://localhost:8080/"
        },
        "id": "881qQF2g5Yai",
        "outputId": "8a2bf6b1-3404-441f-d341-dba6c7ec43b9"
      },
      "execution_count": 29,
      "outputs": [
        {
          "output_type": "execute_result",
          "data": {
            "text/plain": [
              "array([[16,  8],\n",
              "       [18, 63],\n",
              "       [ 9,  8]])"
            ]
          },
          "metadata": {},
          "execution_count": 29
        }
      ]
    },
    {
      "cell_type": "code",
      "source": [
        "2*A"
      ],
      "metadata": {
        "colab": {
          "base_uri": "https://localhost:8080/"
        },
        "id": "4O4zNYhC5dcr",
        "outputId": "ffb597d3-7673-426c-9e1f-744c3f60dd56"
      },
      "execution_count": 30,
      "outputs": [
        {
          "output_type": "execute_result",
          "data": {
            "text/plain": [
              "array([[ 4,  2],\n",
              "       [ 4, 14],\n",
              "       [ 2,  4]])"
            ]
          },
          "metadata": {},
          "execution_count": 30
        }
      ]
    },
    {
      "cell_type": "code",
      "source": [
        "A@B"
      ],
      "metadata": {
        "colab": {
          "base_uri": "https://localhost:8080/",
          "height": 172
        },
        "id": "Joz5TjiX5fv7",
        "outputId": "64e3c7f3-f2c5-4b5d-cc2d-45d74591efc8"
      },
      "execution_count": 31,
      "outputs": [
        {
          "output_type": "error",
          "ename": "ValueError",
          "evalue": "ignored",
          "traceback": [
            "\u001b[0;31m---------------------------------------------------------------------------\u001b[0m",
            "\u001b[0;31mValueError\u001b[0m                                Traceback (most recent call last)",
            "\u001b[0;32m<ipython-input-31-5016aafd2858>\u001b[0m in \u001b[0;36m<module>\u001b[0;34m()\u001b[0m\n\u001b[0;32m----> 1\u001b[0;31m \u001b[0mA\u001b[0m\u001b[0;34m@\u001b[0m\u001b[0mB\u001b[0m\u001b[0;34m\u001b[0m\u001b[0;34m\u001b[0m\u001b[0m\n\u001b[0m",
            "\u001b[0;31mValueError\u001b[0m: matmul: Input operand 1 has a mismatch in its core dimension 0, with gufunc signature (n?,k),(k,m?)->(n?,m?) (size 3 is different from 2)"
          ]
        }
      ]
    },
    {
      "cell_type": "code",
      "source": [
        "alpha=10**-10\n",
        "A/(alpha+B)"
      ],
      "metadata": {
        "colab": {
          "base_uri": "https://localhost:8080/"
        },
        "id": "hm2wYG6Z8SiE",
        "outputId": "6255b86a-818c-48d7-da27-2b0812721294"
      },
      "execution_count": 32,
      "outputs": [
        {
          "output_type": "execute_result",
          "data": {
            "text/plain": [
              "array([[0.25      , 0.125     ],\n",
              "       [0.22222222, 0.77777778],\n",
              "       [0.11111111, 0.5       ]])"
            ]
          },
          "metadata": {},
          "execution_count": 32
        }
      ]
    },
    {
      "cell_type": "code",
      "source": [
        "np.add(A,B)"
      ],
      "metadata": {
        "colab": {
          "base_uri": "https://localhost:8080/"
        },
        "id": "IYFS552z8fAF",
        "outputId": "9dd90a16-521d-458f-d5af-c6f6f0254893"
      },
      "execution_count": 33,
      "outputs": [
        {
          "output_type": "execute_result",
          "data": {
            "text/plain": [
              "array([[10,  9],\n",
              "       [11, 16],\n",
              "       [10,  6]])"
            ]
          },
          "metadata": {},
          "execution_count": 33
        }
      ]
    },
    {
      "cell_type": "markdown",
      "source": [
        "## Activity"
      ],
      "metadata": {
        "id": "3HkObSCL8jvE"
      }
    },
    {
      "cell_type": "markdown",
      "source": [
        "### Task 1\n",
        "Create a function named `mat_desc()` that througouhly describes a matrix, it should: <br>\n",
        "1. Displays the shape, size, and rank of the matrix. <br>\n",
        "2. Displays whether the matrix is square or non-square. <br>\n",
        "3. Displays whether the matrix is an empty matrix. <br>\n",
        "4. Displays if the matrix is an identity, ones, or zeros matrix <br>\n",
        "   \n",
        "Use 5 sample matrices in which their shapes are not lower than $(3,3)$.\n",
        "In your methodology, create a flowchart discuss the functions and methods you have done. Present your results in the results section showing the description of each matrix you have declared."
      ],
      "metadata": {
        "id": "YODU81rM9Zyd"
      }
    },
    {
      "cell_type": "code",
      "source": [
        "## Function Area\n",
        "def mat_desc(matrix):\n",
        "  if matrix.size > 0:\n",
        "    is_square = True if matrix.shape[0] == matrix.shape[1] else False\n",
        "    print(f'Matrix:\\n{matrix}\\n\\nShape:\\t{matrix.shape}\\nRank:\\t{matrix.ndim}\\nIs it Square: {is_square}\\n')\n",
        "  else:\n",
        "    print('\\nMatrix is null\\n\\n')"
      ],
      "metadata": {
        "id": "Sjut-xUJ9hLO"
      },
      "execution_count": 34,
      "outputs": []
    },
    {
      "cell_type": "code",
      "source": [
        "## Matrix Declarations\n",
        "O = np.array([\n",
        "    [1, 4, 8, 5],\n",
        "    [1, 1, 2, 7],\n",
        "    [0, 4, 1, 2]\n",
        "])\n",
        "\n",
        "P = np.array([\n",
        "    [3, 2, 6],\n",
        "    [8, 1, 3],\n",
        "    [1, 1, 4],\n",
        "    [5, 2, 2]\n",
        "])\n",
        "\n",
        "null_mat = np.array([])\n",
        "\n",
        "R = np.array([\n",
        "    [7, 7, 7],\n",
        "    [7, 7, 7],\n",
        "    [7, 7, 7]\n",
        "])\n",
        "\n",
        "S = np.array([\n",
        "    [8, 8, 8, 8],\n",
        "    [8, 8, 8, 8],\n",
        "    [8, 8, 8, 8],\n",
        "    [8, 8, 8, 8]\n",
        "])"
      ],
      "metadata": {
        "id": "ceVcpqBa9q3w"
      },
      "execution_count": 35,
      "outputs": []
    },
    {
      "cell_type": "code",
      "source": [
        "## Test Areas\n",
        "mat_desc(O)\n",
        "\n",
        "mat_desc(P)\n",
        "\n",
        "mat_desc(null_mat)\n",
        "\n",
        "mat_desc(R)\n",
        "\n",
        "mat_desc(S)"
      ],
      "metadata": {
        "colab": {
          "base_uri": "https://localhost:8080/"
        },
        "id": "u4XVS96O-SDh",
        "outputId": "8857616a-62e6-4475-ef5a-c14a70797492"
      },
      "execution_count": 36,
      "outputs": [
        {
          "output_type": "stream",
          "name": "stdout",
          "text": [
            "Matrix:\n",
            "[[1 4 8 5]\n",
            " [1 1 2 7]\n",
            " [0 4 1 2]]\n",
            "\n",
            "Shape:\t(3, 4)\n",
            "Rank:\t2\n",
            "Is it Square: False\n",
            "\n",
            "Matrix:\n",
            "[[3 2 6]\n",
            " [8 1 3]\n",
            " [1 1 4]\n",
            " [5 2 2]]\n",
            "\n",
            "Shape:\t(4, 3)\n",
            "Rank:\t2\n",
            "Is it Square: False\n",
            "\n",
            "\n",
            "Matrix is null\n",
            "\n",
            "\n",
            "Matrix:\n",
            "[[7 7 7]\n",
            " [7 7 7]\n",
            " [7 7 7]]\n",
            "\n",
            "Shape:\t(3, 3)\n",
            "Rank:\t2\n",
            "Is it Square: True\n",
            "\n",
            "Matrix:\n",
            "[[8 8 8 8]\n",
            " [8 8 8 8]\n",
            " [8 8 8 8]\n",
            " [8 8 8 8]]\n",
            "\n",
            "Shape:\t(4, 4)\n",
            "Rank:\t2\n",
            "Is it Square: True\n",
            "\n"
          ]
        }
      ]
    },
    {
      "cell_type": "markdown",
      "source": [
        "### Task 2\n",
        "Create a function named `mat_operations()` that takes in two matrices an input parameters it should:<br>\n",
        " 1. Determines if the matrices are viable for operation and returns your own error message if they are not viable.\n",
        " 2. Returns the sum of the matrices.\n",
        " 3. Returns the difference of the matrices.\n",
        " 4. Returns the element-wise multiplication of the matrices.\n",
        " 5. Returns the element-wise division of the matrices.\n",
        "\n",
        "Use 5 sample matrices in which their shapes are not lower than $(3,3)$.\n",
        "In your methodology, create a flowchart discuss the functions and methods you have done. Present your results in the results section showing the description of each matrix you have declared."
      ],
      "metadata": {
        "id": "7n9GBYsW_cl1"
      }
    },
    {
      "cell_type": "code",
      "source": [
        "\n",
        "print(\"Enter Row and Column Size of 1st Matrix: \", end=\"\")\n",
        "rowOne = int(input())\n",
        "colOne = int(input())\n",
        "print(\"Enter Row and Column Size of 2nd Matrix: \", end=\"\")\n",
        "rowTwo = int(input())\n",
        "colTwo = int(input())\n",
        "\n",
        "if rowOne==rowTwo and colOne==colTwo:\n",
        "    mat_addOne = []\n",
        "    print(\"\\nEnter \" +str(rowOne*colOne)+ \" Elements for 1st Matrix: \")\n",
        "    for i in range(rowOne):\n",
        "        mat_addOne.append([])\n",
        "        for j in range(colOne):\n",
        "            num = int(input())\n",
        "            mat_addOne[i].append(num)\n",
        "\n",
        "    mat_addTwo = []\n",
        "    print(\"\\nEnter \" +str(rowTwo*colTwo)+ \" Elements for 2nd Matrix: \")\n",
        "    for i in range(rowTwo):\n",
        "        mat_addTwo.append([])\n",
        "        for j in range(colTwo):\n",
        "            num = int(input())\n",
        "            mat_addTwo[i].append(num)\n",
        "\n",
        "    mat_addThree = []\n",
        "    for i in range(rowOne):\n",
        "        mat_addThree.append([])\n",
        "        for j in range(colTwo):\n",
        "            mat_addThree[i].append(mat_addOne[i][j]+mat_addTwo[i][j])\n",
        "\n",
        "    print(\"\\nAddition Result:\")\n",
        "    for i in range(rowOne):\n",
        "        for j in range(colOne):\n",
        "            print(mat_addThree[i][j], end=\" \")\n",
        "        print()\n",
        "else:\n",
        "    print(\"\\nHuy, cannot be!! Dimension Error!\")"
      ],
      "metadata": {
        "colab": {
          "base_uri": "https://localhost:8080/"
        },
        "id": "-ynbT6dp_gVs",
        "outputId": "9ed9144a-d5a7-4041-8f97-abfb361343c8"
      },
      "execution_count": 37,
      "outputs": [
        {
          "output_type": "stream",
          "name": "stdout",
          "text": [
            "Enter Row and Column Size of 1st Matrix: 4\n",
            "4\n",
            "Enter Row and Column Size of 2nd Matrix: 4\n",
            "4\n",
            "\n",
            "Enter 16 Elements for 1st Matrix: \n",
            "6\n",
            "7\n",
            "5\n",
            "3\n",
            "4\n",
            "22\n",
            "12\n",
            "54\n",
            "09\n",
            "83\n",
            "25\n",
            "53\n",
            "53\n",
            "12\n",
            "64\n",
            "99\n",
            "\n",
            "Enter 16 Elements for 2nd Matrix: \n",
            "99\n",
            "88\n",
            "77\n",
            "66\n",
            "55\n",
            "44\n",
            "33\n",
            "22\n",
            "11\n",
            "31\n",
            "24\n",
            "35\n",
            "46\n",
            "57\n",
            "68\n",
            "79\n",
            "\n",
            "Addition Result:\n",
            "105 95 82 69 \n",
            "59 66 45 76 \n",
            "20 114 49 88 \n",
            "99 69 132 178 \n"
          ]
        }
      ]
    },
    {
      "cell_type": "code",
      "source": [
        "print(\"Enter Row and Column Size of 1st Matrix: \", end=\"\")\n",
        "rowOne = int(input())\n",
        "colOne = int(input())\n",
        "print(\"Enter Row and Column Size of 2nd Matrix: \", end=\"\")\n",
        "rowTwo = int(input())\n",
        "colTwo = int(input())\n",
        "\n",
        "if rowOne==rowTwo and colOne==colTwo:\n",
        "    mat_subOne = []\n",
        "    print(\"\\nEnter \" +str(rowOne*colOne)+ \" Elements for 1st Matrix: \")\n",
        "    for i in range(rowOne):\n",
        "        mat_subOne.append([])\n",
        "        for j in range(colOne):\n",
        "            num = int(input())\n",
        "            mat_subOne[i].append(num)\n",
        "\n",
        "    mat_subTwo = []\n",
        "    print(\"\\nEnter \" +str(rowTwo*colTwo)+ \" Elements for 2nd Matrix: \")\n",
        "    for i in range(rowTwo):\n",
        "        mat_subTwo.append([])\n",
        "        for j in range(colTwo):\n",
        "            num = int(input())\n",
        "            mat_subTwo[i].append(num)\n",
        "\n",
        "    mat_subThree = []\n",
        "    for i in range(rowOne):\n",
        "        mat_subThree.append([])\n",
        "        for j in range(colTwo):\n",
        "            mat_subThree[i].append(mat_subOne[i][j]-mat_subTwo[i][j])\n",
        "\n",
        "    print(\"\\nSubtraction Result:\")\n",
        "    for i in range(rowOne):\n",
        "        for j in range(colOne):\n",
        "            print(mat_subThree[i][j], end=\" \")\n",
        "        print()\n",
        "else:\n",
        "    print(\"\\nSomething is wrong hmm. There is a dimension error.\")"
      ],
      "metadata": {
        "colab": {
          "base_uri": "https://localhost:8080/"
        },
        "id": "6FTUEDY1A9p_",
        "outputId": "3c5f4cbe-e332-40e4-932a-8f809aa36d16"
      },
      "execution_count": 38,
      "outputs": [
        {
          "output_type": "stream",
          "name": "stdout",
          "text": [
            "Enter Row and Column Size of 1st Matrix: 44\n",
            "4\n",
            "Enter Row and Column Size of 2nd Matrix: 4\n",
            "4\n",
            "\n",
            "Something is wrong hmm. There is a dimension error.\n"
          ]
        }
      ]
    },
    {
      "cell_type": "code",
      "source": [
        "print(\"Enter the Row Size of 1st Matrix: \", end=\"\")\n",
        "try:\n",
        "    rOne = int(input())\n",
        "    print(\"Enter the Column Size of 1st Matrix: \", end=\"\")\n",
        "    try:\n",
        "        cOne = int(input())\n",
        "        print(\"Enter \" +str(rOne * cOne)+ \" Elements: \", end=\"\")\n",
        "        mat_multOne = []\n",
        "        for i in range(rOne):\n",
        "            mat_multOne.append([])\n",
        "            for j in range(cOne):\n",
        "                try:\n",
        "                    num = int(input())\n",
        "                    mat_multOne[i].append(num)\n",
        "                except ValueError:\n",
        "                    print(\"\\nCheck again!! Invalid Input!\")\n",
        "                    exit()\n",
        "        print(\"\\nEnter Row Size of 2nd Matrix: \", end=\"\")\n",
        "        try:\n",
        "            rTwo = int(input())\n",
        "            if cOne == rTwo:\n",
        "                print(\"Enter Column Size of Second Matrix: \", end=\"\")\n",
        "                try:\n",
        "                    cTwo = int(input())\n",
        "                    print(\"Enter \" +str(rTwo * cTwo)+ \" Elements: \", end=\"\")\n",
        "                    mat_multTwo = []\n",
        "                    for i in range(rTwo):\n",
        "                        mat_multTwo.append([])\n",
        "                        for j in range(cTwo):\n",
        "                            try:\n",
        "                                num = int(input())\n",
        "                                mat_multTwo[i].append(num)\n",
        "                            except ValueError:\n",
        "                                print(\"\\nCheck again!! Invalid Input!\")\n",
        "                                exit()\n",
        "\n",
        "                    mat_multThree = []\n",
        "                    for i in range(rOne):\n",
        "                        mat_multThree.append([])\n",
        "                        for j in range(cTwo):\n",
        "                            sum = 0\n",
        "                            for k in range(cOne):\n",
        "                                sum = sum + (mat_multOne[i][k] * mat_multTwo[k][j])\n",
        "                            mat_multThree[i].append(sum)\n",
        "\n",
        "                    print(\"\\nMultiplication Result of Two Given Matrix is:\")\n",
        "                    for i in range(rOne):\n",
        "                        for j in range(cTwo):\n",
        "                            print(mat_multThree[i][j], end=\" \")\n",
        "                        print()\n",
        "                except ValueError:\n",
        "                    print(\"\\nCheck again!! Invalid Column Size!\")\n",
        "            else:\n",
        "                print(\"\\nCheck again!! Multiplication not possible!\")\n",
        "        except ValueError:\n",
        "            print(\"\\nCheck Again!! Invalid Row Size!\")\n",
        "    except ValueError:\n",
        "        print(\"\\nCheck again!! Invalid Column Size!\")\n",
        "except ValueError:\n",
        "    print(\"\\nCheck again!! Invalid Row Size!\")"
      ],
      "metadata": {
        "colab": {
          "base_uri": "https://localhost:8080/"
        },
        "id": "ZgNw6IVxDEk3",
        "outputId": "2d23190f-63dd-426d-b580-f5955dcc0fcf"
      },
      "execution_count": 39,
      "outputs": [
        {
          "output_type": "stream",
          "name": "stdout",
          "text": [
            "Enter the Row Size of 1st Matrix: 4\n",
            "Enter the Column Size of 1st Matrix: 4\n",
            "Enter 16 Elements: 100\n",
            "102\n",
            "103\n",
            "109\n",
            "111\n",
            "123\n",
            "678\n",
            "863\n",
            "123\n",
            "24\n",
            "356\n",
            "234\n",
            "543\n",
            "72\n",
            "52\n",
            "13\n",
            "\n",
            "Enter Row Size of 2nd Matrix: 4\n",
            "Enter Column Size of Second Matrix: 4\n",
            "Enter 16 Elements: 1\n",
            "2\n",
            "3\n",
            "4\n",
            "5\n",
            "6\n",
            "7\n",
            "8\n",
            "9\n",
            "0\n",
            "11\n",
            "22\n",
            "33\n",
            "44\n",
            "55\n",
            "56\n",
            "\n",
            "Multiplication Result of Two Given Matrix is:\n",
            "5134 5608 8142 9586 \n",
            "35307 38932 56117 64672 \n",
            "11169 10686 17323 21620 \n",
            "1800 2090 3420 4620 \n"
          ]
        }
      ]
    }
  ]
}