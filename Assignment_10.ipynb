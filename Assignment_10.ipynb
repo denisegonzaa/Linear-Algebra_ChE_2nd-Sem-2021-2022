{
  "nbformat": 4,
  "nbformat_minor": 0,
  "metadata": {
    "colab": {
      "name": "Assignment 10",
      "provenance": [],
      "authorship_tag": "ABX9TyOF70SJdiW6a/WrvM+aYb2l",
      "include_colab_link": true
    },
    "kernelspec": {
      "name": "python3",
      "display_name": "Python 3"
    },
    "language_info": {
      "name": "python"
    }
  },
  "cells": [
    {
      "cell_type": "markdown",
      "metadata": {
        "id": "view-in-github",
        "colab_type": "text"
      },
      "source": [
        "<a href=\"https://colab.research.google.com/github/denisegonzaa/Linear-Algebra_ChE_2nd-Sem-2021-2022/blob/main/Assignment_10.ipynb\" target=\"_parent\"><img src=\"https://colab.research.google.com/assets/colab-badge.svg\" alt=\"Open In Colab\"/></a>"
      ]
    },
    {
      "cell_type": "markdown",
      "source": [
        "# Linear Algebra for ECE\n",
        "## Laboratory 10 : Linear Combination and Vector Spaces"
      ],
      "metadata": {
        "id": "85mt0Jz-BuMg"
      }
    },
    {
      "cell_type": "markdown",
      "source": [
        "Now that you have a fundamental knowledge about linear combination, we'll try to visualize it using scientific programming."
      ],
      "metadata": {
        "id": "sYfGRi-SBxe1"
      }
    },
    {
      "cell_type": "markdown",
      "source": [
        "### Objectives\n",
        "At the end of this activity you will be able to:\n",
        "1. Be familiar with representing linear combinations in the 2-dimensional plane.\n",
        "2. Visualize spans using vector fields in Python.\n",
        "3. Perform vector fields operations using scientific programming."
      ],
      "metadata": {
        "id": "Dhe7w98gB2Ku"
      }
    },
    {
      "cell_type": "markdown",
      "source": [
        "## Discussion"
      ],
      "metadata": {
        "id": "D0BncjCfB4-f"
      }
    },
    {
      "cell_type": "code",
      "source": [
        "import numpy as np\n",
        "import matplotlib.pyplot as plt\n",
        "%matplotlib inline"
      ],
      "metadata": {
        "id": "t8gmfyxyB8NF"
      },
      "execution_count": null,
      "outputs": []
    },
    {
      "cell_type": "markdown",
      "source": [
        "## Linear Combination\n",
        "It is said that a linear combination is the combination of linear scaling and addition of a vector its bases/components"
      ],
      "metadata": {
        "id": "5clTA_VnCArF"
      }
    },
    {
      "cell_type": "markdown",
      "source": [
        "We will try to visualize the vectors and their linear combinations by plotting a sample of real number values for the scalars for the vectors. Let's first try the vectors below:\n",
        "$$X = \\begin{bmatrix} 2\\\\5 \\\\\\end{bmatrix} , Y = \\begin{bmatrix} 7\\\\9 \\\\\\end{bmatrix} $$"
      ],
      "metadata": {
        "id": "NDYZxmk3CC13"
      }
    },
    {
      "cell_type": "code",
      "source": [
        "vectX =  np.array([2,5])\n",
        "vectY =  np.array([7,9])"
      ],
      "metadata": {
        "id": "PYVXVIa2CI4V"
      },
      "execution_count": null,
      "outputs": []
    },
    {
      "cell_type": "markdown",
      "source": [
        "#### Span of single vectors\n",
        "\n",
        "As discussed in the lecture, the span of individual vectors can be represented by a line span. Let's take vector $X$ as an example.\n",
        "\n",
        "$$X = c\\cdot \\begin{bmatrix} 2\\\\5 \\\\\\end{bmatrix} $$"
      ],
      "metadata": {
        "id": "AovHVULECLpd"
      }
    },
    {
      "cell_type": "code",
      "source": [
        "c = np.arange(-10,10,0.125)\n",
        "\n",
        "plt.scatter(c*vectX[0],c*vectX[1])\n",
        "\n",
        "plt.xlim(-10,10)\n",
        "plt.ylim(-10,10)\n",
        "plt.axhline(y=0, color='brown')\n",
        "plt.axvline(x=0, color='blue')\n",
        "plt.grid()\n",
        "plt.show()"
      ],
      "metadata": {
        "colab": {
          "base_uri": "https://localhost:8080/",
          "height": 269
        },
        "id": "zZWqdHXNCe2Y",
        "outputId": "388a9240-4538-4969-befa-c9aa9f3569e0"
      },
      "execution_count": null,
      "outputs": [
        {
          "output_type": "display_data",
          "data": {
            "text/plain": [
              "<Figure size 432x288 with 1 Axes>"
            ],
            "image/png": "[encoded data removed]"
          },
          "metadata": {
            "needs_background": "light"
          }
        }
      ]
    },
    {
      "cell_type": "code",
      "source": [
        "c = np.arange(-15,15,0.5)\n",
        "\n",
        "plt.scatter(c*vectY[0],c*vectY[1])\n",
        "\n",
        "plt.xlim(-20,20)\n",
        "plt.ylim(-20,20)\n",
        "plt.axhline(y=0, color='orange')\n",
        "plt.axvline(x=0, color='green')\n",
        "plt.grid()\n",
        "plt.show()"
      ],
      "metadata": {
        "colab": {
          "base_uri": "https://localhost:8080/",
          "height": 269
        },
        "id": "Zr92WfH4Ci2t",
        "outputId": "6b3ce354-4a74-4ddc-8f5a-684c53b9317c"
      },
      "execution_count": null,
      "outputs": [
        {
          "output_type": "display_data",
          "data": {
            "text/plain": [
              "<Figure size 432x288 with 1 Axes>"
            ],
            "image/png": "[encoded data removed]"
          },
          "metadata": {
            "needs_background": "light"
          }
        }
      ]
    },
    {
      "cell_type": "markdown",
      "source": [
        "### Span of a linear combination of vectors\n",
        "\n",
        "So what if we are to plot the span of a linear combination of vectors? We can visualize as a plane on the 2-dimensional coordinate system. Let's take the span of the linear combination below:"
      ],
      "metadata": {
        "id": "bNwJZpxyCk5F"
      }
    },
    {
      "cell_type": "markdown",
      "source": [
        "$$S = \\begin{Bmatrix} c_1 \\cdot\\begin{bmatrix} 1\\\\0 \\\\\\end{bmatrix}, \n",
        "c_2 \\cdot \\begin{bmatrix} 1\\\\-1 \\\\\\end{bmatrix}\\end{Bmatrix} $$"
      ],
      "metadata": {
        "id": "ny3k-R_zCq5-"
      }
    },
    {
      "cell_type": "code",
      "source": [
        "vectA = np.array([1,0])\n",
        "vectB = np.array([1,-1])\n",
        "\n",
        "R = np.arange(-10,10,1)\n",
        "\n",
        "c1, c2 = np.meshgrid(R,R)\n",
        "\n",
        "vectR = vectA + vectB\n",
        "spanRx = c1*vectA[0] + c2*vectB[0]\n",
        "spanRy = c1*vectA[1] + c2*vectB[1]\n",
        "##plt.scatter(R*vectA[0],R*vectA[1])\n",
        "##plt.scatter(R*vectB[0],R*vectB[1])\n",
        "plt.scatter(spanRx,spanRy, s=5, alpha=0.75)\n",
        "\n",
        "plt.axhline(y=0, color='green')\n",
        "plt.axvline(x=0, color='pink')\n",
        "plt.grid()\n",
        "plt.show()"
      ],
      "metadata": {
        "colab": {
          "base_uri": "https://localhost:8080/",
          "height": 265
        },
        "id": "nJ-HLwf6Cvh8",
        "outputId": "9d359363-04ff-4a7c-c2d9-74620829e2ff"
      },
      "execution_count": null,
      "outputs": [
        {
          "output_type": "display_data",
          "data": {
            "text/plain": [
              "<Figure size 432x288 with 1 Axes>"
            ],
            "image/png": "[encoded data removed]"
          },
          "metadata": {
            "needs_background": "light"
          }
        }
      ]
    },
    {
      "cell_type": "code",
      "source": [
        "vectP = np.array([2,1])\n",
        "vectQ = np.array([4,3])\n",
        "\n",
        "R = np.arange(-10,10,1)\n",
        "\n",
        "c1, c2 = np.meshgrid(R,R)\n",
        "\n",
        "vectR = vectP + vectQ\n",
        "spanRx = c1*vectP[0] + c2*vectQ[0]\n",
        "spanRy = c1*vectP[1] + c2*vectQ[1]\n",
        "##plt.scatter(R*vectA[0],R*vectA[1])\n",
        "##plt.scatter(R*vectB[0],R*vectB[1])\n",
        "plt.scatter(spanRx,spanRy, s=5, alpha=0.75)\n",
        "\n",
        "plt.axhline(y=0, color='orange')\n",
        "plt.axvline(x=0, color='yellow')\n",
        "plt.grid()\n",
        "plt.show()"
      ],
      "metadata": {
        "colab": {
          "base_uri": "https://localhost:8080/",
          "height": 265
        },
        "id": "ZwdQ-6lrCxtV",
        "outputId": "33bcb7bd-bd1e-49fa-b98a-b6d420f31225"
      },
      "execution_count": null,
      "outputs": [
        {
          "output_type": "display_data",
          "data": {
            "text/plain": [
              "<Figure size 432x288 with 1 Axes>"
            ],
            "image/png": "[encoded data removed]"
          },
          "metadata": {
            "needs_background": "light"
          }
        }
      ]
    },
    {
      "cell_type": "markdown",
      "source": [
        "Take note that if vectors are seen to be as a 2-dimensional span we can say it has a Rank of 2 or $\\mathbb{R}^2$. But if the span of the linear combination of vectors are seen to be like a line, they are said to be <b> linearly dependent </b> and they have a rank of 1 or $\\mathbb{R}^1$."
      ],
      "metadata": {
        "id": "LyZCjUJCC2c3"
      }
    },
    {
      "cell_type": "markdown",
      "source": [
        "# Activity"
      ],
      "metadata": {
        "id": "8p5AqQSiC3el"
      }
    },
    {
      "cell_type": "markdown",
      "source": [
        "### Task 1\n",
        "Try different linear combinations using different scalar values. In your methodology discuss the different functions that you have used, the  linear equation and vector form of the linear combination, and the flowchart for declaring and displaying linear combinations. Please make sure that your flowchart has only few words and not putting the entire code as it is bad practice. In your results, display and discuss the linear combination visualization you made. You should use the cells below for displaying the equation markdows using LaTeX and your code."
      ],
      "metadata": {
        "id": "gjyNgCw2C68O"
      }
    },
    {
      "cell_type": "markdown",
      "source": [
        "\n",
        "$$ A = 17\\hat{x} - 18\\hat{y} \\\\\n",
        "B = -8\\hat{x} + 4\\hat{y}$$"
      ],
      "metadata": {
        "id": "rKeS3xLRC_5N"
      }
    },
    {
      "cell_type": "markdown",
      "source": [
        "$$A = \\begin{bmatrix} 17\\\\-18 \\\\\\end{bmatrix} , B = \\begin{bmatrix} -8\\\\4 \\\\\\end{bmatrix} $$\n",
        "\n",
        "$$A = c\\cdot \\begin{bmatrix} 17\\\\-18 \\\\\\end{bmatrix} , B = c\\cdot \\begin{bmatrix} -8\\\\4 \\\\\\end{bmatrix} $$"
      ],
      "metadata": {
        "id": "rmZXzGXADDBV"
      }
    },
    {
      "cell_type": "code",
      "source": [
        "### TYPE YOU CODE FOR TASK 1 HERE\n",
        "vectA =  np.array([17,-18])\n",
        "vectB =  np.array([-8,4])"
      ],
      "metadata": {
        "id": "VnwET-keDGV4"
      },
      "execution_count": null,
      "outputs": []
    },
    {
      "cell_type": "code",
      "source": [
        "c = np.arange(-50,30,0.5)\n",
        "\n",
        "plt.scatter(c*vectA[0],c*vectA[1])\n",
        "\n",
        "plt.xlim(-30,30)\n",
        "plt.ylim(-30,30)\n",
        "plt.axhline(y=0, color='blue')\n",
        "plt.axvline(x=0, color='green')\n",
        "plt.grid()\n",
        "plt.show()"
      ],
      "metadata": {
        "colab": {
          "base_uri": "https://localhost:8080/",
          "height": 269
        },
        "id": "_8LYg486MopB",
        "outputId": "5add2ba9-2456-4a5e-b786-08b0d1eb0571"
      },
      "execution_count": null,
      "outputs": [
        {
          "output_type": "display_data",
          "data": {
            "text/plain": [
              "<Figure size 432x288 with 1 Axes>"
            ],
            "image/png": "[encoded data removed]"
          },
          "metadata": {
            "needs_background": "light"
          }
        }
      ]
    },
    {
      "cell_type": "code",
      "source": [
        "c = np.arange(0,10,0.4)\n",
        "\n",
        "plt.scatter(c*vectB[0],c*vectB[1])\n",
        "\n",
        "plt.xlim(-20,20)\n",
        "plt.ylim(-20,20)\n",
        "plt.axhline(y=0, color='red')\n",
        "plt.axvline(x=0, color='pink')\n",
        "plt.grid()\n",
        "plt.show()"
      ],
      "metadata": {
        "colab": {
          "base_uri": "https://localhost:8080/",
          "height": 269
        },
        "id": "xNXFsdjmMsDo",
        "outputId": "3b2894dd-9115-4b3d-a267-1c5f8c45341a"
      },
      "execution_count": null,
      "outputs": [
        {
          "output_type": "display_data",
          "data": {
            "text/plain": [
              "<Figure size 432x288 with 1 Axes>"
            ],
            "image/png": "[encoded data removed]"
          },
          "metadata": {
            "needs_background": "light"
          }
        }
      ]
    },
    {
      "cell_type": "markdown",
      "source": [
        "$$ C = 4\\hat{x} - 17\\hat{y} \\\\\n",
        "D = -5\\hat{x} + 10\\hat{y}$$\n",
        "\n",
        "$$S = \\begin{Bmatrix} c_1 \\cdot\\begin{bmatrix} 4\\\\-17 \\\\\\end{bmatrix}, \n",
        "c_2 \\cdot \\begin{bmatrix} -5\\\\10 \\\\\\end{bmatrix}\\end{Bmatrix} $$"
      ],
      "metadata": {
        "id": "lriRlK9oMwIA"
      }
    },
    {
      "cell_type": "code",
      "source": [
        "vectC = np.array([4,-17])\n",
        "vectD = np.array([-5,10])"
      ],
      "metadata": {
        "id": "ruZNDFSnMxBQ"
      },
      "execution_count": null,
      "outputs": []
    },
    {
      "cell_type": "code",
      "source": [
        "R = np.arange(-10,10,0.5)\n",
        "\n",
        "c1, c2 = np.meshgrid(R,R)\n",
        "\n",
        "vectR = vectC + vectD\n",
        "spanRx = c1*vectC[0] + c2*vectD[0]\n",
        "spanRy = c1*vectC[1] + c2*vectD[1]\n",
        "plt.scatter(spanRx,spanRy, s=5, alpha=0.5)\n",
        "\n",
        "plt.axhline(y=0, color='brown')\n",
        "plt.axvline(x=0, color='orange')\n",
        "plt.grid()"
      ],
      "metadata": {
        "id": "6fC5EiS-M0kA",
        "outputId": "ee7b2c7d-40cf-41ca-9f24-a4aff48faac0",
        "colab": {
          "base_uri": "https://localhost:8080/",
          "height": 265
        }
      },
      "execution_count": null,
      "outputs": [
        {
          "output_type": "display_data",
          "data": {
            "text/plain": [
              "<Figure size 432x288 with 1 Axes>"
            ],
            "image/png": "[encoded data removed]"
          },
          "metadata": {
            "needs_background": "light"
          }
        }
      ]
    },
    {
      "cell_type": "markdown",
      "source": [
        "Through this laboratory activity, it proved that it is easier to plot vectors through Google Colab than manually doing. With inputting codes with corresponding vector details, the program itself will automatically reveal a plane with the vector plots  by clicking “Run”. Keep in mind that codes are sensitive when inputted – some might be the same but will have a different outcome – yet  it is convenient to apply the codes if they were learned properly every time we can plot it with vectors. In applying the concept of linear combinations in real-life or engineering situations, one example of linear equations is illustrated in finding the time it takes for two cars moving toward each other at different speeds to reach the same point. Another example can be like finding which company offers the best pay –  if one company offers 450 dollars per week and the other offers 10 dollars per hour, while both ask you to work 40 hours per week, the linear equation can help you figure it out by expressing the first company's offer as 450 = 40x and the second company's offer as y = 10(40). After comparing the two offers, the equations tell you that the first company is offering a better rate of pay at 11.25 dollars per hour.\n"
      ],
      "metadata": {
        "id": "o4DqKOdZDMR9"
      }
    }
  ]
}